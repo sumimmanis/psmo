{
 "cells": [
  {
   "cell_type": "markdown",
   "metadata": {
    "id": "FFrP6GiU9ceW"
   },
   "source": [
    "# bootstrap"
   ]
  },
  {
   "cell_type": "markdown",
   "metadata": {
    "id": "vvFF-OaJkS0_"
   },
   "source": [
    "* $\\theta$ - истинное значение статистики\n",
    "* $\\theta^*$ - распределение значений статистики по бутстрапированной выборке\n",
    "* $\\hat{\\theta}$ - значение статистики по исходной выборке\n",
    "* $\\alpha$ - вероятность ошибки первого рода\n",
    "* $\\hat{se^*}_{\\theta^*}$ - стандартное отклонение бутстрап-выборки по конкретной бутстрап-выборке))))\n",
    "* ${\\widetilde{\\alpha}/2}, {1-\\widetilde{\\alpha}/2}$ - специальные квантили для BCa bootstrap\n",
    "* $\\hat{se}_{\\theta^*}$ - стандартное отклонение статистики по бутстрапированной выборке\n",
    "\n",
    "$\\begin{array}{|c|c|c|c|}\n",
    "\\hline Тип & ДИ & \\text {Плюсы} & \\text {Минусы}\\\\\n",
    "\\hline \\text {Наивный / percentile}\n",
    " & [\\theta^*_{\\alpha/2}; \\theta^*_{1-\\alpha/2}] &\n",
    " \\text {Интуитивно понятный} &\n",
    "\\text{Ломается при смещённом значении бутстрап-статистики} \\\\\n",
    "\\hline \\text {Базовый / reverse percentile}\n",
    " & [2\\hat{\\theta}-\\theta^*_{1-\\alpha/2}; 2\\hat{\\theta}-\\theta^*_{\\alpha/2}] &\n",
    "  \\text {Математически обоснован} &\n",
    "  \\text{Одна из границ может оказаться нелогичной} \\\\\n",
    "\\hline \\text{t-bootstrap}\n",
    " & [\\hat{\\theta}-t^*_{1-\\alpha/2}\\cdot \\hat{se^*}_{\\theta^*};\n",
    "    \\hat{\\theta}-t^*_{\\alpha/2}\\cdot \\hat{se^*}_{\\theta^*}]\n",
    "  & \\text {Все плюсы параметрических гипотез}\n",
    " & \\text{Вычислительно сложный} \\\\\n",
    "\\hline \\text{BCA bootstrap}\n",
    " & [\\hat{\\theta}_{\\widetilde{\\alpha}/2};\n",
    "    \\hat{\\theta}_{1-\\widetilde{\\alpha}/2}]\n",
    "  & \\text {Коррекция на смещение}\n",
    " & \\text{Накладывает требования на параметричность статистики} \\\\\n",
    " \\hline \\text{Normal bootstrap}\n",
    " & [\\hat{\\theta}-z^*_{1-\\alpha/2}\\cdot \\hat{se}_{\\theta^*};\n",
    "    \\hat{\\theta}-z^*_{\\alpha/2}\\cdot \\hat{se}_{\\theta^*}]\n",
    "  & \\text {Просто считать}\n",
    " & \\text{Требует асимптотически нормального распределения бутстрап-статистики} \\\\\n",
    "\\hline\n",
    "\\end{array}$\n",
    "\n",
    "[Вывод формулы для reverse percentile](https://i.imgur.com/9Isk14X.png)"
   ]
  },
  {
   "cell_type": "markdown",
   "metadata": {
    "id": "bvmre0vrB-OK"
   },
   "source": [
    "## Мотивационный пример"
   ]
  },
  {
   "cell_type": "markdown",
   "metadata": {
    "id": "IgC-k-8bB1DY"
   },
   "source": [
    "Пусть на основе выборки $X_1,$ $\\ldots$, $X_n$ мы каким-то способом получили точечную оценку неизвестного параметра $\\theta$ и обозначили её $\\hat{\\theta}$. Теперь наша цель состоит в том, чтобы построить асимптотический доверительный интервал для $\\theta$, но при этом мы не знаем, какому распределению принадлежит $\\theta$.\n",
    "\n",
    " Bootstrap предлагает оценить дисперсию $\\hat{\\theta}$ на основе тех же данных, на которых была получена сама оценка $\\hat{\\theta}$."
   ]
  },
  {
   "cell_type": "markdown",
   "metadata": {
    "id": "4Y7arBVT3-eU"
   },
   "source": [
    "Вспомним, что *построением выборки (sampling)* называется выбор элементов генеральной совокупности (какого-то множетства или распределения). Случайная выборка строится путём случайного выбора наблюдений. Случайную выборку можно строить двумя способами:\n",
    "- без возвращения (without replacement, simple random sampling),\n",
    "- с возвращением (with replacement).\n",
    "\n",
    "**Вопросы на подумать:**\n",
    "1. Можно ли рассматривать построение выборки с возвращением из множества $\\{1, 2, \\ldots, 8\\}$ как процедуру последовательного подбрасывания восьмигранной кости?\n",
    "\n",
    "*Построением boostrap-выборки (resampling)* называется **построение выборки с возвращением из эмпирического распределения**.\n",
    "\n",
    "**Пример 1:** пусть имеется набор чисел $1$, $1$, $2$, $3$, $10$, $11$, $11$, который рассматривается как выборка, взятая из какого-то распределения. Чтобы построить выборку с возвращением из эмпирического распределения, мы должны сложить эти числа в шляпу и не глядя вытаскивать их одно за другим, записывая результат и возвращая число обратно.\n",
    "\n",
    "**Формально:** пусть дана выборка $X_1$, $\\ldots$, $X_n$. Построением boostrap-выборки называется выбор номера $i$ из равновероятного на $\\{1, 2, \\ldots n\\}$ распределения и взятие $X_i$ как одного значения этой выборки.\n",
    "\n",
    "**Продолжение примера 1:** пусть мы хотим построить boostrap-выборку размера 3 для чисел из примера 1. Тогда мы можем подбросить семигранную (так как семь наблюдений) кость три раза и, например, получить:\n",
    "$$\n",
    "3, 3, 7, 1\n",
    "$$\n",
    "Тогда boostrap-выборка будет:\n",
    "$$\n",
    "2, 2, 11, 1\n",
    "$$\n",
    "\n",
    "Будем обозначать boostrap-выборку как $X_1^*$, $\\ldots$, $X_m^*$."
   ]
  },
  {
   "cell_type": "markdown",
   "metadata": {
    "id": "2FLXhHgb4XSZ"
   },
   "source": [
    "## Эмпирический bootstrap.\n",
    "\n",
    "*Выборкой эмпирического bootstrap* нызвается boostrap-выборка того же размера, что и оригинальная выборка:\n",
    "\n",
    "для выборки $X_1$, $\\ldots$, $X_n$ это $X_1^*$, $\\ldots$, $X_n^*$. Тогда boostrap говорит, что $F \\approx F^*$, а дисперсия статистики, рассчитанной на основе выборки $X$, примерно равна дисперсии статистики, рассчитанной на основе $X^*$.\n",
    "\n",
    "## Зачем это нужно?\n",
    "\n",
    "У нас есть выборка, нам кажется, что наблюдаемые значения распределены нормально, но p-value гипотезы о принадлежности наблюдаемой выборки нормальному распределению $<0.05$. Чтобы не лукавить при использовании теорем, основанных на принадлежности данного распределения нормальному, не будем принимать гипотезу и оцениваем требуемые доверительные параметров с помощью бутстрапирования, а не традиционных формул."
   ]
  },
  {
   "cell_type": "code",
   "execution_count": 50,
   "metadata": {
    "executionInfo": {
     "elapsed": 271,
     "status": "ok",
     "timestamp": 1701997144462,
     "user": {
      "displayName": "Антон Золотарев",
      "userId": "00132696149152071356"
     },
     "user_tz": -180
    },
    "id": "fM0nWM6Xo7tP"
   },
   "outputs": [],
   "source": [
    "import pandas as pd\n",
    "import numpy as np\n",
    "from scipy import stats\n",
    "\n",
    "import matplotlib.pyplot as plt\n",
    "import seaborn as sns\n",
    "sns.set()"
   ]
  },
  {
   "cell_type": "markdown",
   "metadata": {
    "id": "XiQ1iKmRo7tO"
   },
   "source": [
    "Пусть дана выборка из некоторого распределения с конечным матожиданием $\\mu$:"
   ]
  },
  {
   "cell_type": "code",
   "execution_count": 51,
   "metadata": {
    "executionInfo": {
     "elapsed": 2,
     "status": "ok",
     "timestamp": 1701997144834,
     "user": {
      "displayName": "Антон Золотарев",
      "userId": "00132696149152071356"
     },
     "user_tz": -180
    },
    "id": "9h9BvLv4o7tO"
   },
   "outputs": [],
   "source": [
    "X = [30, 37, 36, 43, 42, 43, 43, 46, 41, 42]"
   ]
  },
  {
   "cell_type": "markdown",
   "metadata": {
    "id": "LgJtNIR26YdI"
   },
   "source": [
    "### Percentile bootstrap"
   ]
  },
  {
   "cell_type": "markdown",
   "metadata": {
    "id": "3tVm8-AT6ms4"
   },
   "source": [
    "Постройте 80% доверительный интервал для $\\mu$."
   ]
  },
  {
   "cell_type": "code",
   "execution_count": 52,
   "metadata": {
    "colab": {
     "base_uri": "https://localhost:8080/",
     "height": 515
    },
    "executionInfo": {
     "elapsed": 829,
     "status": "ok",
     "timestamp": 1701997145662,
     "user": {
      "displayName": "Антон Золотарев",
      "userId": "00132696149152071356"
     },
     "user_tz": -180
    },
    "id": "N_F0pFgV6nSW",
    "outputId": "57d65661-a4d8-4189-e51d-0451227baa42"
   },
   "outputs": [
    {
     "name": "stdout",
     "output_type": "stream",
     "text": [
      "80% ДИ для среднего, построенный с помощью percentile bootstrap\n",
      "ConfidenceInterval(low=np.float64(38.4), high=np.float64(42.0))\n"
     ]
    },
    {
     "data": {
      "image/png": "[encoded data removed]",
      "text/plain": [
       "<Figure size 640x480 with 1 Axes>"
      ]
     },
     "metadata": {},
     "output_type": "display_data"
    }
   ],
   "source": [
    "res = stats.bootstrap((X, ), np.mean, confidence_level=0.8, method='percentile')\n",
    "print('80% ДИ для среднего, построенный с помощью percentile bootstrap')\n",
    "print(res.confidence_interval)\n",
    "\n",
    "fig, ax = plt.subplots()\n",
    "ax.hist(res.bootstrap_distribution, bins=20)\n",
    "ax.set_title('Percentile Bootstrap Distribution')\n",
    "ax.set_xlabel('Значение среднего')\n",
    "ax.set_ylabel('Частота')\n",
    "plt.show()"
   ]
  },
  {
   "cell_type": "markdown",
   "metadata": {
    "id": "QcVVw1p8602e"
   },
   "source": [
    "Постройте 80%-ый доверительный интервал для медианы."
   ]
  },
  {
   "cell_type": "code",
   "execution_count": 53,
   "metadata": {
    "colab": {
     "base_uri": "https://localhost:8080/",
     "height": 515
    },
    "executionInfo": {
     "elapsed": 22,
     "status": "ok",
     "timestamp": 1701997145662,
     "user": {
      "displayName": "Антон Золотарев",
      "userId": "00132696149152071356"
     },
     "user_tz": -180
    },
    "id": "B7bgoo2b61Oi",
    "outputId": "4607d78b-596f-4a13-9b01-ff9d4a333f42"
   },
   "outputs": [
    {
     "name": "stdout",
     "output_type": "stream",
     "text": [
      "80% ДИ для медианы, построенный с помощью percentile bootstrap\n",
      "ConfidenceInterval(low=np.float64(39.0), high=np.float64(43.0))\n"
     ]
    },
    {
     "data": {
      "image/png": "[encoded data removed]",
      "text/plain": [
       "<Figure size 640x480 with 1 Axes>"
      ]
     },
     "metadata": {},
     "output_type": "display_data"
    }
   ],
   "source": [
    "res = stats.bootstrap((X, ), np.median, confidence_level=0.8, method='percentile')\n",
    "print('80% ДИ для медианы, построенный с помощью percentile bootstrap')\n",
    "print(res.confidence_interval)\n",
    "\n",
    "fig, ax = plt.subplots()\n",
    "ax.hist(res.bootstrap_distribution, bins=20)\n",
    "ax.set_title('Percentile Bootstrap Distribution')\n",
    "ax.set_xlabel('Значение медианы')\n",
    "ax.set_ylabel('Частота')\n",
    "plt.show()"
   ]
  },
  {
   "cell_type": "markdown",
   "metadata": {
    "id": "wHbVcDr1o7tN"
   },
   "source": [
    "### Reverse percentile bootstrap"
   ]
  },
  {
   "cell_type": "markdown",
   "metadata": {
    "id": "bA-h78hyo7tO"
   },
   "source": [
    "Постройте 80% доверительный интервал для $\\mu$."
   ]
  },
  {
   "cell_type": "code",
   "execution_count": 54,
   "metadata": {
    "colab": {
     "base_uri": "https://localhost:8080/"
    },
    "executionInfo": {
     "elapsed": 17,
     "status": "ok",
     "timestamp": 1701997145662,
     "user": {
      "displayName": "Антон Золотарев",
      "userId": "00132696149152071356"
     },
     "user_tz": -180
    },
    "id": "rqeCII1Wo7tP",
    "outputId": "2ff99372-b04d-44aa-e3b7-cfbbc0e87acc"
   },
   "outputs": [
    {
     "data": {
      "text/plain": [
       "np.float64(40.3)"
      ]
     },
     "execution_count": 54,
     "metadata": {},
     "output_type": "execute_result"
    }
   ],
   "source": [
    "## Шаг 1: Найдите точечную оценку неизвестного параметра\n",
    "# (ML)\n",
    "mu_hat = np.mean(X)\n",
    "mu_hat"
   ]
  },
  {
   "cell_type": "markdown",
   "metadata": {
    "id": "II7JF_PCo7tP"
   },
   "source": [
    "Мы бы хотели найти распределение величины $d = \\hat{X} - \\mu$, потому что тогда мы можем построить доверительный интервал для $\\mu$ как\n",
    "$$\n",
    "P(d_{0.9} \\le \\bar{X} - \\mu \\le d_{0.1}) = 0.8 \\Rightarrow \\mu \\in [\\bar{x} - d_{0.1}; \\bar{x} - d_{0.9}].\n",
    "$$\n",
    "\n",
    "Boostrap говорит, что распределение $d$ можно приблизить распределением $d^* = \\bar{x^*} - \\bar{x}$.\n",
    "\n",
    "Удача заключается в том, что можно сгенерировать $d^*$ сколько угодно раз, а потому возможно получить достаточно точную оценку распределения $d^*$."
   ]
  },
  {
   "cell_type": "code",
   "execution_count": 55,
   "metadata": {
    "colab": {
     "base_uri": "https://localhost:8080/"
    },
    "executionInfo": {
     "elapsed": 15,
     "status": "ok",
     "timestamp": 1701997145662,
     "user": {
      "displayName": "Антон Золотарев",
      "userId": "00132696149152071356"
     },
     "user_tz": -180
    },
    "id": "18129bwoo7tQ",
    "outputId": "121ee58f-f7b7-412b-99dc-23688f480648"
   },
   "outputs": [
    {
     "data": {
      "text/plain": [
       "array([[43, 43, 43, ..., 46, 42, 46],\n",
       "       [30, 42, 37, ..., 41, 46, 43],\n",
       "       [41, 42, 30, ..., 41, 43, 43],\n",
       "       ...,\n",
       "       [43, 43, 43, ..., 41, 43, 41],\n",
       "       [36, 30, 42, ..., 43, 30, 42],\n",
       "       [41, 30, 46, ..., 37, 37, 42]])"
      ]
     },
     "execution_count": 55,
     "metadata": {},
     "output_type": "execute_result"
    }
   ],
   "source": [
    "## Шаг 2: Сгенерируйте 20 bootstrap-выборок из X и сохраните их в матрицу n x 20\n",
    "np.random.seed(1234)\n",
    "bootstrap_samples = np.random.choice(X, size = (len(X), 2000), replace = True)\n",
    "bootstrap_samples"
   ]
  },
  {
   "cell_type": "code",
   "execution_count": 56,
   "metadata": {
    "colab": {
     "base_uri": "https://localhost:8080/"
    },
    "executionInfo": {
     "elapsed": 14,
     "status": "ok",
     "timestamp": 1701997145662,
     "user": {
      "displayName": "Антон Золотарев",
      "userId": "00132696149152071356"
     },
     "user_tz": -180
    },
    "id": "4EjIrAfAo7tQ",
    "outputId": "6d76746e-9bf8-4a38-bdb8-4e04fcbfc013"
   },
   "outputs": [
    {
     "data": {
      "text/plain": [
       "array([38.9, 38.7, 39.6, ..., 40.2, 40.7, 42.8])"
      ]
     },
     "execution_count": 56,
     "metadata": {},
     "output_type": "execute_result"
    }
   ],
   "source": [
    "# Шаг 3: Рассчитайте выборочное среднее по каждой bootstrap-выборке\n",
    "bootstrap_means = np.mean(bootstrap_samples, axis = 0)\n",
    "bootstrap_means"
   ]
  },
  {
   "cell_type": "code",
   "execution_count": 57,
   "metadata": {
    "colab": {
     "base_uri": "https://localhost:8080/"
    },
    "executionInfo": {
     "elapsed": 12,
     "status": "ok",
     "timestamp": 1701997145662,
     "user": {
      "displayName": "Антон Золотарев",
      "userId": "00132696149152071356"
     },
     "user_tz": -180
    },
    "id": "fePxLDTeo7tQ",
    "outputId": "66882afc-ab55-4215-f0c1-02817cd7215c"
   },
   "outputs": [
    {
     "data": {
      "text/plain": [
       "array([-1.4, -1.6, -0.7, ..., -0.1,  0.4,  2.5])"
      ]
     },
     "execution_count": 57,
     "metadata": {},
     "output_type": "execute_result"
    }
   ],
   "source": [
    "# Шаг 4: Рассчитайте d*\n",
    "d_star = bootstrap_means - mu_hat\n",
    "d_star"
   ]
  },
  {
   "cell_type": "code",
   "execution_count": 58,
   "metadata": {
    "colab": {
     "base_uri": "https://localhost:8080/"
    },
    "executionInfo": {
     "elapsed": 12,
     "status": "ok",
     "timestamp": 1701997145663,
     "user": {
      "displayName": "Антон Золотарев",
      "userId": "00132696149152071356"
     },
     "user_tz": -180
    },
    "id": "KNrPoapw2rbN",
    "outputId": "571ac8a9-5178-496f-8ad1-47d693d307ef"
   },
   "outputs": [
    {
     "data": {
      "text/plain": [
       "array([-1.9,  1.7])"
      ]
     },
     "execution_count": 58,
     "metadata": {},
     "output_type": "execute_result"
    }
   ],
   "source": [
    "d_star_quant = np.quantile(d_star, (0.1, 0.9))\n",
    "d_star_quant"
   ]
  },
  {
   "cell_type": "code",
   "execution_count": 59,
   "metadata": {
    "colab": {
     "base_uri": "https://localhost:8080/"
    },
    "executionInfo": {
     "elapsed": 11,
     "status": "ok",
     "timestamp": 1701997145663,
     "user": {
      "displayName": "Антон Золотарев",
      "userId": "00132696149152071356"
     },
     "user_tz": -180
    },
    "id": "EnyRgMOko7tQ",
    "outputId": "cdc6a0b8-30ca-4faf-9dd7-870ac81f2654"
   },
   "outputs": [
    {
     "data": {
      "text/plain": [
       "array([-1.9,  1.7])"
      ]
     },
     "execution_count": 59,
     "metadata": {},
     "output_type": "execute_result"
    }
   ],
   "source": [
    "# Шаг 5: Найдите 0.1 и 0.9 квантили для d_star\n",
    "d_star_quant = np.quantile(d_star, (0.1, 0.9))\n",
    "d_star_quant"
   ]
  },
  {
   "cell_type": "code",
   "execution_count": 60,
   "metadata": {
    "colab": {
     "base_uri": "https://localhost:8080/"
    },
    "executionInfo": {
     "elapsed": 9,
     "status": "ok",
     "timestamp": 1701997145663,
     "user": {
      "displayName": "Антон Золотарев",
      "userId": "00132696149152071356"
     },
     "user_tz": -180
    },
    "id": "EiOWKGeXo7tQ",
    "outputId": "58000acf-e918-43d0-b10b-a6b3a3714da8"
   },
   "outputs": [
    {
     "name": "stdout",
     "output_type": "stream",
     "text": [
      "[ 38.599999999999994 ; 42.199999999999996 ]\n"
     ]
    }
   ],
   "source": [
    "# Шаг 6: Постройте 80%-ый доверительный интервал для mu\n",
    "LB = mu_hat - d_star_quant[1]\n",
    "UB = mu_hat - d_star_quant[0]\n",
    "print('[', LB, ';', UB, ']')"
   ]
  },
  {
   "cell_type": "code",
   "execution_count": 61,
   "metadata": {
    "colab": {
     "base_uri": "https://localhost:8080/",
     "height": 515
    },
    "executionInfo": {
     "elapsed": 587,
     "status": "ok",
     "timestamp": 1701997146242,
     "user": {
      "displayName": "Антон Золотарев",
      "userId": "00132696149152071356"
     },
     "user_tz": -180
    },
    "id": "-RmW2OT55bxS",
    "outputId": "c06e6c8f-0e27-4114-d88e-8c4da52626ed"
   },
   "outputs": [
    {
     "name": "stdout",
     "output_type": "stream",
     "text": [
      "80% ДИ для медианы, построенный с помощью reverse percentile bootstrap\n",
      "ConfidenceInterval(low=np.float64(38.599999999999994), high=np.float64(42.099999999999994))\n"
     ]
    },
    {
     "data": {
      "image/png": "[encoded data removed]",
      "text/plain": [
       "<Figure size 640x480 with 1 Axes>"
      ]
     },
     "metadata": {},
     "output_type": "display_data"
    }
   ],
   "source": [
    "res = stats.bootstrap((X, ), np.mean, confidence_level=0.8, method='basic')\n",
    "print('80% ДИ для медианы, построенный с помощью reverse percentile bootstrap')\n",
    "print(res.confidence_interval)\n",
    "\n",
    "fig, ax = plt.subplots()\n",
    "ax.hist(res.bootstrap_distribution, bins=25)\n",
    "ax.set_title('Reverse percentile Bootstrap Distribution')\n",
    "ax.set_xlabel('Значение среднего')\n",
    "ax.set_ylabel('Частота')\n",
    "plt.show()"
   ]
  },
  {
   "cell_type": "markdown",
   "metadata": {
    "id": "8qHjQfX6o7tR"
   },
   "source": [
    "**Пример 3:** для той же выборки постройте 80%-ый доверительный интервал для медианы."
   ]
  },
  {
   "cell_type": "code",
   "execution_count": 62,
   "metadata": {
    "colab": {
     "base_uri": "https://localhost:8080/"
    },
    "executionInfo": {
     "elapsed": 15,
     "status": "ok",
     "timestamp": 1701997146242,
     "user": {
      "displayName": "Антон Золотарев",
      "userId": "00132696149152071356"
     },
     "user_tz": -180
    },
    "id": "DL31vg-Zo7tR",
    "outputId": "d53e3262-9918-46e9-8063-b68dcb94861a"
   },
   "outputs": [
    {
     "name": "stdout",
     "output_type": "stream",
     "text": [
      "42.0\n",
      "[ 0.   0.  -2.5 ...  0.  -5.5  1. ]\n",
      "[-3.  1.]\n",
      "[ 41.0 ; 45.0 ]\n"
     ]
    }
   ],
   "source": [
    "from seaborn.algorithms import bootstrap\n",
    "## Шаг 1: Найдите точечную оценку неизвестного параметра\n",
    "med = np.median(X)\n",
    "print(med)\n",
    "## Шаг 2: Сгенерируйте 100 boostrap-выборок из X и сохраните их в матрицу n x 100\n",
    "bootstrap_samples = np.random.choice(X, size = (len(X), 10000), replace = True)\n",
    "# Шаг 3: Рассчитайте выборочную медиану по каждой bootstrap-выборке\n",
    "bootstrap_medians = np.median(bootstrap_samples, axis = 0)\n",
    "# Шаг 4: Рассчитайте d*\n",
    "d_star = bootstrap_medians - med\n",
    "print(d_star)\n",
    "# Шаг 5: Найдите 0.1 и 0.9 квантили для d_star\n",
    "d_star_quant = np.quantile(d_star, (0.1, 0.9))\n",
    "print(d_star_quant)\n",
    "# Шаг 6: Постройте 80%-ый доверительный интервал для медианы\n",
    "LB = med - d_star_quant[1]\n",
    "UB = med - d_star_quant[0]\n",
    "print('[', LB, ';', UB, ']')"
   ]
  },
  {
   "cell_type": "code",
   "execution_count": 63,
   "metadata": {
    "colab": {
     "base_uri": "https://localhost:8080/",
     "height": 515
    },
    "executionInfo": {
     "elapsed": 12,
     "status": "ok",
     "timestamp": 1701997146242,
     "user": {
      "displayName": "Антон Золотарев",
      "userId": "00132696149152071356"
     },
     "user_tz": -180
    },
    "id": "g_iJALFD5oAr",
    "outputId": "bfaf3303-7952-4d53-fe2a-1d89fcf2431d"
   },
   "outputs": [
    {
     "name": "stdout",
     "output_type": "stream",
     "text": [
      "80% ДИ для медианы, построенный с помощью reverse percentile bootstrap\n",
      "ConfidenceInterval(low=np.float64(41.0), high=np.float64(45.0))\n"
     ]
    },
    {
     "data": {
      "image/png": "[encoded data removed]",
      "text/plain": [
       "<Figure size 640x480 with 1 Axes>"
      ]
     },
     "metadata": {},
     "output_type": "display_data"
    }
   ],
   "source": [
    "res = stats.bootstrap((X, ), np.median, confidence_level=0.8, method='basic')\n",
    "print('80% ДИ для медианы, построенный с помощью reverse percentile bootstrap')\n",
    "print(res.confidence_interval)\n",
    "\n",
    "fig, ax = plt.subplots()\n",
    "ax.hist(res.bootstrap_distribution, bins=25)\n",
    "ax.set_title('Reverse percentile Bootstrap Distribution')\n",
    "ax.set_xlabel('Значение среднего')\n",
    "ax.set_ylabel('Частота')\n",
    "plt.show()"
   ]
  },
  {
   "cell_type": "markdown",
   "metadata": {
    "id": "pfHXEyeVo7tR"
   },
   "source": [
    "### 2. t-bootstrap"
   ]
  },
  {
   "cell_type": "markdown",
   "metadata": {
    "id": "5-wuTBhGtMm9"
   },
   "source": [
    "Как и наивном случае, сначала мы генерируем $n_{boot}$ бутстреп-выборок.\n",
    "\n",
    "Далее по исходной выборке(номер 0) и каждой бутстреп-выборке вычисляется своя оценка $\\theta^{(i)}$ и её стандартное отклонение $se(\\theta^{(i)})$. Из полученного набора для каждой бутстреп-выборке вычисляем $t$-статистику\n",
    "$$\n",
    "t^{(i)}= \\frac{\\theta^{(i)} - \\theta^{(0)}}{se(\\theta^{(i)})},\n",
    "$$\n",
    "затем сортируем полученные $t^{(i)}$ и считаем левую квантиль $t_{\\alpha/2}$ и правую квантиль $t_{1-\\alpha/2}$. Доверительный интервал для $\\theta$ в итоге имеет вид\n",
    "$$\n",
    "t_{\\alpha/2} \\leq \\frac{\\theta^{(0)} - \\theta}{se(\\theta^{(0)})} \\leq t_{1-\\alpha/2}.\n",
    "$$\n"
   ]
  },
  {
   "cell_type": "markdown",
   "metadata": {
    "id": "9teaixU8o7tR"
   },
   "source": [
    "**Пример 4:** для той же выборки постройте 80%-ый доверительный интервал для $\\mu$."
   ]
  },
  {
   "cell_type": "code",
   "execution_count": 64,
   "metadata": {
    "colab": {
     "base_uri": "https://localhost:8080/"
    },
    "executionInfo": {
     "elapsed": 265,
     "status": "ok",
     "timestamp": 1701998072595,
     "user": {
      "displayName": "Антон Золотарев",
      "userId": "00132696149152071356"
     },
     "user_tz": -180
    },
    "id": "I6NL_azV_X2C",
    "outputId": "9091800b-c645-456c-d636-67cc41d8e8c0"
   },
   "outputs": [
    {
     "data": {
      "text/plain": [
       "(10, 10000)"
      ]
     },
     "execution_count": 64,
     "metadata": {},
     "output_type": "execute_result"
    }
   ],
   "source": [
    "bootstrap_samples.shape"
   ]
  },
  {
   "cell_type": "code",
   "execution_count": 65,
   "metadata": {
    "colab": {
     "base_uri": "https://localhost:8080/"
    },
    "executionInfo": {
     "elapsed": 1588,
     "status": "ok",
     "timestamp": 1701998734757,
     "user": {
      "displayName": "Антон Золотарев",
      "userId": "00132696149152071356"
     },
     "user_tz": -180
    },
    "id": "4bID7fiVo7tR",
    "outputId": "0f4556d4-9187-4878-b3f4-4f17b80e18c8"
   },
   "outputs": [
    {
     "name": "stdout",
     "output_type": "stream",
     "text": [
      "[ 37.24293632261436 ; 41.99396583427884 ]\n"
     ]
    }
   ],
   "source": [
    "bootstrap_ses = []\n",
    "\n",
    "## Шаг 1: Найдите точечную оценку неизвестного параметра\n",
    "x_hat = np.mean(X)\n",
    "## Шаг 2: Сгенерируйте 100 boostrap-выборок из X и сохраните их в матрицу n x 100\n",
    "bootstrap_samples = np.random.choice(X, size = (len(X), 10000), replace = True)\n",
    "# Шаг 2: Рассчитайте выборочное среднее по каждой bootstrap-выборке\n",
    "bootstrap_means = np.mean(bootstrap_samples, axis = 0)\n",
    "\n",
    "# Шаг 3: Генерируем подвыборки, по которым считаем стандартное отклонение\n",
    "for i in range(bootstrap_samples.shape[1]):\n",
    "  bootstrap_subsamples = np.random.choice(bootstrap_samples[:, i], size = (len(X), 100), replace=True)\n",
    "  bootstrap_subsamples_mean = np.mean(bootstrap_subsamples, axis = 0)\n",
    "  bootstrap_ses.append(np.std(bootstrap_subsamples_mean))\n",
    "bootstrap_ses = np.array(bootstrap_ses)\n",
    "\n",
    "# Шаг 4: Рассчитайте T\n",
    "T = (bootstrap_means - x_hat) / bootstrap_ses\n",
    "# Шаг 5: Найдите 0.1 и 0.9 квантили для t_star\n",
    "T_quantiles = np.quantile(T, (0.1, 0.9))\n",
    "\n",
    "# Шаг 6: посчитайте стандартное отклонение для подстановки в формулу\n",
    "bootstrap_std = np.std(bootstrap_means)\n",
    "\n",
    "# Шаг 7: Постройте 80%-ый доверительный интервал для mu\n",
    "LB = x_hat - T_quantiles[1] * bootstrap_std\n",
    "UB = x_hat - T_quantiles[0] * bootstrap_std\n",
    "print('[', LB, ';', UB, ']')"
   ]
  },
  {
   "cell_type": "markdown",
   "metadata": {
    "id": "7vdFMRQ4o7tT"
   },
   "source": [
    "### BCA Bootstrap"
   ]
  },
  {
   "cell_type": "markdown",
   "metadata": {
    "id": "vsWJ8iiTzKFR"
   },
   "source": [
    "Один из самых мощных вариантов бутстрапа, скорректированный на смещение статистики.\n",
    "\n",
    "Хотим посчитать ДИ, используя следующую формулу:\n",
    "\n",
    "$$ [\\hat{\\theta}_{\\widetilde{\\alpha}/2}, \\hat{\\theta}_{1-\\widetilde{\\alpha}/2}]$$\n",
    "\n",
    "Казалось бы, обычный перцентильный бутстрэп, в чём прикол? А прикол здесь в том, каким образом считаются $\\widetilde{\\alpha}$\n",
    "\n",
    "[Берём формулы и алгоритм отсюда](https://www.erikdrysdale.com/bca_python/)\n",
    "\n",
    "1. $\\widetilde{\\alpha}/2 = \\Phi(\\hat{z}_0+\\frac{\\hat{z}_0+\\hat{z}_{\\alpha/2}}{1-\\hat{\\alpha}(\\hat{z}_0+\\hat{z}_{\\alpha/2})})$\n",
    "2. $1-\\widetilde{\\alpha}/2 = \\Phi(\\hat{z}_0+\\frac{\\hat{z}_0+\\hat{z}_{1-\\alpha/2}}{1-\\hat{\\alpha}(\\hat{z}_0+\\hat{z}_{1-\\alpha/2})})$\n",
    "3. Для вычисления этих статистик, нам нужно посчитать ещё $\\hat{z}_0$ и $\\hat{\\alpha}$\n",
    "4. $\\hat{z}_0 = \\Phi^{-1} (\\frac{1}{B}\\sum\\limits_{i=1}^B I\\{\\theta_i^*<\\hat{\\theta}\\})$\n",
    "5. $\\hat{\\alpha} = \\frac{\\sum\\limits_{i=1}^B(\\overline{\\theta}^{-i} - \\hat{\\theta}^{-i})^3}{6\\cdot \\left[\\sum\\limits_{i=1}^B(\\overline{\\theta}^{-i} - \\hat{\\theta}^{-i})^2\\right]^{1.5}}$\n",
    "\n",
    "6. $\\Phi(.)$ - эмпирическая функция распределения бутстрапированной выборки\n",
    "7. $\\overline{\\theta}^{-i}$ - статистика Jackknife"
   ]
  },
  {
   "cell_type": "markdown",
   "metadata": {
    "id": "D9oZtq4-4Lq0"
   },
   "source": [
    "Не будем мучиться с реализацией данного метода и просто возьмём реализацию из scipy"
   ]
  },
  {
   "cell_type": "code",
   "execution_count": 66,
   "metadata": {
    "colab": {
     "base_uri": "https://localhost:8080/"
    },
    "executionInfo": {
     "elapsed": 7,
     "status": "ok",
     "timestamp": 1701997146242,
     "user": {
      "displayName": "Антон Золотарев",
      "userId": "00132696149152071356"
     },
     "user_tz": -180
    },
    "id": "vamMKGH_4h18",
    "outputId": "f7719846-1546-46f7-ef2a-9c17553fcb62"
   },
   "outputs": [
    {
     "data": {
      "text/plain": [
       "[30, 37, 36, 43, 42, 43, 43, 46, 41, 42]"
      ]
     },
     "execution_count": 66,
     "metadata": {},
     "output_type": "execute_result"
    }
   ],
   "source": [
    "X"
   ]
  },
  {
   "cell_type": "code",
   "execution_count": 67,
   "metadata": {
    "colab": {
     "base_uri": "https://localhost:8080/",
     "height": 515
    },
    "executionInfo": {
     "elapsed": 299,
     "status": "ok",
     "timestamp": 1701997146535,
     "user": {
      "displayName": "Антон Золотарев",
      "userId": "00132696149152071356"
     },
     "user_tz": -180
    },
    "id": "TUk4Shjg7bFG",
    "outputId": "d787b3f8-6cd5-4332-d8b5-93d7e98ad1b5"
   },
   "outputs": [
    {
     "name": "stdout",
     "output_type": "stream",
     "text": [
      "80% ДИ для среднего, построенный с помощью BCa\n",
      "ConfidenceInterval(low=np.float64(38.0), high=np.float64(41.8))\n"
     ]
    },
    {
     "data": {
      "image/png": "[encoded data removed]",
      "text/plain": [
       "<Figure size 640x480 with 1 Axes>"
      ]
     },
     "metadata": {},
     "output_type": "display_data"
    }
   ],
   "source": [
    "res = stats.bootstrap((X, ), np.mean, confidence_level=0.8, method='BCa')\n",
    "print('80% ДИ для среднего, построенный с помощью BCa')\n",
    "print(res.confidence_interval)\n",
    "\n",
    "fig, ax = plt.subplots()\n",
    "ax.hist(res.bootstrap_distribution, bins=20)\n",
    "ax.set_title('BCa Bootstrap Distribution')\n",
    "ax.set_xlabel('Значение среднего')\n",
    "ax.set_ylabel('Частота')\n",
    "plt.show()"
   ]
  },
  {
   "cell_type": "code",
   "execution_count": 68,
   "metadata": {
    "colab": {
     "base_uri": "https://localhost:8080/",
     "height": 515
    },
    "executionInfo": {
     "elapsed": 520,
     "status": "ok",
     "timestamp": 1701997147049,
     "user": {
      "displayName": "Антон Золотарев",
      "userId": "00132696149152071356"
     },
     "user_tz": -180
    },
    "id": "jLJBcbKY38NE",
    "outputId": "26fbd39c-fc5c-485f-d283-a95abd41f174"
   },
   "outputs": [
    {
     "name": "stdout",
     "output_type": "stream",
     "text": [
      "80% ДИ для медианы, построенный с помощью BCa\n",
      "ConfidenceInterval(low=np.float64(nan), high=np.float64(nan))\n"
     ]
    },
    {
     "name": "stderr",
     "output_type": "stream",
     "text": [
      "/Users/mszekhov/Desktop/current_projects/psmo/venv/lib/python3.10/site-packages/scipy/stats/_resampling.py:149: RuntimeWarning: invalid value encountered in scalar divide\n",
      "  a_hat = 1/6 * sum(nums) / sum(dens)**(3/2)\n",
      "/var/folders/cp/4bl3kvm10tl3r81sxqkgg1q00000gn/T/ipykernel_98093/117240016.py:1: DegenerateDataWarning: The BCa confidence interval cannot be calculated. This problem is known to occur when the distribution is degenerate or the statistic is np.min.\n",
      "  res = stats.bootstrap((X, ), np.median, confidence_level=0.8, method='BCa')\n"
     ]
    },
    {
     "data": {
      "image/png": "[encoded data removed]",
      "text/plain": [
       "<Figure size 640x480 with 1 Axes>"
      ]
     },
     "metadata": {},
     "output_type": "display_data"
    }
   ],
   "source": [
    "res = stats.bootstrap((X, ), np.median, confidence_level=0.8, method='BCa')\n",
    "print('80% ДИ для медианы, построенный с помощью BCa')\n",
    "print(res.confidence_interval)\n",
    "\n",
    "fig, ax = plt.subplots()\n",
    "ax.hist(res.bootstrap_distribution, bins=25)\n",
    "ax.set_title('BCa Bootstrap Distribution')\n",
    "ax.set_xlabel('Значение медианы')\n",
    "ax.set_ylabel('Частота')\n",
    "plt.show()"
   ]
  },
  {
   "cell_type": "markdown",
   "metadata": {
    "id": "MUMFN2W8CIxx"
   },
   "source": [
    "### Что получилось?"
   ]
  },
  {
   "cell_type": "code",
   "execution_count": 69,
   "metadata": {
    "colab": {
     "base_uri": "https://localhost:8080/"
    },
    "executionInfo": {
     "elapsed": 246,
     "status": "ok",
     "timestamp": 1701998964266,
     "user": {
      "displayName": "Антон Золотарев",
      "userId": "00132696149152071356"
     },
     "user_tz": -180
    },
    "id": "mugqkYAWCx0v",
    "outputId": "80ae66a8-5883-4a45-c5ee-8aedf8d07ea1"
   },
   "outputs": [
    {
     "data": {
      "text/plain": [
       "np.float64(40.3)"
      ]
     },
     "execution_count": 69,
     "metadata": {},
     "output_type": "execute_result"
    }
   ],
   "source": [
    "np.mean(X)"
   ]
  },
  {
   "cell_type": "code",
   "execution_count": 70,
   "metadata": {
    "colab": {
     "base_uri": "https://localhost:8080/"
    },
    "executionInfo": {
     "elapsed": 256,
     "status": "ok",
     "timestamp": 1701998942216,
     "user": {
      "displayName": "Антон Золотарев",
      "userId": "00132696149152071356"
     },
     "user_tz": -180
    },
    "id": "NbtpVnBACpuW",
    "outputId": "24dfd362-a8f7-44a0-9ecd-ddd116502c54"
   },
   "outputs": [
    {
     "data": {
      "text/plain": [
       "array([30, 36, 37, 41, 42, 42, 43, 43, 43, 46])"
      ]
     },
     "execution_count": 70,
     "metadata": {},
     "output_type": "execute_result"
    }
   ],
   "source": [
    "np.sort(X)"
   ]
  },
  {
   "cell_type": "markdown",
   "metadata": {
    "id": "bJW4kx23CK5a"
   },
   "source": [
    "80% доверительный интервал для среднего:\n",
    "* Percentile - [38.4, 42.0]\n",
    "* Reverse Percentile - [38.6, 42.2]\n",
    "* t - [37.2, 42.0]\n",
    "* BCa - [38.1, 41.8]"
   ]
  },
  {
   "cell_type": "markdown",
   "metadata": {
    "id": "3Xmf0MFC9ydJ"
   },
   "source": [
    "# Выводы\n",
    "\n",
    "По итогу, в результате данного семинара, мы познакомились со следующими техниками:\n",
    "* Наивный/перцентильный/квантильный bootstrap\n",
    "* t-bootstrap\n",
    "* Reverse percentile bootstrap\n",
    "* BCA-bootstrap"
   ]
  },
  {
   "cell_type": "markdown",
   "metadata": {
    "id": "Pk8WK9flo7tU"
   },
   "source": [
    "#### Источники мудрости\n",
    "[1] [Tim Hesterberg \"What Teachers Should Know about the Bootstrap:Resampling in the Undergraduate StatisticsCurriculum?\"](https://arxiv.org/pdf/1411.5279.pdf)\n",
    "\n",
    "[3] [Английская википедия](https://en.wikipedia.org/wiki/Bootstrapping_(statistics))"
   ]
  },
  {
   "cell_type": "markdown",
   "metadata": {
    "id": "Olwlf9s8ZVVS"
   },
   "source": [
    "### Ссылочки"
   ]
  },
  {
   "cell_type": "markdown",
   "metadata": {
    "id": "L_6kIyomZahZ"
   },
   "source": [
    "\n",
    "* [ДЗ прошлого года](https://github.com/bdemeshev/psmo_2022-23/blob/main/ha_02/psmo-ha_02.pdf)\n",
    "* [Реализация в scipy](https://docs.scipy.org/doc/scipy/reference/generated/scipy.stats.bootstrap.html)\n",
    "* [Статья на хабре](https://habr.com/ru/companies/X5Tech/articles/679842/)\n",
    "* [Описание принципов подсчёта разных бутстрэп интервалов](https://ocw.mit.edu/courses/18-05-introduction-to-probability-and-statistics-spring-2014/77906546c17ee79eb6e64194175e82ed_MIT18_05S14_Reading24.pdf)\n",
    "* [BCA-bootstrap](https://www.erikdrysdale.com/bca_python/)"
   ]
  },
  {
   "cell_type": "markdown",
   "metadata": {},
   "source": [
    "# Бутстреп: техника и несколько приложений"
   ]
  },
  {
   "cell_type": "code",
   "execution_count": 71,
   "metadata": {},
   "outputs": [],
   "source": [
    "import numpy as np\n",
    "import scipy.stats as sps\n",
    "import sklearn.linear_model as sklin\n",
    "\n",
    "\n",
    "import tqdm\n",
    "\n",
    "import matplotlib.pyplot as plt \n",
    "%matplotlib inline\n",
    "\n",
    "np.random.seed(100500)"
   ]
  },
  {
   "cell_type": "markdown",
   "metadata": {},
   "source": [
    "## Имплементация бутстрепа\n",
    "\n",
    "Теперь давайте для начала имплементируем два подхода, основанных на бутстрепе и протестируем, что они работают. Используем шаблоны, приведённые ниже. Начнём с базового класса.\n",
    "\n",
    "Идея в том, чтобы в нём реализовать общую часть (симуляция бутстреп-выборок), а для оценки использовать внешнюю функцию. Поскольку доверительные интервалы строятся по-разному, эту часть мы выносим в дочерние классы."
   ]
  },
  {
   "cell_type": "code",
   "execution_count": 72,
   "metadata": {},
   "outputs": [],
   "source": [
    "class BaseBootstrapper:\n",
    "    '''\n",
    "        Bootstrapper Base class\n",
    "    '''\n",
    "    \n",
    "    def __init__(self,data):\n",
    "        '''\n",
    "        Input\n",
    "        data (batch,d) -- the data available (together with the targets if needed), np.array\n",
    "        '''\n",
    "\n",
    "        self.data = data\n",
    "        if(len(self.data.shape)<2):\n",
    "            self.data = self.data[:,None]#fix: array with 1 dimension\n",
    "        else:\n",
    "            if(len(self.data.shape)>2):\n",
    "                raise RuntimeError(\"Data can have either 1 or 2 dimensions in shape\")\n",
    "            \n",
    "\n",
    "    def BootCompute(self, nBoot=1, estimator=None):\n",
    "        '''\n",
    "        Computes nBoot estimates using estimator: data |-> estimate\n",
    "        Input\n",
    "        int nBoot -- number of bootstrap samples\n",
    "        funcHandler estimator -- function estimator(data) returning an estimate\n",
    "                                 based on the data given\n",
    "        '''\n",
    "        \n",
    "        estimates = [ estimator(self.data[np.random.choice(\n",
    "                                            np.arange(self.data.shape[0]),\n",
    "                                            size=self.data.shape[0],\n",
    "                                            replace=True),:]\n",
    "                                )\n",
    "                      for i in tqdm.tqdm(np.arange(nBoot)) ]\n",
    "        \n",
    "        return estimates"
   ]
  },
  {
   "cell_type": "markdown",
   "metadata": {},
   "source": [
    "Далее, рассматриваемые методы бутстрепа будут наследоваться от базового и имплементировать свой метод построения доверительного интервала. Мы неявно предполагаем для удобства разделение на одномерный(делаем сейчас) и многомерный случай(будет дальше). В конкретной задаче можно сделать сильно оптимальнее ;)"
   ]
  },
  {
   "cell_type": "code",
   "execution_count": 73,
   "metadata": {},
   "outputs": [],
   "source": [
    "class NaiveBootstrapper1D(BaseBootstrapper):\n",
    "\n",
    "    '''\n",
    "    Naive bootstrap for 1d estimates\n",
    "    '''\n",
    "    def __init__(self,data):\n",
    "        super(NaiveBootstrapper1D, self).__init__(data)\n",
    "\n",
    "    def ConstructCI(self, estimator=None, confidenceLevel=0.95, nBoot=10, returnEstimates=False ):\n",
    "        '''\n",
    "        Returns a naive-bootstrapped confidence interval(CI)\n",
    "        Input\n",
    "        funcHandler estimator -- function transforming data into an estimate (assumed 1d estimate)\n",
    "        float confidenceLevel -- level of confidence (classic is 0.95), belongs to (0,1)\n",
    "        int nBoot -- number of bootstrapped samples to use\n",
    "        '''\n",
    "        if(estimator is None):\n",
    "            raise RuntimeError(\"Estimator is not set\")\n",
    "\n",
    "        estimates = np.array(self.BootCompute(nBoot, estimator))\n",
    "\n",
    "        if(returnEstimates):\n",
    "            return [np.quantile(estimates, (1-confidenceLevel)/2), np.quantile(estimates, 1-(1-confidenceLevel)/2) ],estimates\n",
    "        else:\n",
    "            return [np.quantile(estimates, (1-confidenceLevel)/2), np.quantile(estimates, 1-(1-confidenceLevel)/2) ]\n",
    "\n",
    "\n",
    "class TStatBootstrapper1D(BaseBootstrapper):\n",
    "    '''\n",
    "    T-statistic bootstrap for 1D estimate\n",
    "    '''\n",
    "\n",
    "    def __init__(self,data):\n",
    "        super(TStatBootstrapper1D, self).__init__(data)\n",
    "\n",
    "    def ConstructCI(self, estimator=None, confidenceLevel=0.95, nBoot=10, returnEstimates=False ):\n",
    "        '''\n",
    "        Returns a naive-bootstrapped confidence interval(CI)\n",
    "        Input\n",
    "        funcHandler estimator -- function transforming data into an estimate (assumed 1d estimate)\n",
    "        float confidenceLevel -- level of confidence (classic is 0.95), belongs to (0,1)\n",
    "        int nBoot -- number of bootstrapped samples to use\n",
    "        '''\n",
    "        if(estimator is None):\n",
    "            raise RuntimeError(\"Estimator is not set\")\n",
    "\n",
    "        estimate0 = estimator(self.data)\n",
    "        estimates = np.array(self.BootCompute(nBoot, estimator))#[n,2] -- est and se(est)\n",
    "        tstats = (estimates[:,0]-estimate0[0])/estimates[:,1]\n",
    "        \n",
    "        if(returnEstimates):\n",
    "            return [estimate0[0]-np.quantile(tstats, 1-(1-confidenceLevel)/2)*estimate0[1],\n",
    "                estimate0[0]-np.quantile(tstats, (1-confidenceLevel)/2)*estimate0[1]   ], estimates\n",
    "        else:\n",
    "            return [estimate0[0]-np.quantile(tstats, 1-(1-confidenceLevel)/2)*estimate0[1],\n",
    "                estimate0[0]-np.quantile(tstats, (1-confidenceLevel)/2)*estimate0[1]   ]\n"
   ]
  },
  {
   "cell_type": "markdown",
   "metadata": {},
   "source": [
    "## Построение доверительных интервалов для регуляризованной регрессии\n",
    "\n",
    "В классических задачах для регрессии доверительные интервалы для параметров -- незаменимый инструмент для изучения того, насколько хорошо параметр оценён. В силу различных причин мы не ограничиваемся методом наименьших квадратов но и используем различные его модификации, которые даже в идеальных предположениях независимых стандартных гауссовских шумов не позволяют строить классические доверительные интервалы для параметров.\n",
    "\n",
    "И всё же было бы хорошо уметь. Тут помогает бутстреп."
   ]
  },
  {
   "cell_type": "markdown",
   "metadata": {},
   "source": [
    "### Рассматриваемые методы линейной регрессии\n",
    "\n",
    "Мы рассматриваем модель\n",
    "$$\n",
    "Y = X\\theta_* + \\varepsilon,\n",
    "$$\n",
    "где $Y \\in \\mathbb{R}^n$ -- вектор целевых значений (даны), $X \\in \\mathbb{R}^{n \\times d}$ -- матрица признаков (наблюдения по первой размерности, она же матрица плана, дана), $\\theta \\in \\mathbb{R}^{d}$ -- неизвестный параметр, $\\varepsilon \\in \\mathbb{R}^n$ -- ненаблюдаемый шум. Для нас сейчас не важно, как имплементированы методы ниже, поэтому приведём лишь поверхностное описание.\n",
    "\n",
    "**Метод 1.** Обычный метод наименьших квадратов. Оценка $\\hat{\\theta}=\\argmin_\\theta \\Vert Y-X\\theta\\Vert^2_2$.\n",
    "\n",
    "**Метод 2.** Метод наименьших квадратов с $L^2$-регуляризацией (Ridge-регрессия). Фиксируется положительное число $\\lambda$(гиперпараметр), оценка $\\hat{\\theta}=\\argmin_\\theta \\left[ \\Vert Y-X\\theta\\Vert^2_2 + \\lambda \\Vert\\theta\\Vert_2^2\\right]$.\n",
    "\n",
    "**Метод 3.** Метод наименьших квадратов с $L^1$-регуляризацией (Lasso-регрессия). Фиксируется положительное число $\\lambda$(гиперпараметр), оценка $\\hat{\\theta}=\\argmin_\\theta \\left[ \\Vert Y-X\\theta\\Vert^2_2 + \\lambda \\Vert\\theta\\Vert_1\\right]$.\n",
    "\n",
    "Мы будем использовать готовые имплементации из sklearn, но напишем дополнительный интерфейс для них."
   ]
  },
  {
   "cell_type": "code",
   "execution_count": 74,
   "metadata": {},
   "outputs": [],
   "source": [
    "conf=0.99\n",
    "nBoot=10000"
   ]
  },
  {
   "cell_type": "code",
   "execution_count": 75,
   "metadata": {},
   "outputs": [],
   "source": [
    "class RegressionModel:\n",
    "\n",
    "    def __init__(self,X,y, type=\"OLS\", lamb=1):\n",
    "        '''\n",
    "        Input\n",
    "        float[][] X [n,d] -- data matrix\n",
    "        float[] y [n] -- target values\n",
    "        str type -- type of regression to use: ordinary least squares(\"OLS\"), Ridge(\"Ridge\") or Lasso(\"Lasso\")\n",
    "        float lamb -- the parameter for Ridge and Lasso, not used in OLS\n",
    "        '''\n",
    "\n",
    "        self.data = X\n",
    "        self.targets = y\n",
    "        self.type = type\n",
    "\n",
    "        if(type==\"OLS\"):\n",
    "            self.model = sklin.LinearRegression(fit_intercept=False,n_jobs=2)\n",
    "        else:\n",
    "            if(type==\"Ridge\"):\n",
    "                self.model = sklin.Ridge(alpha=lamb, fit_intercept=False)\n",
    "            else:\n",
    "                if(type==\"Lasso\"):\n",
    "                    self.model = sklin.Lasso(alpha=lamb, fit_intercept=False)\n",
    "                else:\n",
    "                    raise RuntimeError(\"Type \"+ type + \" is not supported, use OLS, Lasso, or Ridge\")\n",
    "\n",
    "        self.model.fit(self.data, self.targets)\n",
    "\n",
    "    def predict(self, xs):\n",
    "        '''\n",
    "        Predicts the targets at given xs\n",
    "        Input\n",
    "        float[][] xs [n,d] or [n] -- input values \n",
    "        '''\n",
    "        return self.model.predict(xs)\n",
    "\n",
    "    def getParameters(self):\n",
    "        '''\n",
    "        Returns the estimated vector of parameters\n",
    "        '''\n",
    "        if(self.type==\"OLS\" or self.type==\"Ridge\"): #because of Lasso specifics...\n",
    "            return self.model.coef_[0]\n",
    "        else:\n",
    "            return self.model.coef_"
   ]
  },
  {
   "cell_type": "markdown",
   "metadata": {},
   "source": [
    "Чтобы усложнить задачу, рассмотрим сценарий, когда шумы $\\varepsilon_i$ гауссовские и коррелированы (но мы, предполагается, не знаем, как именно)."
   ]
  },
  {
   "cell_type": "code",
   "execution_count": 76,
   "metadata": {},
   "outputs": [],
   "source": [
    "nObservations=100\n",
    "xs = np.concatenate([ (np.arange(nObservations)+ 0.02*np.arange(nObservations)**2 )[:,None],\n",
    "                      (np.arange(nObservations)**2 +0.8*np.arange(nObservations))[:,None],\n",
    "                      (np.arange(nObservations)**3)[:,None]], axis=-1)\n",
    "\n",
    "thetaStar = np.array([0.26,-0.011, 0.0001])\n",
    "\n",
    "\n",
    "ts = np.arange(nObservations)\n",
    "covMatrix = np.diag((ts+1))*0.35 + 0.05*np.exp(-(ts[:,None]-ts[None,:])**2/10)\n",
    "chol = np.linalg.cholesky(covMatrix)\n",
    "noises = chol@np.random.randn(nObservations)\n",
    "\n",
    "ys = xs@thetaStar + noises"
   ]
  },
  {
   "cell_type": "code",
   "execution_count": 77,
   "metadata": {},
   "outputs": [
    {
     "name": "stdout",
     "output_type": "stream",
     "text": [
      "(100,)\n"
     ]
    },
    {
     "data": {
      "text/plain": [
       "Text(0, 0.5, 'Target value')"
      ]
     },
     "execution_count": 77,
     "metadata": {},
     "output_type": "execute_result"
    },
    {
     "data": {
      "image/png": "[encoded data removed]",
      "text/plain": [
       "<Figure size 500x500 with 1 Axes>"
      ]
     },
     "metadata": {},
     "output_type": "display_data"
    }
   ],
   "source": [
    "f,ax = plt.subplots(figsize=(5,5))\n",
    "\n",
    "ax.grid()\n",
    "ax.set_title(\"Points\")\n",
    "ax.plot(np.arange(nObservations),(xs@thetaStar)[:] )\n",
    "print(ys.shape)\n",
    "ax.scatter(np.arange(nObservations), ys[:] )\n",
    "ax.legend([\"Truth\",\"Observations\"])\n",
    "ax.set_xlabel(\"t\")\n",
    "ax.set_ylabel(\"Target value\")"
   ]
  },
  {
   "cell_type": "markdown",
   "metadata": {},
   "source": [
    "Удалим один признак и попробуем обучить три регрессионных модели."
   ]
  },
  {
   "cell_type": "code",
   "execution_count": 78,
   "metadata": {},
   "outputs": [
    {
     "name": "stdout",
     "output_type": "stream",
     "text": [
      "OLS estimate: [-0.07646683  0.00788647]\n",
      "Ridge estimate: [-0.07644714  0.00788584]\n",
      "Lasso estimate: [-0.02846168  0.00633799]\n"
     ]
    }
   ],
   "source": [
    "X = xs[:,:2]#careful with updates!!!\n",
    "y = ys[:,None]\n",
    " #for dimension reasons, to get parameters, such sklearn...\n",
    "#ys=ys\n",
    "\n",
    "lambRidge=5\n",
    "lambLasso=9\n",
    "olsRegressionModel = RegressionModel(X,y,\"OLS\")\n",
    "ridgeRegressionModel = RegressionModel(X,y,\"Ridge\",lamb=lambRidge)\n",
    "lassoRegressionModel = RegressionModel(X,y,\"Lasso\",lamb=lambLasso)\n",
    "\n",
    "print(\"OLS estimate:\", olsRegressionModel.getParameters())\n",
    "print(\"Ridge estimate:\", ridgeRegressionModel.getParameters())\n",
    "print(\"Lasso estimate:\", lassoRegressionModel.getParameters())"
   ]
  },
  {
   "cell_type": "code",
   "execution_count": 79,
   "metadata": {},
   "outputs": [
    {
     "data": {
      "text/plain": [
       "Text(0, 0.5, 'Target value')"
      ]
     },
     "execution_count": 79,
     "metadata": {},
     "output_type": "execute_result"
    },
    {
     "data": {
      "image/png": "[encoded data removed]",
      "text/plain": [
       "<Figure size 500x500 with 1 Axes>"
      ]
     },
     "metadata": {},
     "output_type": "display_data"
    }
   ],
   "source": [
    "f,ax = plt.subplots(figsize=(5,5))\n",
    "\n",
    "ax.grid()\n",
    "ax.set_title(\"Points\")\n",
    "ax.plot(np.arange(nObservations),(xs@thetaStar)[:] )\n",
    "ax.scatter(np.arange(nObservations), ys[:] )\n",
    "\n",
    "ax.plot(np.arange(nObservations), olsRegressionModel.predict(xs[:,:2]) )\n",
    "ax.plot(np.arange(nObservations), ridgeRegressionModel.predict(xs[:,:2]) )\n",
    "ax.plot(np.arange(nObservations), lassoRegressionModel.predict(xs[:,:2]) )\n",
    "\n",
    "\n",
    "ax.legend([\"Truth\",\"Observations\",\"OLS\",\"Ridge\",\"Lasso\"])\n",
    "ax.set_xlabel(\"t\")\n",
    "ax.set_ylabel(\"Target value\")"
   ]
  },
  {
   "cell_type": "markdown",
   "metadata": {},
   "source": [
    "Мы получили точечные оценки, которые между собой очень близки, но, в конце концов, у нас очень простой случай. Теперь используем бутстреп для того, чтобы посчитать доверительные интервалы, например, для первого параметра.\n",
    "\n",
    "Вопрос на подумать: как быть, если мы хотим оценить интервал для нескольких параметров?"
   ]
  },
  {
   "cell_type": "code",
   "execution_count": 80,
   "metadata": {},
   "outputs": [
    {
     "name": "stdout",
     "output_type": "stream",
     "text": [
      "Calculating CI...\n"
     ]
    },
    {
     "name": "stderr",
     "output_type": "stream",
     "text": [
      "100%|██████████| 10000/10000 [00:02<00:00, 3588.35it/s]\n",
      "100%|██████████| 10000/10000 [00:03<00:00, 3030.12it/s]\n",
      "100%|██████████| 10000/10000 [00:04<00:00, 2217.63it/s]\n"
     ]
    }
   ],
   "source": [
    "X = xs[:,:2]#careful with updates!!!\n",
    "y = ys[:,None]\n",
    "\n",
    "data = np.concatenate([X,y],axis=-1)\n",
    "\n",
    "def estimateFirstOLS(data):\n",
    "    reg = RegressionModel(data[:,:2],(data[:,-1])[:,None] , type=\"OLS\")\n",
    "    return reg.getParameters()[0]\n",
    "def estimateFirstLasso(data):\n",
    "    reg = RegressionModel(data[:,:2],(data[:,-1])[:,None] , type=\"Lasso\", lamb=lambLasso)\n",
    "    return reg.getParameters()[0]\n",
    "def estimateFirstRidge(data):\n",
    "    reg = RegressionModel(data[:,:2],(data[:,-1])[:,None] , type=\"Ridge\", lamb=lambRidge)\n",
    "    return reg.getParameters()[0]\n",
    "\n",
    "naiveBoot = NaiveBootstrapper1D(data=data)\n",
    "\n",
    "print(\"Calculating CI...\")\n",
    "CIs=[]\n",
    "for estFun in [estimateFirstOLS, estimateFirstRidge, estimateFirstLasso]:\n",
    "    CIs.append(naiveBoot.ConstructCI(estFun, confidenceLevel=conf, nBoot=10000))\n",
    "          "
   ]
  },
  {
   "cell_type": "code",
   "execution_count": 81,
   "metadata": {},
   "outputs": [
    {
     "name": "stdout",
     "output_type": "stream",
     "text": [
      "CI, confidence= 0.99\n",
      "OLS: [np.float64(-0.15601379660174475), np.float64(0.0013334444698285819)]\n",
      "Ridge: [np.float64(-0.15613079242222175), np.float64(-0.0006948628911072843)]\n",
      "Lasso: [np.float64(-0.10409240828926765), np.float64(0.0)]\n"
     ]
    }
   ],
   "source": [
    "print(\"CI, confidence=\",conf)\n",
    "print(\"OLS:\", CIs[0])\n",
    "print(\"Ridge:\", CIs[1])\n",
    "print(\"Lasso:\", CIs[2])"
   ]
  },
  {
   "cell_type": "markdown",
   "metadata": {},
   "source": [
    "Заметим: мы нарушили очень много предположений классической линейной регрессии и всё же оказались способны построить доверительный интервал!"
   ]
  },
  {
   "cell_type": "markdown",
   "metadata": {
    "id": "CinB7W-i6rvy"
   },
   "source": [
    "## Дополнительно. Bootstrap для ДИ метрик модели ML"
   ]
  },
  {
   "cell_type": "markdown",
   "metadata": {
    "id": "ARl-9bSn8Onw"
   },
   "source": [
    "Продолжим работать с идеей рекламной платформы, в рамках которой теперь будем строить модель определения возраста пользователей.\n",
    "\n",
    "Для начала сгенерируем данные, которые задаются следующей моделью\n",
    "\n",
    "$$Age = min\\{70, max\\{10, 30 -1.5 \\log(\\# views_{cybersport})-1.2\\log(\\# views_{anime})+0.4\\log(\\# views_{politics})+0.6\\log(\\# views_{auto})+2\\log(\\# views_{health})+\\varepsilon\\}\\}$$\n",
    "\n",
    "* $Age$ - возраст пользователя\n",
    "* $\\# views_{cybersport}$ - количество просмотров страниц, связанных с темой \"Киберспорт\" за последние 30 дней\n",
    "* $\\# views_{anime}$ - количество просмотров страниц, связанных с темой \"Аниме\" за последние 30 дней\n",
    "* $\\# views_{politics}$ - количество просмотров страниц, связанных с темой \"Политика\" за последние 30 дней\n",
    "* $\\# views_{auto}$ - количество просмотров страниц, связанных с темой \"Авто\" за последние 30 дней\n",
    "* $\\# views_{health}$ - количество просмотров страниц, связанных с темой \"Здоровье\" за последние 30 дней\n",
    "* $\\varepsilon \\sim N(0, 10)$ - не учтённые моделью признаки\n",
    "\n",
    "При этом каждая из переменных просмотра той или иной категории распределена как смесь пуассоновских распределений, зависящих от категории возраста пользователя (<25 - молодёжь, $\\ge 25$ - нууу не молодёжь)"
   ]
  },
  {
   "cell_type": "code",
   "execution_count": 82,
   "metadata": {
    "colab": {
     "base_uri": "https://localhost:8080/"
    },
    "executionInfo": {
     "elapsed": 9,
     "status": "ok",
     "timestamp": 1701997147049,
     "user": {
      "displayName": "Антон Золотарев",
      "userId": "00132696149152071356"
     },
     "user_tz": -180
    },
    "id": "4Zg29bQxCmUY",
    "outputId": "fee46def-f2e7-4b83-c083-476fbde95b01"
   },
   "outputs": [
    {
     "name": "stdout",
     "output_type": "stream",
     "text": [
      "cybersport_views 0\n",
      "anime_views 1\n",
      "politics_views 2\n",
      "auto_views 3\n",
      "health_views 4\n"
     ]
    }
   ],
   "source": [
    "sample_teenagers = {'cybersport_views': [],\n",
    "                        'anime_views': [],\n",
    "                        'politics_views': [],\n",
    "                        'auto_views': [],\n",
    "                        'health_views': []}\n",
    "\n",
    "for theme, lambd in zip(sample_teenagers.keys(), [0, 1, 2, 3, 4]):\n",
    "  print(theme, lambd)"
   ]
  },
  {
   "cell_type": "code",
   "execution_count": 83,
   "metadata": {
    "colab": {
     "base_uri": "https://localhost:8080/",
     "height": 451
    },
    "executionInfo": {
     "elapsed": 354,
     "status": "ok",
     "timestamp": 1701997147396,
     "user": {
      "displayName": "Антон Золотарев",
      "userId": "00132696149152071356"
     },
     "user_tz": -180
    },
    "id": "-qqNELLJ8JyK",
    "outputId": "23ddafd6-f649-4eed-e180-d4ae22df4483"
   },
   "outputs": [
    {
     "data": {
      "text/plain": [
       "<Axes: >"
      ]
     },
     "execution_count": 83,
     "metadata": {},
     "output_type": "execute_result"
    },
    {
     "data": {
      "image/png": "[encoded data removed]",
      "text/plain": [
       "<Figure size 640x480 with 1 Axes>"
      ]
     },
     "metadata": {},
     "output_type": "display_data"
    }
   ],
   "source": [
    "\n",
    "def generate_data(sample_size=1000, sigma = 10,\n",
    "                  pattern_distribution = [0.3, 0.7],\n",
    "                  cybersport_lambda = [5, 0.2],\n",
    "                  anime_lambda = [2, 0.3],\n",
    "                  politics_lambda = [6, 20],\n",
    "                  auto_lambda = [2, 7],\n",
    "                  health_lambda = [1, 6],\n",
    "                  seed = 2023):\n",
    "    \"\"\"Генерирует данные с количеством просмотров пользователем различных категорий на основе параметров пуассоновских распределений\n",
    "\n",
    "    \"\"\"\n",
    "\n",
    "    sample = {'teenagers_pattern_group': {'cybersport_views': [],\n",
    "                        'anime_views': [],\n",
    "                        'politics_views': [],\n",
    "                        'auto_views': [],\n",
    "                        'health_views': []},\n",
    "              'adult_pattern_group': {'cybersport_views': [],\n",
    "                                  'anime_views': [],\n",
    "                                  'politics_views': [],\n",
    "                                  'auto_views': [],\n",
    "                                  'health_views': []}}\n",
    "\n",
    "    data = []\n",
    "    np.random.seed(seed)\n",
    "    for i, group in enumerate(sample.keys()):\n",
    "        # print(i, group)\n",
    "        sample[group]['pattern_group'] = group\n",
    "        for dict_cat, category in zip(sample[group].keys(), [cybersport_lambda, anime_lambda, politics_lambda, auto_lambda, health_lambda]):\n",
    "\n",
    "          # print(dict_cat, category)\n",
    "          sample[group][dict_cat] = np.random.poisson(category[i], int(sample_size*pattern_distribution[i]))\n",
    "\n",
    "        tmp = pd.DataFrame(sample[group])\n",
    "        tmp['age'] = 35-1.0*np.log2(tmp.cybersport_views+1)\\\n",
    "                       -0.5*np.log2(tmp.anime_views+1) \\\n",
    "                       +1.0*np.log2(tmp.politics_views+1) \\\n",
    "                       +1.5*np.log2(tmp.auto_views+1) \\\n",
    "                       +2.0*np.log2(tmp.health_views+1)\\\n",
    "                       +np.random.normal(0, sigma)\n",
    "        tmp.loc[tmp['age']<10, 'age'] = 10\n",
    "        tmp.loc[tmp['age']>70, 'age'] = 70\n",
    "\n",
    "        # print(len(tmp))\n",
    "        data.append(tmp)\n",
    "\n",
    "    return pd.concat(data).reset_index(drop=True)\n",
    "\n",
    "data = generate_data()\n",
    "data.age.hist()"
   ]
  },
  {
   "cell_type": "code",
   "execution_count": 84,
   "metadata": {
    "executionInfo": {
     "elapsed": 14,
     "status": "ok",
     "timestamp": 1701997147396,
     "user": {
      "displayName": "Антон Золотарев",
      "userId": "00132696149152071356"
     },
     "user_tz": -180
    },
    "id": "SNUh233XaPFm"
   },
   "outputs": [],
   "source": [
    "data['is_teenager'] = 1\n",
    "data.loc[data.age>=25, 'is_teenager'] = 0"
   ]
  },
  {
   "cell_type": "code",
   "execution_count": 85,
   "metadata": {
    "colab": {
     "base_uri": "https://localhost:8080/",
     "height": 424
    },
    "executionInfo": {
     "elapsed": 14,
     "status": "ok",
     "timestamp": 1701997147396,
     "user": {
      "displayName": "Антон Золотарев",
      "userId": "00132696149152071356"
     },
     "user_tz": -180
    },
    "id": "LtTZgcFvzXKT",
    "outputId": "7d19b6b1-bc87-4422-8f99-291e7766bd87"
   },
   "outputs": [
    {
     "data": {
      "text/html": [
       "<div>\n",
       "<style scoped>\n",
       "    .dataframe tbody tr th:only-of-type {\n",
       "        vertical-align: middle;\n",
       "    }\n",
       "\n",
       "    .dataframe tbody tr th {\n",
       "        vertical-align: top;\n",
       "    }\n",
       "\n",
       "    .dataframe thead th {\n",
       "        text-align: right;\n",
       "    }\n",
       "</style>\n",
       "<table border=\"1\" class=\"dataframe\">\n",
       "  <thead>\n",
       "    <tr style=\"text-align: right;\">\n",
       "      <th></th>\n",
       "      <th>cybersport_views</th>\n",
       "      <th>anime_views</th>\n",
       "      <th>politics_views</th>\n",
       "      <th>auto_views</th>\n",
       "      <th>health_views</th>\n",
       "    </tr>\n",
       "  </thead>\n",
       "  <tbody>\n",
       "    <tr>\n",
       "      <th>0</th>\n",
       "      <td>4</td>\n",
       "      <td>3</td>\n",
       "      <td>8</td>\n",
       "      <td>2</td>\n",
       "      <td>1</td>\n",
       "    </tr>\n",
       "    <tr>\n",
       "      <th>1</th>\n",
       "      <td>3</td>\n",
       "      <td>1</td>\n",
       "      <td>3</td>\n",
       "      <td>2</td>\n",
       "      <td>1</td>\n",
       "    </tr>\n",
       "    <tr>\n",
       "      <th>2</th>\n",
       "      <td>5</td>\n",
       "      <td>1</td>\n",
       "      <td>3</td>\n",
       "      <td>0</td>\n",
       "      <td>0</td>\n",
       "    </tr>\n",
       "    <tr>\n",
       "      <th>3</th>\n",
       "      <td>3</td>\n",
       "      <td>2</td>\n",
       "      <td>5</td>\n",
       "      <td>3</td>\n",
       "      <td>2</td>\n",
       "    </tr>\n",
       "    <tr>\n",
       "      <th>4</th>\n",
       "      <td>2</td>\n",
       "      <td>4</td>\n",
       "      <td>5</td>\n",
       "      <td>0</td>\n",
       "      <td>1</td>\n",
       "    </tr>\n",
       "    <tr>\n",
       "      <th>...</th>\n",
       "      <td>...</td>\n",
       "      <td>...</td>\n",
       "      <td>...</td>\n",
       "      <td>...</td>\n",
       "      <td>...</td>\n",
       "    </tr>\n",
       "    <tr>\n",
       "      <th>995</th>\n",
       "      <td>1</td>\n",
       "      <td>2</td>\n",
       "      <td>16</td>\n",
       "      <td>8</td>\n",
       "      <td>8</td>\n",
       "    </tr>\n",
       "    <tr>\n",
       "      <th>996</th>\n",
       "      <td>0</td>\n",
       "      <td>0</td>\n",
       "      <td>20</td>\n",
       "      <td>8</td>\n",
       "      <td>4</td>\n",
       "    </tr>\n",
       "    <tr>\n",
       "      <th>997</th>\n",
       "      <td>0</td>\n",
       "      <td>0</td>\n",
       "      <td>23</td>\n",
       "      <td>7</td>\n",
       "      <td>5</td>\n",
       "    </tr>\n",
       "    <tr>\n",
       "      <th>998</th>\n",
       "      <td>0</td>\n",
       "      <td>0</td>\n",
       "      <td>14</td>\n",
       "      <td>8</td>\n",
       "      <td>4</td>\n",
       "    </tr>\n",
       "    <tr>\n",
       "      <th>999</th>\n",
       "      <td>1</td>\n",
       "      <td>0</td>\n",
       "      <td>19</td>\n",
       "      <td>4</td>\n",
       "      <td>7</td>\n",
       "    </tr>\n",
       "  </tbody>\n",
       "</table>\n",
       "<p>1000 rows × 5 columns</p>\n",
       "</div>"
      ],
      "text/plain": [
       "     cybersport_views  anime_views  politics_views  auto_views  health_views\n",
       "0                   4            3               8           2             1\n",
       "1                   3            1               3           2             1\n",
       "2                   5            1               3           0             0\n",
       "3                   3            2               5           3             2\n",
       "4                   2            4               5           0             1\n",
       "..                ...          ...             ...         ...           ...\n",
       "995                 1            2              16           8             8\n",
       "996                 0            0              20           8             4\n",
       "997                 0            0              23           7             5\n",
       "998                 0            0              14           8             4\n",
       "999                 1            0              19           4             7\n",
       "\n",
       "[1000 rows x 5 columns]"
      ]
     },
     "execution_count": 85,
     "metadata": {},
     "output_type": "execute_result"
    }
   ],
   "source": [
    "data[data.columns[:5]]"
   ]
  },
  {
   "cell_type": "code",
   "execution_count": 86,
   "metadata": {
    "colab": {
     "base_uri": "https://localhost:8080/"
    },
    "executionInfo": {
     "elapsed": 253,
     "status": "ok",
     "timestamp": 1702001929670,
     "user": {
      "displayName": "Антон Золотарев",
      "userId": "00132696149152071356"
     },
     "user_tz": -180
    },
    "id": "g5BebYaJuGME",
    "outputId": "eb529c36-dde9-4daa-de52-0612282c68cb"
   },
   "outputs": [
    {
     "name": "stdout",
     "output_type": "stream",
     "text": [
      "accuracy 0.8250\n",
      "F1 0.7977\n"
     ]
    }
   ],
   "source": [
    "from sklearn.svm import SVC\n",
    "from sklearn.model_selection import train_test_split\n",
    "from sklearn.metrics import accuracy_score, f1_score\n",
    "\n",
    "X_train, X_test, y_train, y_test = train_test_split(data[data.columns[:5]],\n",
    "                                                    data[data.columns[-1]],\n",
    "                                                    test_size=0.2,\n",
    "                                                    random_state=2023)\n",
    "\n",
    "model = SVC()\n",
    "model.fit(X_train, y_train)\n",
    "y_pred = model.predict(X_test)\n",
    "print('accuracy %.4f' % accuracy_score(y_test, y_pred))\n",
    "print('F1 %.4f' % f1_score(y_test, y_pred))"
   ]
  },
  {
   "cell_type": "markdown",
   "metadata": {
    "id": "H6bbyr_JDeiM"
   },
   "source": [
    "### визуализируем"
   ]
  },
  {
   "cell_type": "code",
   "execution_count": null,
   "metadata": {
    "colab": {
     "base_uri": "https://localhost:8080/"
    },
    "executionInfo": {
     "elapsed": 11221,
     "status": "ok",
     "timestamp": 1701999718597,
     "user": {
      "displayName": "Антон Золотарев",
      "userId": "00132696149152071356"
     },
     "user_tz": -180
    },
    "id": "zWfumenEDHcF",
    "outputId": "e09407f7-fb75-4013-9a86-e85e5cb13ba0"
   },
   "outputs": [],
   "source": [
    "# Тут проблема с совместимостью, по крайней мере на мак накатить не получилось\n",
    "!pip install -qq umap-learn"
   ]
  },
  {
   "cell_type": "code",
   "execution_count": 89,
   "metadata": {
    "colab": {
     "base_uri": "https://localhost:8080/"
    },
    "executionInfo": {
     "elapsed": 283,
     "status": "ok",
     "timestamp": 1701999658878,
     "user": {
      "displayName": "Антон Золотарев",
      "userId": "00132696149152071356"
     },
     "user_tz": -180
    },
    "id": "eZ6ycUtYEKnd",
    "outputId": "ed7773c5-67f3-49c4-a3d7-b4b7bcf2cf62"
   },
   "outputs": [
    {
     "data": {
      "text/plain": [
       "cybersport_views      int64\n",
       "anime_views           int64\n",
       "politics_views        int64\n",
       "auto_views            int64\n",
       "health_views          int64\n",
       "pattern_group        object\n",
       "age                 float64\n",
       "is_teenager           int64\n",
       "dtype: object"
      ]
     },
     "execution_count": 89,
     "metadata": {},
     "output_type": "execute_result"
    }
   ],
   "source": [
    "data.dtypes"
   ]
  },
  {
   "cell_type": "code",
   "execution_count": 90,
   "metadata": {
    "colab": {
     "base_uri": "https://localhost:8080/",
     "height": 542
    },
    "executionInfo": {
     "elapsed": 4943,
     "status": "ok",
     "timestamp": 1701999912798,
     "user": {
      "displayName": "Антон Золотарев",
      "userId": "00132696149152071356"
     },
     "user_tz": -180
    },
    "id": "S6PA6ZCcDoR2",
    "outputId": "33c88646-c2ce-4191-c160-1409bcc59c8f"
   },
   "outputs": [
    {
     "ename": "ImportError",
     "evalue": "Numba needs NumPy 2.0 or less. Got NumPy 2.1.",
     "output_type": "error",
     "traceback": [
      "\u001b[0;31m---------------------------------------------------------------------------\u001b[0m",
      "\u001b[0;31mImportError\u001b[0m                               Traceback (most recent call last)",
      "Cell \u001b[0;32mIn[90], line 1\u001b[0m\n\u001b[0;32m----> 1\u001b[0m \u001b[38;5;28;01mimport\u001b[39;00m \u001b[38;5;21;01mumap\u001b[39;00m\u001b[38;5;21;01m.\u001b[39;00m\u001b[38;5;21;01mumap_\u001b[39;00m \u001b[38;5;28;01mas\u001b[39;00m \u001b[38;5;21;01mumap\u001b[39;00m\n\u001b[1;32m      2\u001b[0m \u001b[38;5;28;01mimport\u001b[39;00m \u001b[38;5;21;01mplotly\u001b[39;00m\u001b[38;5;21;01m.\u001b[39;00m\u001b[38;5;21;01mexpress\u001b[39;00m \u001b[38;5;28;01mas\u001b[39;00m \u001b[38;5;21;01mpx\u001b[39;00m\n\u001b[1;32m      4\u001b[0m trimap_viz \u001b[38;5;241m=\u001b[39m umap\u001b[38;5;241m.\u001b[39mUMAP()\n",
      "File \u001b[0;32m~/Desktop/current_projects/psmo/venv/lib/python3.10/site-packages/umap/umap_.py:29\u001b[0m\n\u001b[1;32m     27\u001b[0m \u001b[38;5;28;01mfrom\u001b[39;00m \u001b[38;5;21;01mscipy\u001b[39;00m\u001b[38;5;21;01m.\u001b[39;00m\u001b[38;5;21;01msparse\u001b[39;00m \u001b[38;5;28;01mimport\u001b[39;00m tril \u001b[38;5;28;01mas\u001b[39;00m sparse_tril, triu \u001b[38;5;28;01mas\u001b[39;00m sparse_triu\n\u001b[1;32m     28\u001b[0m \u001b[38;5;28;01mimport\u001b[39;00m \u001b[38;5;21;01mscipy\u001b[39;00m\u001b[38;5;21;01m.\u001b[39;00m\u001b[38;5;21;01msparse\u001b[39;00m\u001b[38;5;21;01m.\u001b[39;00m\u001b[38;5;21;01mcsgraph\u001b[39;00m\n\u001b[0;32m---> 29\u001b[0m \u001b[38;5;28;01mimport\u001b[39;00m \u001b[38;5;21;01mnumba\u001b[39;00m\n\u001b[1;32m     31\u001b[0m \u001b[38;5;28;01mimport\u001b[39;00m \u001b[38;5;21;01mumap\u001b[39;00m\u001b[38;5;21;01m.\u001b[39;00m\u001b[38;5;21;01mdistances\u001b[39;00m \u001b[38;5;28;01mas\u001b[39;00m \u001b[38;5;21;01mdist\u001b[39;00m\n\u001b[1;32m     33\u001b[0m \u001b[38;5;28;01mimport\u001b[39;00m \u001b[38;5;21;01mumap\u001b[39;00m\u001b[38;5;21;01m.\u001b[39;00m\u001b[38;5;21;01msparse\u001b[39;00m \u001b[38;5;28;01mas\u001b[39;00m \u001b[38;5;21;01msparse\u001b[39;00m\n",
      "File \u001b[0;32m~/Desktop/current_projects/psmo/venv/lib/python3.10/site-packages/numba/__init__.py:59\u001b[0m\n\u001b[1;32m     54\u001b[0m             msg \u001b[38;5;241m=\u001b[39m (\u001b[38;5;124m\"\u001b[39m\u001b[38;5;124mNumba requires SciPy version 1.0 or greater. Got SciPy \u001b[39m\u001b[38;5;124m\"\u001b[39m\n\u001b[1;32m     55\u001b[0m                    \u001b[38;5;124mf\u001b[39m\u001b[38;5;124m\"\u001b[39m\u001b[38;5;132;01m{\u001b[39;00mscipy\u001b[38;5;241m.\u001b[39m__version__\u001b[38;5;132;01m}\u001b[39;00m\u001b[38;5;124m.\u001b[39m\u001b[38;5;124m\"\u001b[39m)\n\u001b[1;32m     56\u001b[0m             \u001b[38;5;28;01mraise\u001b[39;00m \u001b[38;5;167;01mImportError\u001b[39;00m(msg)\n\u001b[0;32m---> 59\u001b[0m \u001b[43m_ensure_critical_deps\u001b[49m\u001b[43m(\u001b[49m\u001b[43m)\u001b[49m\n\u001b[1;32m     60\u001b[0m \u001b[38;5;66;03m# END DO NOT MOVE\u001b[39;00m\n\u001b[1;32m     61\u001b[0m \u001b[38;5;66;03m# ---------------------- WARNING WARNING WARNING ----------------------------\u001b[39;00m\n\u001b[1;32m     64\u001b[0m \u001b[38;5;28;01mfrom\u001b[39;00m \u001b[38;5;21;01m.\u001b[39;00m\u001b[38;5;21;01m_version\u001b[39;00m \u001b[38;5;28;01mimport\u001b[39;00m get_versions\n",
      "File \u001b[0;32m~/Desktop/current_projects/psmo/venv/lib/python3.10/site-packages/numba/__init__.py:45\u001b[0m, in \u001b[0;36m_ensure_critical_deps\u001b[0;34m()\u001b[0m\n\u001b[1;32m     42\u001b[0m \u001b[38;5;28;01mif\u001b[39;00m numpy_version \u001b[38;5;241m>\u001b[39m (\u001b[38;5;241m2\u001b[39m, \u001b[38;5;241m0\u001b[39m):\n\u001b[1;32m     43\u001b[0m     msg \u001b[38;5;241m=\u001b[39m (\u001b[38;5;124mf\u001b[39m\u001b[38;5;124m\"\u001b[39m\u001b[38;5;124mNumba needs NumPy 2.0 or less. Got NumPy \u001b[39m\u001b[38;5;124m\"\u001b[39m\n\u001b[1;32m     44\u001b[0m            \u001b[38;5;124mf\u001b[39m\u001b[38;5;124m\"\u001b[39m\u001b[38;5;132;01m{\u001b[39;00mnumpy_version[\u001b[38;5;241m0\u001b[39m]\u001b[38;5;132;01m}\u001b[39;00m\u001b[38;5;124m.\u001b[39m\u001b[38;5;132;01m{\u001b[39;00mnumpy_version[\u001b[38;5;241m1\u001b[39m]\u001b[38;5;132;01m}\u001b[39;00m\u001b[38;5;124m.\u001b[39m\u001b[38;5;124m\"\u001b[39m)\n\u001b[0;32m---> 45\u001b[0m     \u001b[38;5;28;01mraise\u001b[39;00m \u001b[38;5;167;01mImportError\u001b[39;00m(msg)\n\u001b[1;32m     47\u001b[0m \u001b[38;5;28;01mtry\u001b[39;00m:\n\u001b[1;32m     48\u001b[0m     \u001b[38;5;28;01mimport\u001b[39;00m \u001b[38;5;21;01mscipy\u001b[39;00m\n",
      "\u001b[0;31mImportError\u001b[0m: Numba needs NumPy 2.0 or less. Got NumPy 2.1."
     ]
    }
   ],
   "source": [
    "import umap.umap_ as umap\n",
    "import plotly.express as px\n",
    "\n",
    "trimap_viz = umap.UMAP()\n",
    "tmp = data[data.columns[:5]].copy()\n",
    "trimap_embedding = trimap_viz.fit_transform(tmp)\n",
    "\n",
    "fig = px.scatter(x=trimap_embedding[:, 0],\n",
    "                 y=trimap_embedding[:, 1],\n",
    "                 color=data[data.columns[-1]])\n",
    "fig.show()"
   ]
  },
  {
   "cell_type": "code",
   "execution_count": 91,
   "metadata": {
    "colab": {
     "base_uri": "https://localhost:8080/",
     "height": 542
    },
    "executionInfo": {
     "elapsed": 5748,
     "status": "ok",
     "timestamp": 1702000040455,
     "user": {
      "displayName": "Антон Золотарев",
      "userId": "00132696149152071356"
     },
     "user_tz": -180
    },
    "id": "DryGqPvUGeIk",
    "outputId": "45b513ad-74f2-46f3-cd34-443e61cdd8f2"
   },
   "outputs": [
    {
     "ename": "NameError",
     "evalue": "name 'trimap_viz' is not defined",
     "output_type": "error",
     "traceback": [
      "\u001b[0;31m---------------------------------------------------------------------------\u001b[0m",
      "\u001b[0;31mNameError\u001b[0m                                 Traceback (most recent call last)",
      "Cell \u001b[0;32mIn[91], line 1\u001b[0m\n\u001b[0;32m----> 1\u001b[0m trimap_test_embedding \u001b[38;5;241m=\u001b[39m \u001b[43mtrimap_viz\u001b[49m\u001b[38;5;241m.\u001b[39mtransform(X_test)\n\u001b[1;32m      3\u001b[0m fig \u001b[38;5;241m=\u001b[39m px\u001b[38;5;241m.\u001b[39mscatter(x\u001b[38;5;241m=\u001b[39mtrimap_test_embedding[:, \u001b[38;5;241m0\u001b[39m],\n\u001b[1;32m      4\u001b[0m                  y\u001b[38;5;241m=\u001b[39mtrimap_test_embedding[:, \u001b[38;5;241m1\u001b[39m],\n\u001b[1;32m      5\u001b[0m                  color\u001b[38;5;241m=\u001b[39my_test,\n\u001b[1;32m      6\u001b[0m                  hover_name\u001b[38;5;241m=\u001b[39my_pred)\n\u001b[1;32m      7\u001b[0m fig\u001b[38;5;241m.\u001b[39mshow()\n",
      "\u001b[0;31mNameError\u001b[0m: name 'trimap_viz' is not defined"
     ]
    }
   ],
   "source": [
    "trimap_test_embedding = trimap_viz.transform(X_test)\n",
    "\n",
    "fig = px.scatter(x=trimap_test_embedding[:, 0],\n",
    "                 y=trimap_test_embedding[:, 1],\n",
    "                 color=y_test,\n",
    "                 hover_name=y_pred)\n",
    "fig.show()"
   ]
  },
  {
   "cell_type": "markdown",
   "metadata": {
    "id": "Vx3hM-3ZDc-N"
   },
   "source": [
    "### бутстрапируем"
   ]
  },
  {
   "cell_type": "code",
   "execution_count": 92,
   "metadata": {
    "colab": {
     "base_uri": "https://localhost:8080/"
    },
    "executionInfo": {
     "elapsed": 262,
     "status": "ok",
     "timestamp": 1702001942035,
     "user": {
      "displayName": "Антон Золотарев",
      "userId": "00132696149152071356"
     },
     "user_tz": -180
    },
    "id": "zW3MhXFJ0ine",
    "outputId": "4fec116a-44e1-4dc4-d83c-dc1a1ffbf6f8"
   },
   "outputs": [
    {
     "data": {
      "text/plain": [
       "(2, 200)"
      ]
     },
     "execution_count": 92,
     "metadata": {},
     "output_type": "execute_result"
    }
   ],
   "source": [
    "test = np.vstack([y_test.to_numpy(), y_pred])\n",
    "test.shape"
   ]
  },
  {
   "cell_type": "code",
   "execution_count": 97,
   "metadata": {
    "executionInfo": {
     "elapsed": 18715,
     "status": "ok",
     "timestamp": 1702001961661,
     "user": {
      "displayName": "Антон Золотарев",
      "userId": "00132696149152071356"
     },
     "user_tz": -180
    },
    "id": "u669_4nL0P4Z"
   },
   "outputs": [],
   "source": [
    "accuracies, f1_scores = [], []\n",
    "for i in range(10000):\n",
    "  indicies = np.random.choice(np.arange(test.shape[1]), size=test.shape[1])\n",
    "  sample = test[:, indicies]\n",
    "  accuracies.append(accuracy_score(sample[0], sample[1]))\n",
    "  f1_scores.append(f1_score(sample[0], sample[1]))"
   ]
  },
  {
   "cell_type": "code",
   "execution_count": 98,
   "metadata": {
    "colab": {
     "base_uri": "https://localhost:8080/",
     "height": 616
    },
    "executionInfo": {
     "elapsed": 494,
     "status": "ok",
     "timestamp": 1702001962154,
     "user": {
      "displayName": "Антон Золотарев",
      "userId": "00132696149152071356"
     },
     "user_tz": -180
    },
    "id": "pg83lEdJ3ye7",
    "outputId": "f214e820-3638-4af2-b514-0bd053df252f"
   },
   "outputs": [
    {
     "data": {
      "image/png": "[encoded data removed]",
      "text/plain": [
       "<Figure size 1200x600 with 1 Axes>"
      ]
     },
     "metadata": {},
     "output_type": "display_data"
    }
   ],
   "source": [
    "plt.figure(figsize=(12, 6))\n",
    "plt.hist(accuracies, bins=20,\n",
    "         label='bootstrap_accuracy_distribution',\n",
    "         color='red', alpha=0.7, density=True)\n",
    "plt.vlines(accuracy_score(y_test, y_pred),\n",
    "           ymin=0, ymax=np.histogram(accuracies, bins=20, density=True)[0].max(),\n",
    "           label='original_accuracy', color='blue', linewidth=4)\n",
    "plt.grid()\n",
    "plt.legend()\n",
    "plt.show()"
   ]
  },
  {
   "cell_type": "code",
   "execution_count": 99,
   "metadata": {
    "executionInfo": {
     "elapsed": 14,
     "status": "ok",
     "timestamp": 1702002006696,
     "user": {
      "displayName": "Антон Золотарев",
      "userId": "00132696149152071356"
     },
     "user_tz": -180
    },
    "id": "WTBEN0Jx7fjJ"
   },
   "outputs": [],
   "source": [
    "def get_normal_ci(bootstrap_stats, original_stat, alpha):\n",
    "    \"\"\"Строит нормальный доверительный интервал.\"\"\"\n",
    "    z = stats.norm.ppf(1 - alpha / 2)\n",
    "    se = np.std(bootstrap_stats)\n",
    "    left, right = original_stat - z * se, original_stat + z * se\n",
    "    print('normal [%.4f, %.4f]' % (left, right))\n",
    "    return left, right\n",
    "\n",
    "def get_percentile_ci(bootstrap_stats, alpha):\n",
    "    \"\"\"Строит перцентильный доверительный интервал.\"\"\"\n",
    "    left, right = np.quantile(bootstrap_stats, [alpha / 2, 1 - alpha / 2])\n",
    "    print('percentile [%.4f, %.4f]' % (left, right))\n",
    "    return left, right\n",
    "\n",
    "def get_pivotal_ci(bootstrap_stats, original_stat, alpha):\n",
    "    \"\"\"Строит центральный доверительный интервал.\"\"\"\n",
    "    left, right= 2 * original_stat - np.quantile(bootstrap_stats, [1 - alpha / 2,  alpha / 2])\n",
    "    print('inverse percentile [%.4f, %.4f]' % (left, right))\n",
    "    return left, right"
   ]
  },
  {
   "cell_type": "code",
   "execution_count": 100,
   "metadata": {
    "colab": {
     "base_uri": "https://localhost:8080/",
     "height": 509
    },
    "executionInfo": {
     "elapsed": 475,
     "status": "ok",
     "timestamp": 1702002007823,
     "user": {
      "displayName": "Антон Золотарев",
      "userId": "00132696149152071356"
     },
     "user_tz": -180
    },
    "id": "VmvbAxy87r6U",
    "outputId": "0b963c6b-9a1f-4dcd-ca84-56b89582d77b"
   },
   "outputs": [
    {
     "name": "stdout",
     "output_type": "stream",
     "text": [
      "normal [0.7723, 0.8777]\n",
      "percentile [0.7700, 0.8750]\n",
      "inverse percentile [0.7750, 0.8800]\n"
     ]
    },
    {
     "data": {
      "image/png": "[encoded data removed]",
      "text/plain": [
       "<Figure size 640x480 with 1 Axes>"
      ]
     },
     "metadata": {},
     "output_type": "display_data"
    }
   ],
   "source": [
    "alpha = 0.05\n",
    "normal_ci = get_normal_ci(accuracies, accuracy_score(y_test, y_pred), alpha)\n",
    "percentile_ci = get_percentile_ci(accuracies, alpha)\n",
    "pivotal_ci = get_pivotal_ci(accuracies, accuracy_score(y_test, y_pred), alpha)\n",
    "\n",
    "sns.kdeplot(accuracies, label='kde статистики')\n",
    "plt.plot([accuracy_score(y_test, y_pred)], [0], 'o', c='k', markersize=6, label='точечная оценка')\n",
    "d = 0.3\n",
    "plt.plot(normal_ci, [-d, -d], label='нормальный ДИ')\n",
    "plt.plot(percentile_ci, [-d*2, -d*2], label='percentile ДИ')\n",
    "plt.plot(pivotal_ci, [-d*3, -d*3], label='reverse percentile ДИ')\n",
    "\n",
    "plt.title('Доверительные интервалы для accuracy')\n",
    "plt.legend()\n",
    "plt.show()"
   ]
  },
  {
   "cell_type": "code",
   "execution_count": 102,
   "metadata": {
    "colab": {
     "base_uri": "https://localhost:8080/",
     "height": 616
    },
    "executionInfo": {
     "elapsed": 615,
     "status": "ok",
     "timestamp": 1702002024464,
     "user": {
      "displayName": "Антон Золотарев",
      "userId": "00132696149152071356"
     },
     "user_tz": -180
    },
    "id": "AAO-z9-I8r1F",
    "outputId": "e0f6e7a9-3abc-4714-cb7e-237a45863ad7"
   },
   "outputs": [
    {
     "data": {
      "image/png": "[encoded data removed]",
      "text/plain": [
       "<Figure size 1200x600 with 1 Axes>"
      ]
     },
     "metadata": {},
     "output_type": "display_data"
    }
   ],
   "source": [
    "plt.figure(figsize=(12, 6))\n",
    "plt.hist(f1_scores, bins=20,\n",
    "         label='bootstrap_f1_distribution',\n",
    "         color='red', alpha=0.7, density=True)\n",
    "plt.vlines(f1_score(y_test, y_pred),\n",
    "           ymin=0, ymax=np.histogram(f1_scores, bins=20, density=True)[0].max(),\n",
    "           label='original_f1', color='blue', linewidth=4)\n",
    "plt.grid()\n",
    "plt.legend()\n",
    "plt.show()"
   ]
  },
  {
   "cell_type": "code",
   "execution_count": 103,
   "metadata": {
    "colab": {
     "base_uri": "https://localhost:8080/",
     "height": 509
    },
    "executionInfo": {
     "elapsed": 559,
     "status": "ok",
     "timestamp": 1702002029458,
     "user": {
      "displayName": "Антон Золотарев",
      "userId": "00132696149152071356"
     },
     "user_tz": -180
    },
    "id": "OwkOcwpE6CKj",
    "outputId": "6c286d5b-932e-423f-c4f5-ec62396ac021"
   },
   "outputs": [
    {
     "name": "stdout",
     "output_type": "stream",
     "text": [
      "normal [0.7310, 0.8644]\n",
      "percentile [0.7261, 0.8602]\n",
      "inverse percentile [0.7352, 0.8693]\n"
     ]
    },
    {
     "data": {
      "image/png": "[encoded data removed]",
      "text/plain": [
       "<Figure size 640x480 with 1 Axes>"
      ]
     },
     "metadata": {},
     "output_type": "display_data"
    }
   ],
   "source": [
    "normal_ci = get_normal_ci(f1_scores, f1_score(y_test, y_pred), alpha)\n",
    "percentile_ci = get_percentile_ci(f1_scores, alpha)\n",
    "pivotal_ci = get_pivotal_ci(f1_scores, f1_score(y_test, y_pred), alpha)\n",
    "\n",
    "sns.kdeplot(f1_scores, label='kde статистики')\n",
    "plt.plot([f1_score(y_test, y_pred)], [0], 'o', c='k', markersize=6, label='точечная оценка')\n",
    "d = 0.3\n",
    "plt.plot(normal_ci, [-d, -d], label='нормальный ДИ')\n",
    "plt.plot(percentile_ci, [-d*2, -d*2], label='percentile ДИ')\n",
    "plt.plot(pivotal_ci, [-d*3, -d*3], label='reverse percentile ДИ')\n",
    "\n",
    "plt.title('Доверительные интервалы для F1')\n",
    "plt.legend()\n",
    "plt.show()"
   ]
  },
  {
   "cell_type": "markdown",
   "metadata": {
    "id": "bHbDFyHsEoZD"
   },
   "source": [
    "## bootstrap для ДИ оценки параметров модели машинного обучения"
   ]
  },
  {
   "cell_type": "markdown",
   "metadata": {
    "id": "fso0FJJZKbXl"
   },
   "source": [
    "Допустим, мы хотим посчитать ДИ для количества *support vectors* в обученной модели (индикатор того, насколько однородны данные: если сильно меньше половины выборки - данные однородны, если примерно равно половине выборки - сложно полагаться на данную модель, поскольку ей едва хватило данных из обучения для подбора разделяющей гиперплоскости)"
   ]
  },
  {
   "cell_type": "code",
   "execution_count": 104,
   "metadata": {
    "colab": {
     "base_uri": "https://localhost:8080/"
    },
    "executionInfo": {
     "elapsed": 250,
     "status": "ok",
     "timestamp": 1702000875820,
     "user": {
      "displayName": "Антон Золотарев",
      "userId": "00132696149152071356"
     },
     "user_tz": -180
    },
    "id": "QPA0Yb-VKFH5",
    "outputId": "85b9557e-2340-411a-ee23-09a28c39a4d2"
   },
   "outputs": [
    {
     "data": {
      "text/plain": [
       "array([  0,   6,   9,  13,  22,  25,  35,  38,  40,  42,  44,  47,  56,\n",
       "        57,  65,  66,  67,  68,  69,  71,  80,  87,  88,  96,  98,  99,\n",
       "       103, 105, 108, 109, 113, 114, 115, 117, 120, 121, 125, 127, 129,\n",
       "       131, 132, 145, 147, 151, 152, 155, 158, 159, 160, 162, 166, 167,\n",
       "       173, 185, 186, 192, 195, 197, 199, 216, 217, 218, 221, 222, 227,\n",
       "       232, 236, 239, 249, 255, 257, 259, 262, 263, 264, 265, 267, 269,\n",
       "       271, 275, 276, 278, 279, 284, 287, 291, 296, 298, 301, 302, 304,\n",
       "       308, 318, 322, 326, 329, 330, 333, 339, 340, 346, 347, 348, 353,\n",
       "       361, 373, 376, 377, 379, 384, 387, 393, 394, 396, 397, 407, 413,\n",
       "       418, 419, 422, 423, 425, 427, 432, 435, 439, 442, 443, 445, 448,\n",
       "       453, 454, 455, 467, 471, 472, 477, 478, 491, 496, 504, 512, 516,\n",
       "       522, 529, 534, 536, 538, 546, 549, 551, 561, 563, 568, 573, 576,\n",
       "       577, 587, 591, 595, 598, 600, 602, 606, 609, 612, 613, 619, 624,\n",
       "       626, 630, 632, 633, 636, 643, 644, 656, 660, 663, 666, 667, 669,\n",
       "       674, 677, 684, 688, 699, 701, 702, 705, 706, 710, 716, 718, 720,\n",
       "       721, 724, 726, 728, 729, 731, 733, 738, 740, 741, 742, 745, 765,\n",
       "       770, 773, 776, 778, 780, 785, 790, 791, 793, 795, 799,   2,   5,\n",
       "        12,  15,  20,  23,  24,  27,  32,  34,  39,  43,  48,  49,  52,\n",
       "        54,  64,  73,  77,  81,  94,  95, 111, 122, 124, 128, 130, 134,\n",
       "       135, 140, 148, 154, 156, 163, 174, 177, 178, 183, 187, 188, 189,\n",
       "       194, 198, 200, 201, 202, 205, 207, 208, 209, 219, 220, 223, 226,\n",
       "       229, 230, 231, 238, 244, 246, 251, 253, 260, 261, 273, 280, 282,\n",
       "       283, 286, 288, 289, 290, 294, 295, 297, 299, 300, 305, 309, 310,\n",
       "       313, 314, 315, 320, 321, 324, 325, 332, 335, 336, 338, 343, 344,\n",
       "       345, 351, 352, 355, 358, 360, 367, 368, 371, 374, 380, 382, 383,\n",
       "       388, 390, 391, 392, 398, 400, 401, 402, 406, 408, 410, 411, 415,\n",
       "       421, 424, 430, 436, 447, 450, 459, 461, 474, 479, 480, 482, 485,\n",
       "       488, 490, 492, 494, 497, 499, 500, 502, 507, 513, 517, 518, 526,\n",
       "       533, 541, 542, 544, 545, 548, 554, 555, 556, 564, 565, 570, 572,\n",
       "       581, 583, 590, 592, 596, 604, 610, 614, 616, 618, 621, 627, 628,\n",
       "       629, 631, 635, 637, 646, 652, 653, 655, 657, 658, 665, 673, 675,\n",
       "       682, 683, 690, 691, 695, 697, 698, 703, 715, 717, 723, 730, 732,\n",
       "       734, 735, 739, 744, 750, 752, 753, 760, 764, 766, 768, 772, 777,\n",
       "       779, 782, 783, 786, 787, 788, 797], dtype=int32)"
      ]
     },
     "execution_count": 104,
     "metadata": {},
     "output_type": "execute_result"
    }
   ],
   "source": [
    "model.support_"
   ]
  },
  {
   "cell_type": "code",
   "execution_count": 105,
   "metadata": {
    "colab": {
     "base_uri": "https://localhost:8080/"
    },
    "executionInfo": {
     "elapsed": 275,
     "status": "ok",
     "timestamp": 1702001208384,
     "user": {
      "displayName": "Антон Золотарев",
      "userId": "00132696149152071356"
     },
     "user_tz": -180
    },
    "id": "6CvW_Dt2LBWO",
    "outputId": "ed21108b-9904-46f8-f308-912e4b1a3709"
   },
   "outputs": [
    {
     "data": {
      "text/plain": [
       "np.int32(219)"
      ]
     },
     "execution_count": 105,
     "metadata": {},
     "output_type": "execute_result"
    }
   ],
   "source": [
    "original_n_support = model.n_support_[0]\n",
    "original_n_support"
   ]
  },
  {
   "cell_type": "code",
   "execution_count": 106,
   "metadata": {
    "colab": {
     "base_uri": "https://localhost:8080/"
    },
    "executionInfo": {
     "elapsed": 14001,
     "status": "ok",
     "timestamp": 1702001650978,
     "user": {
      "displayName": "Антон Золотарев",
      "userId": "00132696149152071356"
     },
     "user_tz": -180
    },
    "id": "iDOyFBuwLR8k",
    "outputId": "533dfbc1-858f-460c-b469-582fe016c14c"
   },
   "outputs": [
    {
     "name": "stdout",
     "output_type": "stream",
     "text": [
      "222\n",
      "210\n",
      "217\n",
      "221\n",
      "216\n",
      "212\n",
      "213\n",
      "233\n",
      "209\n",
      "227\n"
     ]
    }
   ],
   "source": [
    "bootstrap_n_support = []\n",
    "for i in range(1000):\n",
    "  indicies = np.random.choice(np.arange(len(X_train)), size=len(X_train))\n",
    "  X_train_bootstrap = X_train.to_numpy()[indicies, :]\n",
    "  y_train_bootstrap = y_train.to_numpy()[indicies]\n",
    "  model = SVC()\n",
    "  model.fit(X_train_bootstrap, y_train_bootstrap)\n",
    "  bootstrap_n_support.append(model.n_support_[0])\n",
    "  if i % 100 == 0:\n",
    "    print(model.n_support_[0])"
   ]
  },
  {
   "cell_type": "code",
   "execution_count": 108,
   "metadata": {
    "colab": {
     "base_uri": "https://localhost:8080/",
     "height": 616
    },
    "executionInfo": {
     "elapsed": 548,
     "status": "ok",
     "timestamp": 1702002043156,
     "user": {
      "displayName": "Антон Золотарев",
      "userId": "00132696149152071356"
     },
     "user_tz": -180
    },
    "id": "1Jh-UtjoNDm9",
    "outputId": "bf38544b-f840-4613-db46-155204b92f64"
   },
   "outputs": [
    {
     "data": {
      "image/png": "[encoded data removed]",
      "text/plain": [
       "<Figure size 1200x600 with 1 Axes>"
      ]
     },
     "metadata": {},
     "output_type": "display_data"
    }
   ],
   "source": [
    "plt.figure(figsize=(12, 6))\n",
    "plt.hist(bootstrap_n_support, bins=20,\n",
    "         label='bootstrap num n support distribution',\n",
    "         color='red', alpha=0.7, density=True)\n",
    "plt.vlines(original_n_support,\n",
    "           ymin=0,\n",
    "           ymax=np.histogram(bootstrap_n_support, bins=20, density=True)[0].max(),\n",
    "           label='original num n support', color='blue', linewidth=4)\n",
    "plt.grid()\n",
    "plt.legend()\n",
    "plt.show()"
   ]
  },
  {
   "cell_type": "code",
   "execution_count": 109,
   "metadata": {
    "colab": {
     "base_uri": "https://localhost:8080/",
     "height": 509
    },
    "executionInfo": {
     "elapsed": 645,
     "status": "ok",
     "timestamp": 1702002047527,
     "user": {
      "displayName": "Антон Золотарев",
      "userId": "00132696149152071356"
     },
     "user_tz": -180
    },
    "id": "OwHnWuC_Njit",
    "outputId": "4344ae2e-6855-4ed3-ea79-702edf65348e"
   },
   "outputs": [
    {
     "name": "stdout",
     "output_type": "stream",
     "text": [
      "normal [203.6171, 234.3829]\n",
      "percentile [199.0000, 229.0250]\n",
      "inverse percentile [208.9750, 239.0000]\n"
     ]
    },
    {
     "data": {
      "image/png": "[encoded data removed]",
      "text/plain": [
       "<Figure size 640x480 with 1 Axes>"
      ]
     },
     "metadata": {},
     "output_type": "display_data"
    }
   ],
   "source": [
    "normal_ci = get_normal_ci(bootstrap_n_support, original_n_support, alpha)\n",
    "percentile_ci = get_percentile_ci(bootstrap_n_support, alpha)\n",
    "pivotal_ci = get_pivotal_ci(bootstrap_n_support, original_n_support, alpha)\n",
    "\n",
    "sns.kdeplot(bootstrap_n_support, label='kde статистики')\n",
    "plt.plot([original_n_support], [0], 'o', c='k', markersize=6, label='точечная оценка')\n",
    "d = 0.002\n",
    "plt.plot(normal_ci, [-d, -d], label='нормальный ДИ')\n",
    "plt.plot(percentile_ci, [-d*2, -d*2], label='percentile ДИ')\n",
    "plt.plot(pivotal_ci, [-d*3, -d*3], label='reverse percentile ДИ')\n",
    "\n",
    "plt.title('Доверительные интервалы для количества Support Vectors для класса 0')\n",
    "plt.legend()\n",
    "plt.show()"
   ]
  },
  {
   "cell_type": "markdown",
   "metadata": {
    "id": "2cwv2Jtf5VZD"
   },
   "source": [
    "А как можно было бы оценить ДИ для параметров других типов моделей?\n",
    "* Наивный Байес\n",
    "* Линейная регрессия"
   ]
  },
  {
   "cell_type": "markdown",
   "metadata": {
    "id": "Olwlf9s8ZVVS"
   },
   "source": [
    "### Ссылочки"
   ]
  },
  {
   "cell_type": "markdown",
   "metadata": {
    "id": "L_6kIyomZahZ"
   },
   "source": [
    "\n",
    "* [ДЗ прошлого года](https://github.com/bdemeshev/psmo_2022-23/blob/main/ha_02/psmo-ha_02.pdf)\n",
    "* [Реализация в scipy](https://docs.scipy.org/doc/scipy/reference/generated/scipy.stats.bootstrap.html)\n",
    "* [Статья на хабре](https://habr.com/ru/companies/X5Tech/articles/679842/)\n",
    "* [Описание принципов подсчёта разных бутстрэп интервалов](https://ocw.mit.edu/courses/18-05-introduction-to-probability-and-statistics-spring-2014/77906546c17ee79eb6e64194175e82ed_MIT18_05S14_Reading24.pdf)\n",
    "* [BCA-bootstrap](https://www.erikdrysdale.com/bca_python/)"
   ]
  }
 ],
 "metadata": {
  "colab": {
   "provenance": [
    {
     "file_id": "1aYPnd-Ufwod8IY4SFcgCKVCtH_XyL8n0",
     "timestamp": 1692472841720
    }
   ]
  },
  "kernelspec": {
   "display_name": "venv",
   "language": "python",
   "name": "python3"
  },
  "language_info": {
   "codemirror_mode": {
    "name": "ipython",
    "version": 3
   },
   "file_extension": ".py",
   "mimetype": "text/x-python",
   "name": "python",
   "nbconvert_exporter": "python",
   "pygments_lexer": "ipython3",
   "version": "3.10.11"
  },
  "vscode": {
   "interpreter": {
    "hash": "d75da1dac404182503559a531177030cede5fb1808a6b0942159d57f066fccfc"
   }
  }
 },
 "nbformat": 4,
 "nbformat_minor": 0
}
