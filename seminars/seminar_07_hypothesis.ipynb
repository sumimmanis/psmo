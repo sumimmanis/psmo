{
 "cells": [
  {
   "attachments": {},
   "cell_type": "markdown",
   "metadata": {},
   "source": [
    "# Cтатистические критерии и проверка гипотез"
   ]
  },
  {
   "cell_type": "code",
   "execution_count": 1,
   "metadata": {},
   "outputs": [],
   "source": [
    "import numpy as np\n",
    "from scipy import stats as ss\n",
    "\n",
    "import pickle\n",
    "\n",
    "import matplotlib.pyplot as plt\n",
    "%matplotlib inline"
   ]
  },
  {
   "attachments": {},
   "cell_type": "markdown",
   "metadata": {},
   "source": [
    "## Задание 1\n",
    "\n",
    "Так какая кофейня лучше, согласно данным Алексея? Примените $z$-критерий для ответа на этот вопрос. Напишите ниже какую гипотезу против какой альтернативы вы проверяете, напишите процедуру проверки критерия по данным и сделайте вывод."
   ]
  },
  {
   "cell_type": "code",
   "execution_count": 2,
   "metadata": {},
   "outputs": [],
   "source": [
    "with open(\"./data/seminar_04_coffee.pkl\",\"rb\") as f:#Путь к вашему файлу \n",
    "    vals=pickle.load(f)\n",
    "    coffeePoint = vals[\"coffeePoint\"]\n",
    "    pointCoffee = vals[\"pointCoffee\"]"
   ]
  },
  {
   "cell_type": "code",
   "execution_count": 3,
   "metadata": {},
   "outputs": [
    {
     "data": {
      "text/plain": [
       "array([0, 1, 1, 0, 1, 0, 1, 0, 1, 0, 0, 1, 0, 0, 0, 0, 0, 1, 1, 0, 0, 1,\n",
       "       0, 0, 1, 0, 0, 0, 1, 0, 0, 0, 0, 0, 1, 0, 0, 0, 0, 0, 0, 0, 0, 0,\n",
       "       0, 1, 1, 0, 0, 1, 0, 0, 1, 0, 0, 0, 0, 0, 0, 1, 0, 1, 0, 0, 1, 0,\n",
       "       0, 0, 0, 0, 0, 0, 1, 0, 0, 1, 0, 0, 1, 0, 1, 0, 0, 0, 0, 0, 1, 0,\n",
       "       0, 0, 0, 0, 0, 1, 1, 0, 0, 1, 0, 1], dtype=int32)"
      ]
     },
     "execution_count": 3,
     "metadata": {},
     "output_type": "execute_result"
    }
   ],
   "source": [
    "coffeePoint"
   ]
  },
  {
   "cell_type": "code",
   "execution_count": 4,
   "metadata": {},
   "outputs": [
    {
     "data": {
      "text/plain": [
       "array([0, 0, 0, 1, 0, 0, 0, 0, 0, 1, 0, 1, 1, 1, 1, 0, 0, 0, 1, 1, 0, 0,\n",
       "       0, 0, 1, 0, 0, 1, 1, 0, 1, 1, 1, 1, 1, 0, 1, 1, 0, 0, 0, 0, 0, 1,\n",
       "       0, 0, 0, 0, 1, 0, 0, 1, 1, 0, 1, 0, 1, 1, 1, 1, 0, 0, 1, 1, 1, 0,\n",
       "       1, 1, 0, 1, 0, 1, 1, 1, 1, 1, 0, 1, 1, 1, 0, 0, 0, 1, 0, 1, 0, 0,\n",
       "       1, 0, 0, 0, 1, 0, 0, 0, 1, 0, 1, 0], dtype=int32)"
      ]
     },
     "execution_count": 4,
     "metadata": {},
     "output_type": "execute_result"
    }
   ],
   "source": [
    "pointCoffee"
   ]
  },
  {
   "cell_type": "code",
   "execution_count": 5,
   "metadata": {},
   "outputs": [
    {
     "data": {
      "text/plain": [
       "np.float64(0.28)"
      ]
     },
     "execution_count": 5,
     "metadata": {},
     "output_type": "execute_result"
    }
   ],
   "source": [
    "coffeePoint.mean()"
   ]
  },
  {
   "cell_type": "code",
   "execution_count": 6,
   "metadata": {},
   "outputs": [
    {
     "data": {
      "text/plain": [
       "np.float64(0.47)"
      ]
     },
     "execution_count": 6,
     "metadata": {},
     "output_type": "execute_result"
    }
   ],
   "source": [
    "pointCoffee.mean()"
   ]
  },
  {
   "cell_type": "code",
   "execution_count": 7,
   "metadata": {},
   "outputs": [],
   "source": [
    "#ваше решение\n",
    "\n",
    "# 1 -- coffeePoint\n",
    "# 2 -- pointCoffee\n",
    "\n",
    "# H_0: p_1 = p_2\n",
    "# H_A: p_1 < p_2\n",
    "\n",
    "def checkCoffee(data,alpha):\n",
    "    \n",
    "    n = len(data[\"coffeePoint\"])\n",
    "    m = len(data[\"pointCoffee\"])\n",
    "\n",
    "    hat_p_1 = np.mean(data[\"coffeePoint\"])\n",
    "    hat_p_2 = np.mean(data[\"pointCoffee\"])\n",
    "\n",
    "    sigma_sq_1 = (hat_p_1 * (1 - hat_p_1)) \n",
    "    sigma_sq_2 = (hat_p_2 * (1 - hat_p_2))\n",
    "\n",
    "    sigma = np.sqrt(sigma_sq_1/n + sigma_sq_2/m)\n",
    "\n",
    "    statistic = (hat_p_1 - hat_p_2) / sigma\n",
    "\n",
    "    # Односторонняя альтернатива справа\n",
    "    z = ss.norm.ppf(alpha)\n",
    "\n",
    "    interval = ('-inf', (hat_p_1 - hat_p_2) + z * sigma)\n",
    "\n",
    "    pval = ss.norm.cdf(statistic)\n",
    "    print(f\"Statistic: {statistic}\")\n",
    "    print(f\"P-value: {pval}\")\n",
    "    print(f'Interval: {interval[0]}, {interval[1]}')\n"
   ]
  },
  {
   "cell_type": "code",
   "execution_count": 8,
   "metadata": {},
   "outputs": [
    {
     "name": "stdout",
     "output_type": "stream",
     "text": [
      "Statistic: -2.8301523972260383\n",
      "P-value: 0.002326291841384217\n",
      "Interval: -inf, -0.30042592244399874\n"
     ]
    }
   ],
   "source": [
    "checkCoffee(vals, 0.05)"
   ]
  },
  {
   "attachments": {},
   "cell_type": "markdown",
   "metadata": {},
   "source": [
    "ВАШИ ВЫВОДЫ ЗДЕСЬ"
   ]
  },
  {
   "attachments": {},
   "cell_type": "markdown",
   "metadata": {},
   "source": [
    "## Задание 2\n",
    "\n",
    "Галилео Галилей (ГГ, имя изменено) записал наблюдения для двух серий испытаний, в ходе которых он сбрасывал два разных по массе, н оодинаковых по форме шара. Времена падения в первом случае составили $X_1,..,X_n$, а во втором $Y_1,..,Y_n$. ГГ предполагает, что время падения на самом деле фиксировано для первого и второго шара, но вот вопрос, равны ли они?\n",
    "\n",
    "Здесь нам снова поможет $z$-критерий, получающийся с помощью ЦПТ. Но интересно, что если бы мы имели основания предполагать гауссовость наблюдений (для проверки этого тоже есть свои критерии), то критерий получился бы другой.\n",
    "\n",
    "Центральная предельная теорема говорит, что при больших $n$ приближённо\n",
    "$$\n",
    "\\frac{\\sqrt{n}\\left( \\overline{X} - \\overline{Y} - \\mathbb{E}[X-Y]\\right)}{\\sigma(X-Y)} \\sim \\mathcal{N}(0,1).\n",
    "$$\n",
    "Проблема в том, что $\\sigma$ нам неизвестна, но мы можем использовать ЦПТ и в случае, если мы поменяем её на выборочный аналог\n",
    "$$\n",
    "\\hat{\\sigma} = \\sqrt{\\hat{\\sigma}(X)^2 + \\hat{\\sigma}(Y)},\n",
    "$$\n",
    "где $\\hat{\\sigma}(X)^2, \\hat{\\sigma}(Y)^2$ -- это выборочные дисперсии.\n",
    "\n",
    "Постройте $z$-критерий для проверки гипотезы\n",
    "$$\n",
    "H_0: \\mathbb{E}[X]=\\mathbb{E}[Y]\n",
    "$$\n",
    "против альтернативы\n",
    "$$\n",
    "H_A: \\mathbb{E}[X] \\neq \\mathbb{E}[Y].\n",
    "$$\n",
    "Используйте этот критерий для ответа на вопрос: является ли время падения одинаковым для первого и второго шара?\n"
   ]
  },
  {
   "cell_type": "code",
   "execution_count": 9,
   "metadata": {},
   "outputs": [],
   "source": [
    "with open(\"./data/seminar_04_galileo.pkl\", \"rb\") as f:#данные из ДЗ\n",
    "    vals = pickle.load(f)\n",
    "    ball1Times = vals[\"ball1Times\"]\n",
    "    ball2Times = vals[\"ball2Times\"]"
   ]
  },
  {
   "cell_type": "code",
   "execution_count": 17,
   "metadata": {},
   "outputs": [],
   "source": [
    "def checkTime(X, Y, alpha):\n",
    "    \n",
    "    # Здесь написан более общий случай для выборок разного размера\n",
    "    n_x = len(X)\n",
    "    n_y = len(Y)\n",
    "\n",
    "    X_bar = np.mean(X)\n",
    "    Y_bar = np.mean(Y)\n",
    "\n",
    "    sigma_sq_X = np.std(X) ** 2\n",
    "    sigma_sq_Y = np.std(Y) ** 2\n",
    "\n",
    "    sigma = np.sqrt(sigma_sq_X / n_x + sigma_sq_Y / n_y)\n",
    "\n",
    "    statistic = (X_bar - Y_bar) / sigma\n",
    "\n",
    "    # Двусторонняя альтернатива\n",
    "    z = ss.norm.ppf(1-alpha/2)\n",
    "\n",
    "\n",
    "    interval = ((X_bar - Y_bar) - z * sigma, (X_bar - Y_bar) + z * sigma)\n",
    "\n",
    "    cdf = ss.norm.cdf(statistic)\n",
    "\n",
    "    if cdf > 0.5:\n",
    "        pval = 2 * (1 - cdf)\n",
    "\n",
    "    else:\n",
    "        pval = 2*cdf\n",
    "\n",
    "    print(f\"Statistic: {statistic}\")\n",
    "    print(f\"P-value: {pval}\")\n",
    "    print(f'Interval: {interval[0]}, {interval[1]}')"
   ]
  },
  {
   "cell_type": "code",
   "execution_count": 18,
   "metadata": {},
   "outputs": [
    {
     "name": "stdout",
     "output_type": "stream",
     "text": [
      "Statistic: -0.8612150980439748\n",
      "P-value: 0.3891195861290243\n",
      "Interval: -0.057175535854011326, 0.02226783714023247\n"
     ]
    }
   ],
   "source": [
    "checkTime(ball1Times, ball2Times, 0.05)"
   ]
  },
  {
   "attachments": {},
   "cell_type": "markdown",
   "metadata": {},
   "source": [
    "## Задание 3\n",
    "\n",
    "ГГ где-то слышал, что в экспериментах ошибки обычно имеют почти гауссовское распределение, но ему не очень в это верится. Мы можем проверить выборку на соответствие заданному закону распределения с использованием критерия Колмогорова. Конкретнее, мы будем проверять\n",
    "$$\n",
    "H_0: X_1,..,X_n \\sim \\mathcal{N}(\\overline{X}, \\hat{\\sigma}(X))\n",
    "$$\n",
    "против альтернативы\n",
    "$$\n",
    "H_A: X_1,..,X_n \\nsim \\mathcal{N}(\\overline{X}, \\hat{\\sigma}(X))\n",
    "$$\n",
    "с использование статистики\n",
    "$$\n",
    "D = \\sqrt{n} \\sup_x \\vert F_{\\mathcal{N}} - \\hat{F}(x)\\vert,\n",
    "$$\n",
    "где $F_{\\mathcal{N}}$ -- это функция распределения $\\mathcal{N}(\\overline{X}, \\hat{\\sigma}(X))$, а $\\hat{F}$ -- эмпирическая функция распределения, которая задётся как\n",
    "$$\n",
    "\\hat{F}(x) = \\frac{1}{n}\\sum_{i=1}^n \\mathbb{1}(X_i \\leq x).\n",
    "$$\n",
    "Выражение $1(условие)$ равно $1$, если условие верно и $0$ в противном случае -- так выше считается количество элементов выборки $\\leq x$.\n",
    "\n",
    "Статистика $D$ при больших $n$ (сотен уже достаточно) имеет распределение Колмогорова, так что можно построитть критерий для проверки. Чтобы упростить техническую часть с подсчётом $D$, мы воспользуемся готовым тестом из пакета scipy.stats."
   ]
  },
  {
   "cell_type": "code",
   "execution_count": 107,
   "metadata": {},
   "outputs": [],
   "source": [
    "with open(\"./data/seminar_04_galileo.pkl\", \"rb\") as f:#данные из ДЗ\n",
    "    vals = pickle.load(f)\n",
    "    ball1Times = vals[\"ball1Times\"]\n",
    "    ball2Times = vals[\"ball2Times\"]"
   ]
  },
  {
   "attachments": {},
   "cell_type": "markdown",
   "metadata": {},
   "source": [
    "Нарисуйте две гистограммы для ball1Times и ball2Times."
   ]
  },
  {
   "cell_type": "code",
   "execution_count": 109,
   "metadata": {},
   "outputs": [
    {
     "data": {
      "text/plain": [
       "(array([ 1.,  0.,  0.,  1.,  1.,  2.,  6.,  1.,  7.,  5.,  5.,  6., 11.,\n",
       "         7.,  6., 14., 15., 25., 19., 14., 11.,  7., 10.,  7.,  7.,  4.,\n",
       "         2.,  3.,  3.,  2.]),\n",
       " array([2.71305747, 2.7548961 , 2.79673472, 2.83857334, 2.88041197,\n",
       "        2.92225059, 2.96408922, 3.00592784, 3.04776646, 3.08960509,\n",
       "        3.13144371, 3.17328233, 3.21512096, 3.25695958, 3.2987982 ,\n",
       "        3.34063683, 3.38247545, 3.42431408, 3.4661527 , 3.50799132,\n",
       "        3.54982995, 3.59166857, 3.63350719, 3.67534582, 3.71718444,\n",
       "        3.75902306, 3.80086169, 3.84270031, 3.88453893, 3.92637756,\n",
       "        3.96821618]),\n",
       " <BarContainer object of 30 artists>)"
      ]
     },
     "execution_count": 109,
     "metadata": {},
     "output_type": "execute_result"
    },
    {
     "data": {
      "image/png": "[encoded data removed]",
      "text/plain": [
       "<Figure size 1000x400 with 2 Axes>"
      ]
     },
     "metadata": {},
     "output_type": "display_data"
    }
   ],
   "source": [
    "f, (ax1,ax2) = plt.subplots(1,2, figsize=(10,4))\n",
    "\n",
    "ax1.grid()\n",
    "ax1.set_title(\"Гистограмма ball1Times\")\n",
    "ax1.set_xlabel(\"Времена падения, сек\")\n",
    "#нарисуте гистограмму, используя ax1.hist\n",
    "ax1.hist(ball1Times)\n",
    "\n",
    "ax2.grid()\n",
    "ax2.set_title(\"Гистограмма ball2Times\")\n",
    "ax2.set_xlabel(\"Времена падения, сек\")\n",
    "#нарисуте гистограмму, используя ax2.hist\n",
    "ax2.hist(ball2Times, bins=30)"
   ]
  },
  {
   "attachments": {},
   "cell_type": "markdown",
   "metadata": {},
   "source": [
    "Вроде похоже на нормальное, но на глаз сложно. Нарисуйте две функции распределения: соответствующую гипотезе ($F_{\\mathcal{N}(0,1)}$) и эмпирическую функцию распределения $\\hat{F}$ для выборок $X,Y$."
   ]
  },
  {
   "cell_type": "code",
   "execution_count": 110,
   "metadata": {},
   "outputs": [
    {
     "data": {
      "text/plain": [
       "<matplotlib.legend.Legend at 0x11c527a90>"
      ]
     },
     "execution_count": 110,
     "metadata": {},
     "output_type": "execute_result"
    },
    {
     "data": {
      "image/png": "[encoded data removed]",
      "text/plain": [
       "<Figure size 1000x400 with 2 Axes>"
      ]
     },
     "metadata": {},
     "output_type": "display_data"
    }
   ],
   "source": [
    "#ПОДСКАЗКА функция распределения N(0,1) -- это функция spstats.norm.cdf\n",
    "#           но будьте внимательны, так как у данных другие матожидание и дисперсия, \n",
    "#           при рисовании нужно писать spstats.norm.cdf(  (xs - среднее)/стдОтклонение ) \n",
    "\n",
    "#ПОДСКАЗКА эмпирическая функция распределения растёт ступеньками, прибавляя 1/n на каждой;\n",
    "#          начало каждой ступеньки -- это новая точка выборки;\n",
    "#          если выборка отсортирована по возрастанию, то можно написать plot(xs, (1+np.arange(n))/n);\n",
    "#          для сортировки попробуйте np.sort\n",
    "\n",
    "#ПОДСКАЗКА чтобы matplotlib рисовал именно ступеньки, а не ломаную, используйте ax.step вместо ax.plot\n",
    "\n",
    "#сетка аргументов для рисования cdf\n",
    "x1s = np.arange(np.min(ball1Times),np.max(ball1Times)+0.5, step=(np.max(ball1Times) - np.min(ball1Times))/1000 )\n",
    "x2s = np.arange(np.min(ball2Times),np.max(ball2Times)+0.5, step=(np.max(ball2Times) - np.min(ball2Times))/1000 )\n",
    "\n",
    "\n",
    "f, (ax1,ax2) = plt.subplots(1,2, figsize=(10,4))\n",
    "\n",
    "ax1.grid()\n",
    "ax1.set_title(\"Функция распределения, шар 1\")\n",
    "ax1.set_xlabel(\"Времена падения, сек\")\n",
    "ax1.step(np.sort(ball1Times), (1+np.arange(len(ball1Times)))/len(ball1Times))\n",
    "ax1.plot(x1s,ss.norm.cdf( (x1s - np.mean(ball1Times))/np.std(ball1Times)) )\n",
    "ax1.legend([\"эмп\",\"гип\"])\n",
    "\n",
    "ax2.grid()\n",
    "ax2.set_title(\"Функция распределения, шар 2\")\n",
    "ax2.set_xlabel(\"Времена падения, сек\")\n",
    "ax2.step(np.sort(ball2Times), (1+np.arange(len(ball2Times)))/len(ball2Times))\n",
    "ax2.plot(x2s,ss.norm.cdf( (x2s - np.mean(ball2Times))/np.std(ball2Times)) ) \n",
    "ax2.legend([\"эмп\",\"гип\"])"
   ]
  },
  {
   "attachments": {},
   "cell_type": "markdown",
   "metadata": {},
   "source": [
    "Вроде похоже на нормальное, но нам нужно проверить критерий Колмогорова."
   ]
  },
  {
   "cell_type": "code",
   "execution_count": 111,
   "metadata": {},
   "outputs": [
    {
     "name": "stdout",
     "output_type": "stream",
     "text": [
      "KstestResult(statistic=np.float64(0.05145783403573323), pvalue=np.float64(0.6394430168040082), statistic_location=np.float64(0.23296709755069558), statistic_sign=np.int8(1))\n",
      "KstestResult(statistic=np.float64(0.08220091417513115), pvalue=np.float64(0.12333067024220112), statistic_location=np.float64(-0.30750208758668895), statistic_sign=np.int8(-1))\n"
     ]
    }
   ],
   "source": [
    "#spstats.kstest(data,cdf) проверяет критерий Колмогорова на соответствие данных функции распределения cdf\n",
    "\n",
    "#ПОДСКАЗКА вам вернётся статистика и p-value (см. подробнее справку)\n",
    "#ПОДСКАЗКА помните, что spstats.norm.cdf -- это функция распределения N(0,1), \n",
    "#                    то есть, данные data нужно центрировать и нормировать стандратным отклонением\n",
    "\n",
    "print(ss.kstest( (ball1Times-np.mean(ball1Times))/np.std(ball1Times), ss.norm.cdf ))\n",
    "print(ss.kstest( (ball2Times-np.mean(ball2Times))/np.std(ball2Times), ss.norm.cdf ))"
   ]
  },
  {
   "cell_type": "code",
   "execution_count": 116,
   "metadata": {},
   "outputs": [],
   "source": [
    "# TODO Добавить гипотезу о равенстве дисперсий"
   ]
  },
  {
   "attachments": {},
   "cell_type": "markdown",
   "metadata": {},
   "source": [
    "## Задание 4\n",
    "\n",
    "Оказывается, что в случае, если распределение двух выборок $X_1,..,X_n$ и $Y_1,..,Y_n$ гауссовское, то можно предложить другой точный(не асимптотический) критерий, называемый критерием Стьюдента.\n",
    "\n",
    "Распределение Стьюдента c $n-1$ степенью свободы задаётся на основе выборки $X_1,..,X_n \\sim \\mathcal{N}(\\mu,\\sigma^2)$ как распределение\n",
    "$$\n",
    "\\frac{\\sqrt{n}\\left( \\overline{X} -\\mathbb{E}[X] \\right)}{\\hat{\\sigma}} \\sim t(n-1).\n",
    "$$\n",
    "\n",
    "Поэтому при неизвестной, но (предполагаемой) одинаковой дисперсии двух гауссовских выборок $X_1,..,X_m \\sim \\mathcal{N}(\\mu_1, \\sigma^2)$ и $Y_1,..,Y_n \\sim \\mathcal{N}(\\mu_2, \\sigma^2)$ можно построить критерий для проверки гипотезы\n",
    "$$\n",
    "H_0: \\mu_1 =\\mu_2\n",
    "$$\n",
    "против альтернативы \n",
    "$$\n",
    "H_A: \\mu_1 \\neq \\mu_2\n",
    "$$\n",
    "используя статистику\n",
    "$$\n",
    "T = \\frac{\\overline{X} -\\overline{Y} }{\\hat{\\sigma}} \\sqrt{\\frac{mn}{m+n}},\n",
    "$$\n",
    "которая при верной гипотезе имеет распределение Стьюдента $t(m+n-2)$ и \n",
    "$$\n",
    "\\hat{\\sigma} = \\sqrt{\\frac{(n-1)\\hat{\\sigma}(X)^2 + (m-1)\\hat{\\sigma}(Y)^2}{(n+m-2)}},\n",
    "$$\n",
    "как и выше. Критерии со статистикой, имеющей распределение Стьюдента называют обычно критериями Стьюдента или $t$-критериями (по обозначению распределения).\n",
    "\n",
    "Реализуйте данный критерий, и, предполагая гауссовость наблюдений ГГ, ответьте на вопрос Задания 2 с использованием критерия Стьюдента.\n",
    "\n",
    "Примечание: при большой выборке (и, соответственно, большом количестве степеней свободы), распределение Стьюдента сходится к нормальному -- ЦПТ всё ещё работает."
   ]
  },
  {
   "cell_type": "code",
   "execution_count": 117,
   "metadata": {},
   "outputs": [],
   "source": [
    "with open(\"./data/seminar_04_galileo.pkl\", \"rb\") as f:\n",
    "    vals = pickle.load(f)\n",
    "    ball1Times = vals[\"ball1Times\"]\n",
    "    ball2Times = vals[\"ball2Times\"]"
   ]
  },
  {
   "cell_type": "code",
   "execution_count": 118,
   "metadata": {},
   "outputs": [
    {
     "data": {
      "text/plain": [
       "np.float64(0.17190660749412287)"
      ]
     },
     "execution_count": 118,
     "metadata": {},
     "output_type": "execute_result"
    }
   ],
   "source": [
    "np.std(ball1Times)"
   ]
  },
  {
   "cell_type": "code",
   "execution_count": 119,
   "metadata": {},
   "outputs": [
    {
     "data": {
      "text/plain": [
       "np.float64(0.23111924188817243)"
      ]
     },
     "execution_count": 119,
     "metadata": {},
     "output_type": "execute_result"
    }
   ],
   "source": [
    "np.std(ball2Times)"
   ]
  },
  {
   "cell_type": "code",
   "execution_count": 120,
   "metadata": {},
   "outputs": [],
   "source": [
    "def checkTimeT(X,Y,alpha):\n",
    "\n",
    "    n = len(X)\n",
    "    m = len(Y)\n",
    "\n",
    "    X_bar = np.mean(X)\n",
    "    Y_bar = np.mean(Y)\n",
    "\n",
    "    sigma_sq_X = np.std(X) ** 2\n",
    "    sigma_sq_Y = np.std(Y) ** 2\n",
    "\n",
    "    sigma = np.sqrt(\n",
    "        (n-1) * sigma_sq_X + (m-1) * sigma_sq_Y\n",
    "        / (n + m - 2)\n",
    "        )\n",
    "\n",
    "    multiplier = np.sqrt(m*n / (m+n))\n",
    "\n",
    "\n",
    "    statistic = (X_bar - Y_bar) / sigma * multiplier\n",
    "\n",
    "    # Двусторонняя альтернатива\n",
    "    z = ss.t.ppf((1-alpha/2), df=n+m-2)\n",
    "\n",
    "\n",
    "\n",
    "    interval = ((X_bar - Y_bar) - z * sigma * (1/multiplier), (X_bar - Y_bar) + z * sigma * (1/multiplier))\n",
    "\n",
    "    cdf = ss.norm.cdf(statistic)\n",
    "\n",
    "    if cdf > 0.5:\n",
    "        pval = 2 * (1 - cdf)\n",
    "    else:\n",
    "        pval = 2*cdf\n",
    "\n",
    "    print(f\"Statistic: {statistic}\")\n",
    "    print(f\"P-value: {pval}\")\n",
    "    print(f'Interval: {interval[0]}, {interval[1]}')\n"
   ]
  },
  {
   "cell_type": "code",
   "execution_count": 121,
   "metadata": {},
   "outputs": [
    {
     "name": "stdout",
     "output_type": "stream",
     "text": [
      "Statistic: -0.0718103640022512\n",
      "P-value: 0.9427528248353498\n",
      "Interval: -0.4952709486998884, 0.46036324998610956\n"
     ]
    }
   ],
   "source": [
    "checkTimeT(ball1Times, ball2Times, 0.05)"
   ]
  },
  {
   "attachments": {},
   "cell_type": "markdown",
   "metadata": {},
   "source": [
    "## Задание 5\n",
    "\n",
    "Алексея настолько заинтересовали свои результаты, что он решил попробовать утвердить их ещё больше. Считая, что предыдущий эксперимент не вполне качественный, так как в какой-то момент кофе ему мог просто надоесть от того, что он берёт много дней подряд одно и то же, Алексей в рабочем чате он запустил предложение: пусть каждый из коллег в офисе сходит в одну кофейню, в другую, и оценит качество кофе. Понятно, что многие тоже покупают там кофе, но Алексей надеется что этот \"эффект одной и той же чашки кофе\" сгладится, если людей будет достаточно много.\n",
    "\n",
    "В итоге отозвалось аж 78 человек. Чтобы избавиться от ЦПТ, Алексей решил использовать ранговые критерии, чтобы получить точный тест. Результаты употребления кофе ранжировались от $0$ до $5$, собрали две выборки $X_1,..,X_{73}$ и $Y_1,..,Y_{73}$.\n",
    "\n",
    "Помогите Алексею проверить с помощью критерия Манна-Уитни, кто лучше: кофеТочка или точкаКофе?"
   ]
  },
  {
   "cell_type": "code",
   "execution_count": 75,
   "metadata": {},
   "outputs": [],
   "source": [
    "with open(\"./data/seminar_04_office.pkl\",\"rb\") as f:\n",
    "    vals = pickle.load(f)\n",
    "    coffeePoint = vals[\"coffeePoint\"]\n",
    "    pointCoffee = vals[\"pointCoffee\"]"
   ]
  },
  {
   "cell_type": "code",
   "execution_count": 81,
   "metadata": {},
   "outputs": [
    {
     "data": {
      "text/plain": [
       "(array([ 5.,  0., 27.,  0.,  0., 27.,  0., 12.,  0.,  7.]),\n",
       " array([0. , 0.4, 0.8, 1.2, 1.6, 2. , 2.4, 2.8, 3.2, 3.6, 4. ]),\n",
       " <BarContainer object of 10 artists>)"
      ]
     },
     "execution_count": 81,
     "metadata": {},
     "output_type": "execute_result"
    },
    {
     "data": {
      "image/png": "[encoded data removed]",
      "text/plain": [
       "<Figure size 640x480 with 1 Axes>"
      ]
     },
     "metadata": {},
     "output_type": "display_data"
    }
   ],
   "source": [
    "plt.hist(coffeePoint)"
   ]
  },
  {
   "cell_type": "code",
   "execution_count": 82,
   "metadata": {},
   "outputs": [
    {
     "data": {
      "text/plain": [
       "(array([ 1.,  0.,  4.,  0., 22.,  0., 25.,  0., 21.,  5.]),\n",
       " array([0. , 0.5, 1. , 1.5, 2. , 2.5, 3. , 3.5, 4. , 4.5, 5. ]),\n",
       " <BarContainer object of 10 artists>)"
      ]
     },
     "execution_count": 82,
     "metadata": {},
     "output_type": "execute_result"
    },
    {
     "data": {
      "image/png": "[encoded data removed]",
      "text/plain": [
       "<Figure size 640x480 with 1 Axes>"
      ]
     },
     "metadata": {},
     "output_type": "display_data"
    }
   ],
   "source": [
    "plt.hist(pointCoffee)"
   ]
  },
  {
   "attachments": {},
   "cell_type": "markdown",
   "metadata": {},
   "source": [
    "Напишите здесь, какую гипотеза и против какой альтернативы вы хотите проверить?"
   ]
  },
  {
   "cell_type": "code",
   "execution_count": 85,
   "metadata": {},
   "outputs": [
    {
     "name": "stdout",
     "output_type": "stream",
     "text": [
      "MannwhitneyuResult(statistic=np.float64(1427.0), pvalue=np.float64(3.722914015046292e-09))\n"
     ]
    }
   ],
   "source": [
    "#проверьте вашу гипотезу с помощью критерия Манна-Уитни на уровне значимости 0.05\n",
    "\n",
    "print(ss.mannwhitneyu(coffeePoint, pointCoffee, alternative=\"two-sided\"))"
   ]
  }
 ],
 "metadata": {
  "kernelspec": {
   "display_name": "venv",
   "language": "python",
   "name": "python3"
  },
  "language_info": {
   "codemirror_mode": {
    "name": "ipython",
    "version": 3
   },
   "file_extension": ".py",
   "mimetype": "text/x-python",
   "name": "python",
   "nbconvert_exporter": "python",
   "pygments_lexer": "ipython3",
   "version": "3.10.11"
  },
  "orig_nbformat": 4
 },
 "nbformat": 4,
 "nbformat_minor": 2
}
