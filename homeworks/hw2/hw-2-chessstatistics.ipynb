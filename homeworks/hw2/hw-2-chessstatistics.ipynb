{
 "cells": [
  {
   "cell_type": "markdown",
   "metadata": {},
   "source": [
    "# ДЗ 2. Проверка гипотез"
   ]
  },
  {
   "cell_type": "markdown",
   "metadata": {},
   "source": [
    "Имя, Фамилия: *напишите здесь*\n",
    "\n",
    "группа: *напишите здесь группу, где вы числитесь*\n",
    "\n",
    "**Оценка(для проверяющего):** 0 из 32\n",
    "\n",
    "**Дедлайн:** 24 ноября 23:59 (решение нужно сдать в энитаск)"
   ]
  },
  {
   "cell_type": "markdown",
   "metadata": {},
   "source": [
    "# Введение. Несколько слов о шахматах"
   ]
  },
  {
   "cell_type": "markdown",
   "metadata": {},
   "source": [
    "В этом домашнем задании вам будет представлен набор данных связанных с шахматами. Напомним, что шахматная партия может заканчиваться одним из трёх исходов:\n",
    "- Победа белых (записывается как 1-0)\n",
    "- Победа чёрных (записывается как 0-1)\n",
    "- Ничейный исход (записывается как 1/2-1/2)\n",
    "\n",
    "Также, в соревновательных шахматах есть временной контроль: партии делятся на несколько категорий, в зависимости от того, сколько времени оппонненты имеют на размышления:\n",
    "- Блиц (до 10 минут на все ходы, возможно с добавлением времени после каждого хода)\n",
    "- Рапид (от 10 до 30 минут на все ходы, возможно с добавлением времени после каждого хода)\n",
    "- Классические или медленные шахматы (от 30 минут на все ходы, часто с добавлением времени после 40 и 60 ходов)\n",
    "\n",
    "Для того чтобы как-то классифицировать силу игроков, была введена рейтинговая система ELO, на основании которой игрокам присуждается ранг (например международный мастер или гроссмейстер) и формируются турниры. Отметим что рейтинг ELO меняется, в зависимости от того, в каком формате временного контроля игрок участвует (т.е. у одного человека разный рейтинг для блица, рапида и классических шахмат). \n",
    "\n",
    "В этом датасете собраны основные данные об шахматных партиях, сыгранными за период с 1980 по 2021 года.\n",
    "- Представлены партии всех трех форматов, формат партии указан в поле ``control``\n",
    "- Исход партии представлен в поле ``result``\n",
    "- Рейтинги оппонентов записаны в полях ``elo_white`` и ``elo_black`` для рейтинга играющих за белых и за черных соответственно.  \n",
    "    - Поле ``elo_average`` содержит среднее значение ``elo_white`` и ``elo_black`` -- _усредненный рейтинг (оппонентов)_. \n",
    "    - Поле ``elo_difference`` содержит в себе значение ``elo_white - elo_black``. \n",
    "- Поле ``opening`` содержит одно из пяти значений ``'A', 'B', 'C', 'D', 'E'``, которое кодирует информацию о нескольких первых ходах в партии (см. задачу 3 для деталей). \n",
    "- В поле ``length`` записано число сделанных ходов в партии. Обратите внимание, что ход -- это движение одной фигуры со стороны белых **и** движение одной фигуры со стороны чёрных, т.е. за один ход и белые и черные совершают по действию.\n",
    "- Поля ``date`` и ``site`` содержат информацию о том, в каком году была сыграна партия и место её проведения соответственно. "
   ]
  },
  {
   "cell_type": "markdown",
   "metadata": {},
   "source": [
    "## Обзор данных (2 балла)\n",
    "В этой секции вам предлагается познакомиться с данными. Посмотрите на три разных формата временного контроля. Сравните как в каждом из них \n",
    "- Распределены исходы партий (победа белых/победа чёрных/ничья)\n",
    "- Распределены усреднённые рейтинги оппонентов партий \n",
    "- Распределены длительности партий \n",
    "\n",
    "**Бонус (max 3 дополнительных балла)** При желании, можно также посмотреть другие вещи --- например как менялось количество партий по декадам или пятилеткам. Попробуйте обнаружить и _объяснить_ интересные и статистически значимые феномены.  "
   ]
  },
  {
   "cell_type": "code",
   "execution_count": null,
   "metadata": {
    "execution": {
     "iopub.execute_input": "2024-11-03T12:39:23.413475Z",
     "iopub.status.busy": "2024-11-03T12:39:23.412551Z",
     "iopub.status.idle": "2024-11-03T12:39:23.419191Z",
     "shell.execute_reply": "2024-11-03T12:39:23.417979Z",
     "shell.execute_reply.started": "2024-11-03T12:39:23.413409Z"
    },
    "trusted": true
   },
   "outputs": [],
   "source": [
    "import numpy as np\n",
    "import pandas as pd\n",
    "pd.set_option('display.precision', 5)\n",
    "import scipy.stats as stats\n",
    "\n",
    "import matplotlib.pyplot as plt\n",
    "import seaborn as sns\n",
    "\n",
    "#add your imports if necessary"
   ]
  },
  {
   "cell_type": "code",
   "execution_count": null,
   "metadata": {
    "execution": {
     "iopub.execute_input": "2024-11-03T12:39:23.647649Z",
     "iopub.status.busy": "2024-11-03T12:39:23.647239Z",
     "iopub.status.idle": "2024-11-03T12:39:34.869185Z",
     "shell.execute_reply": "2024-11-03T12:39:34.868058Z",
     "shell.execute_reply.started": "2024-11-03T12:39:23.647612Z"
    },
    "trusted": true
   },
   "outputs": [],
   "source": [
    "games_df = pd.read_csv(\"data/games.csv\")\n",
    "games_df.head()"
   ]
  },
  {
   "cell_type": "code",
   "execution_count": null,
   "metadata": {
    "execution": {
     "iopub.execute_input": "2024-11-03T12:39:34.871929Z",
     "iopub.status.busy": "2024-11-03T12:39:34.871431Z",
     "iopub.status.idle": "2024-11-03T12:39:34.888462Z",
     "shell.execute_reply": "2024-11-03T12:39:34.887096Z",
     "shell.execute_reply.started": "2024-11-03T12:39:34.871879Z"
    },
    "trusted": true
   },
   "outputs": [],
   "source": [
    "games_df.info(verbose = True)"
   ]
  },
  {
   "cell_type": "code",
   "execution_count": null,
   "metadata": {
    "execution": {
     "iopub.execute_input": "2024-11-03T12:39:34.890592Z",
     "iopub.status.busy": "2024-11-03T12:39:34.890058Z",
     "iopub.status.idle": "2024-11-03T12:39:59.701351Z",
     "shell.execute_reply": "2024-11-03T12:39:59.700279Z",
     "shell.execute_reply.started": "2024-11-03T12:39:34.890531Z"
    },
    "trusted": true
   },
   "outputs": [],
   "source": [
    "# plot results distribution dependent on the control\n",
    "#your code is here"
   ]
  },
  {
   "cell_type": "markdown",
   "metadata": {},
   "source": [
    "Видно, что в разных временных форматах совершенно разное распределение исходов партий. Это указывает нам на то что надо завести три различных набора данных и работать с каждым по отдельности:"
   ]
  },
  {
   "cell_type": "code",
   "execution_count": null,
   "metadata": {
    "execution": {
     "iopub.execute_input": "2024-11-03T12:39:59.704304Z",
     "iopub.status.busy": "2024-11-03T12:39:59.703935Z",
     "iopub.status.idle": "2024-11-03T12:40:03.404795Z",
     "shell.execute_reply": "2024-11-03T12:40:03.403585Z",
     "shell.execute_reply.started": "2024-11-03T12:39:59.704265Z"
    },
    "trusted": true
   },
   "outputs": [],
   "source": [
    "slow  = games_df[games_df[\"control\"] == \"slow\"]\n",
    "rapid = games_df[games_df[\"control\"] == \"rapid\"]\n",
    "blitz = games_df[games_df[\"control\"] == \"blitz\"]"
   ]
  },
  {
   "cell_type": "markdown",
   "metadata": {},
   "source": [
    "Постройте для каждого из контролей распределение усредненного рейтинга партий и длин партий."
   ]
  },
  {
   "cell_type": "code",
   "execution_count": null,
   "metadata": {
    "execution": {
     "iopub.execute_input": "2024-11-03T12:40:03.406677Z",
     "iopub.status.busy": "2024-11-03T12:40:03.406264Z",
     "iopub.status.idle": "2024-11-03T12:40:06.405716Z",
     "shell.execute_reply": "2024-11-03T12:40:06.404576Z",
     "shell.execute_reply.started": "2024-11-03T12:40:03.406635Z"
    },
    "trusted": true
   },
   "outputs": [],
   "source": [
    "fig, axs = plt.subplots(3, 1, figsize=(8, 12))\n",
    "\n",
    "axs[0].set_title('Distribution of game\\'s averaged elo in slow format')\n",
    "axs[1].set_title('Distribution of game\\'s averaged elo in rapid format')\n",
    "axs[2].set_title('Distribution of game\\'s averaged elo in blitz format')\n",
    "\n",
    "#your code is here"
   ]
  },
  {
   "cell_type": "code",
   "execution_count": null,
   "metadata": {
    "execution": {
     "iopub.execute_input": "2024-11-03T12:40:06.407840Z",
     "iopub.status.busy": "2024-11-03T12:40:06.407355Z",
     "iopub.status.idle": "2024-11-03T12:40:13.210056Z",
     "shell.execute_reply": "2024-11-03T12:40:13.208818Z",
     "shell.execute_reply.started": "2024-11-03T12:40:06.407780Z"
    },
    "trusted": true
   },
   "outputs": [],
   "source": [
    "fig, axs = plt.subplots(3, 1, figsize=(8, 12))\n",
    "\n",
    "axs[0].set_title('Distribution of game lengths in slow format')\n",
    "axs[1].set_title('Distribution of game lengths in rapid format')\n",
    "axs[2].set_title('Distribution of game lengths in blitz format')\n",
    "\n",
    "#your code is here"
   ]
  },
  {
   "cell_type": "markdown",
   "metadata": {},
   "source": [
    "# Задачи"
   ]
  },
  {
   "cell_type": "markdown",
   "metadata": {
    "execution": {
     "iopub.execute_input": "2024-10-30T19:32:37.350608Z",
     "iopub.status.busy": "2024-10-30T19:32:37.350060Z",
     "iopub.status.idle": "2024-10-30T19:32:37.394196Z",
     "shell.execute_reply": "2024-10-30T19:32:37.393018Z",
     "shell.execute_reply.started": "2024-10-30T19:32:37.350501Z"
    }
   },
   "source": [
    "## Разминка. Проверка гипотез о средних (5 баллов)"
   ]
  },
  {
   "cell_type": "markdown",
   "metadata": {},
   "source": [
    "### Взгляд в прошлое. Рейтинг игр в Праге. (2 балла)\n",
    "Пусть $X_1, \\ldots, X_n \\overset{\\text{i.i.d}}{\\sim} X$ --- выборка из некоторого распределения. Вспомните как строится асимптотический доверительный интервал для $\\mathbb{E}[X]$, и, используя асимптотический z-test проверьте на уровне значимости $\\alpha = 0.05$ гипотезу о том что математическое ожидание рейтинга партии равно 2389:\n",
    "$$\n",
    "    H_0 : \\mathbb{E}[X] = 2389 \\\\\n",
    "    H_1 : \\mathbb{E}[X] \\neq 2389\n",
    "$$\n",
    "для игр, сыгранных в Праге за период 1980-1989 г."
   ]
  },
  {
   "cell_type": "markdown",
   "metadata": {},
   "source": [
    "ВАШЕ РЕШЕНИЕ И МЫСЛИ ТУТ"
   ]
  },
  {
   "cell_type": "code",
   "execution_count": null,
   "metadata": {
    "execution": {
     "iopub.execute_input": "2024-11-03T12:40:13.212605Z",
     "iopub.status.busy": "2024-11-03T12:40:13.212115Z",
     "iopub.status.idle": "2024-11-03T12:40:13.224313Z",
     "shell.execute_reply": "2024-11-03T12:40:13.223219Z",
     "shell.execute_reply.started": "2024-11-03T12:40:13.212551Z"
    },
    "trusted": true
   },
   "outputs": [],
   "source": [
    "from numpy.typing import ArrayLike\n",
    "from typing import Tuple, Optional, Literal\n",
    "\n",
    "hypothesis_side = Literal[\"both\", \"left\", \"right\"]\n",
    "\n",
    "\n",
    "class StatTestResult:\n",
    "    \"\"\"\n",
    "    Wrapper that carries information about performed statistical test. \n",
    "    \n",
    "    Attributes\n",
    "    ----------\n",
    "    statistics : float\n",
    "        value of the test's statistics.\n",
    "    p_value : float\n",
    "        obtained p-value for the test's statistics.\n",
    "    significance : float\n",
    "        significance level for the performed test\n",
    "    critical_value : float\n",
    "        critical value of the test's statistics for the given significance level \n",
    "    test_name : str\n",
    "        name of the test\n",
    "    null_name: str\n",
    "        formulation of the null hypothesis\n",
    "    alternative_name : str\n",
    "        formulation of the alternative hypothesis\n",
    "    verdict: \n",
    "        test's verdict\n",
    "    \"\"\"\n",
    "    def __init__(self, statistics : float, p_value : float, significance : float, critical_value : float,\\\n",
    "                        test_name : str, null_name : str, alternative_name : str):\n",
    "        self.statistics = statistics\n",
    "        self.p_value = p_value\n",
    "        self.significance = significance\n",
    "        self.critical_value = critical_value\n",
    "        self.name = test_name\n",
    "        self.null = null_name\n",
    "        self.alternative = alternative_name\n",
    "        \n",
    "        #if ...\n",
    "        #    self.verdict = f\"Reject H0 at significance level {significance}\"\n",
    "        #else:\n",
    "        #    self.verdict = f\"Accept H0 at significance level {significance}\"\n",
    "\n",
    "    def __repr__(self):\n",
    "        return f\"\"\"\n",
    "        {self.name}. \n",
    "        H0: {self.null}\n",
    "        H1: {self.alternative}\n",
    "        ===================================\n",
    "        Statistics value: {self.statistics}. Critical value: {self.critical_value}\n",
    "        P-value: {self.p_value}, \n",
    "        Verdict: {self.verdict}\n",
    "        \"\"\"\n",
    "    def __str__(self):\n",
    "        return f\"Statistics: {self.statistics}, P-value: {self.p_value}\""
   ]
  },
  {
   "cell_type": "code",
   "execution_count": null,
   "metadata": {
    "execution": {
     "iopub.execute_input": "2024-11-03T12:40:13.226693Z",
     "iopub.status.busy": "2024-11-03T12:40:13.226245Z",
     "iopub.status.idle": "2024-11-03T12:40:13.240006Z",
     "shell.execute_reply": "2024-11-03T12:40:13.238730Z",
     "shell.execute_reply.started": "2024-11-03T12:40:13.226652Z"
    },
    "trusted": true
   },
   "outputs": [],
   "source": [
    "def z_test_one_sample(sample : ArrayLike, null_mean : float,\n",
    "                      significance : float = 0.05, tail : hypothesis_side = 'both') -> StatTestResult:\n",
    "    \"\"\"\n",
    "        Performs asymptotic z-test for the one sample\n",
    "        \n",
    "        Parameters\n",
    "        ----------\n",
    "        sample : ArrayLike\n",
    "            sample on which z-test will be performed \n",
    "        null_mean : float\n",
    "            value of mean under null hypothesis.\n",
    "        significance : float\n",
    "            significance level for the performed test\n",
    "        tail : Literal[\"both\", \"left\", \"right\"]\n",
    "            alternative side\n",
    "            \n",
    "        Returns\n",
    "        -------\n",
    "        res : StatTestResult\n",
    "            An object containing infomration about test results\n",
    "    \"\"\"\n",
    "    #your code is here\n",
    "    \n",
    "    if tail == 'both':\n",
    "        #p_value = ...\n",
    "        return # StatTestResult(...)\n",
    "    elif tail == 'right':\n",
    "        #p_value = ...\n",
    "        return  # StatTestResult(...)\n",
    "    elif tail == 'left':\n",
    "        #p_value = ...\n",
    "        return # StatTestResult(...)"
   ]
  },
  {
   "cell_type": "code",
   "execution_count": null,
   "metadata": {
    "execution": {
     "iopub.execute_input": "2024-11-03T12:40:13.241936Z",
     "iopub.status.busy": "2024-11-03T12:40:13.241567Z",
     "iopub.status.idle": "2024-11-03T12:40:14.321027Z",
     "shell.execute_reply": "2024-11-03T12:40:14.319822Z",
     "shell.execute_reply.started": "2024-11-03T12:40:13.241899Z"
    },
    "trusted": true
   },
   "outputs": [],
   "source": [
    "#data = ...\n",
    "#z_test_one_sample(data, ...)"
   ]
  },
  {
   "cell_type": "markdown",
   "metadata": {},
   "source": [
    "**Заключение**: ВАШЕ РЕШЕНИЕ И МЫСЛИ ТУТ"
   ]
  },
  {
   "cell_type": "markdown",
   "metadata": {},
   "source": [
    "### Назад в будущее. Рейтинг игр в Москве. (3 балла)\n",
    "После того как вы проверили эту гипотезу, проверьте гипотезу о том, что средний рейтинг классических партий проводимых в Москве в 2010-2019 годах выше, чем рейтинг в 2000-2009 годах. Вспомните как устроен z-тест для двух выборок и \n",
    "1. сформулируйте нулевую гипотезу и альтернативу;\n",
    "2. укажите статистику и её распределение при верной нулевой гипотезе;\n",
    "3. реализуйте тест и проверьте гипотезу на уровне значимости 0.05;"
   ]
  },
  {
   "cell_type": "markdown",
   "metadata": {},
   "source": [
    "ВАШЕ РЕШЕНИЕ И МЫСЛИ ТУТ"
   ]
  },
  {
   "cell_type": "code",
   "execution_count": null,
   "metadata": {
    "execution": {
     "iopub.execute_input": "2024-11-03T12:40:14.326650Z",
     "iopub.status.busy": "2024-11-03T12:40:14.326239Z",
     "iopub.status.idle": "2024-11-03T12:40:14.341035Z",
     "shell.execute_reply": "2024-11-03T12:40:14.339868Z",
     "shell.execute_reply.started": "2024-11-03T12:40:14.326609Z"
    },
    "trusted": true
   },
   "outputs": [],
   "source": [
    "def z_test_two_sample(sample_x : ArrayLike, sample_y : ArrayLike, null_mean_diff : float = 0,\n",
    "                      significance : float = 0.05, tail : hypothesis_side = 'both') -> StatTestResult:\n",
    "    \"\"\"\n",
    "        Performs asymptotic z-test for the two samples\n",
    "        \n",
    "        Parameters\n",
    "        ----------\n",
    "        sample_x : ArrayLike\n",
    "            first sample for the z-test \n",
    "        sample_y : ArrayLike\n",
    "            second sample for the z-test\n",
    "        null_mean_diff : float\n",
    "            differences of means under null hypothesis.\n",
    "        significance : float\n",
    "            significance level for the performed test\n",
    "        tail : Literal[\"both\", \"left\", \"right\"]\n",
    "            alternative side\n",
    "            \n",
    "        Returns\n",
    "        -------\n",
    "        res : StatTestResult\n",
    "            An object containing infomration about test results\n",
    "    \"\"\"\n",
    "    \n",
    "    #your code is here\n",
    "    \n",
    "    if tail == 'both':\n",
    "        #p_value = ...\n",
    "        return # StatTestResult(...)\n",
    "    elif tail == 'right':\n",
    "        #p_value = ...\n",
    "        return  # StatTestResult(...)\n",
    "    elif tail == 'left':\n",
    "        #p_value = ...\n",
    "        return # StatTestResult(...)"
   ]
  },
  {
   "cell_type": "code",
   "execution_count": null,
   "metadata": {
    "execution": {
     "iopub.execute_input": "2024-11-03T12:40:14.342912Z",
     "iopub.status.busy": "2024-11-03T12:40:14.342537Z",
     "iopub.status.idle": "2024-11-03T12:40:16.423614Z",
     "shell.execute_reply": "2024-11-03T12:40:16.422563Z",
     "shell.execute_reply.started": "2024-11-03T12:40:14.342875Z"
    },
    "trusted": true
   },
   "outputs": [],
   "source": [
    "# data_x = ...\n",
    "# data_y = ...\n",
    "# z_test_two_sample(data_x, data_y, ...)"
   ]
  },
  {
   "cell_type": "markdown",
   "metadata": {},
   "source": [
    "**Заключение**: ВАШЕ РЕШЕНИЕ И МЫСЛИ ТУТ"
   ]
  },
  {
   "cell_type": "markdown",
   "metadata": {},
   "source": [
    "## Задача 1. Инфляция рейтинга (5 баллов)\n",
    "\n",
    "В течение времени правила подсчета рейтинга менялись. Для сравнения возьмем партии в классическом временном контроле и их рейтинги за периоды 2000-2009 года и 2010-2019 год. Нарисуйте гистограммы, которые описывают распределение усредненных рейтингов оппонентов в партиях за эти периоды."
   ]
  },
  {
   "cell_type": "code",
   "execution_count": null,
   "metadata": {
    "execution": {
     "iopub.execute_input": "2024-11-03T12:40:16.425589Z",
     "iopub.status.busy": "2024-11-03T12:40:16.425072Z",
     "iopub.status.idle": "2024-11-03T12:40:19.113638Z",
     "shell.execute_reply": "2024-11-03T12:40:19.112343Z",
     "shell.execute_reply.started": "2024-11-03T12:40:16.425546Z"
    },
    "trusted": true
   },
   "outputs": [],
   "source": [
    "fig, axs = plt.subplots(2, 1, figsize = (10, 8))\n",
    "\n",
    "axs[0].set_title('Distribution of game\\'s averaged elo in slow format between 2000 and 2009')\n",
    "axs[1].set_title('Distribution of game\\'s averaged elo in slow format between 2010 and 2019')\n",
    "\n",
    "# your code is here"
   ]
  },
  {
   "cell_type": "markdown",
   "metadata": {},
   "source": [
    "Распространено мнение, что в силу изменений правил подсчета, высокий рейтинг стало получить легче --- произошла инфляция рейтинга. Проверьте, так ли это на самом деле, с помощью рангового критерия [Уилкоксона-Манна-Уитни](http://www.machinelearning.ru/wiki/index.php?title=Критерий_Уилкоксона-Манна-Уитни). В качестве распределения статистики можете брать подходящую аппроксимацию нормальным распределением с поправкой на повторяющиеся значения. Как и ранее,\n",
    "1. сформулируйте нулевую гипотезу и альтернативу; объясните смысл математической формулировки нулевой гипотезы;\n",
    "2. укажите статистику и её распределение при верной нулевой гипотезе;\n",
    "3. реализуйте тест и проверьте гипотезу на уровне значимости 0.05;"
   ]
  },
  {
   "cell_type": "markdown",
   "metadata": {},
   "source": [
    "ВАШЕ РЕШЕНИЕ И МЫСЛИ ТУТ"
   ]
  },
  {
   "cell_type": "code",
   "execution_count": null,
   "metadata": {
    "execution": {
     "iopub.execute_input": "2024-11-03T12:40:19.115795Z",
     "iopub.status.busy": "2024-11-03T12:40:19.115315Z",
     "iopub.status.idle": "2024-11-03T12:40:19.134000Z",
     "shell.execute_reply": "2024-11-03T12:40:19.132720Z",
     "shell.execute_reply.started": "2024-11-03T12:40:19.115742Z"
    },
    "trusted": true
   },
   "outputs": [],
   "source": [
    "from scipy.stats import rankdata # this can help. See docs.\n",
    "\n",
    "def mwu_test(sample_x : ArrayLike, sample_y : ArrayLike, significance : float = 0.05, tail : hypothesis_side = 'both') -> StatTestResult:\n",
    "    \"\"\"        \n",
    "        Performs Mann–Whitney U-test with correct support for ties in the data. \n",
    "        REMARK: Test uses normal approximation for the distribution of test statistics\n",
    "                under null hypothesis.\n",
    "    \n",
    "        Parameters\n",
    "        ----------\n",
    "        sample_x : ArrayLike\n",
    "            first sample for the U-test \n",
    "        sample_y : ArrayLike\n",
    "            second sample for the U-test\n",
    "        significance : float\n",
    "            significance level for the performed test\n",
    "        tail : Literal[\"both\", \"left\", \"right\"]\n",
    "            alternative side\n",
    "            \n",
    "        Returns\n",
    "        -------\n",
    "        res : StatTestResult\n",
    "            An object containing infomration about test results\n",
    "    \"\"\"\n",
    "    \n",
    "    #your code is here\n",
    "    \n",
    "    if tail == 'both':\n",
    "        #p_value = ...\n",
    "        return # StatTestResult(...)\n",
    "    elif tail == 'right':\n",
    "        #p_value = ...\n",
    "        return  # StatTestResult(...)\n",
    "    elif tail == 'left':\n",
    "        #p_value = ...\n",
    "        return # StatTestResult(...)\n",
    "    "
   ]
  },
  {
   "cell_type": "code",
   "execution_count": null,
   "metadata": {
    "execution": {
     "iopub.execute_input": "2024-11-03T12:40:19.136143Z",
     "iopub.status.busy": "2024-11-03T12:40:19.135659Z",
     "iopub.status.idle": "2024-11-03T12:40:20.403668Z",
     "shell.execute_reply": "2024-11-03T12:40:20.402464Z",
     "shell.execute_reply.started": "2024-11-03T12:40:19.136070Z"
    },
    "trusted": true
   },
   "outputs": [],
   "source": [
    "# mwu_test(...)"
   ]
  },
  {
   "cell_type": "markdown",
   "metadata": {},
   "source": [
    "**Заключение**: ВАШЕ РЕШЕНИЕ И МЫСЛИ ТУТ"
   ]
  },
  {
   "cell_type": "markdown",
   "metadata": {},
   "source": [
    "## Задача 2. Рейтинги и исход партий (7.5 баллов)"
   ]
  },
  {
   "cell_type": "markdown",
   "metadata": {},
   "source": [
    "Исследуйте как, в зависимости от рейтинга участников, меняется распределение исхода партии. Мы предлагаем вам изучить как\n",
    "- Разница в рейтинге влияет на шансы на результативный исход (победа одной из сторон)\n",
    "- С ростом среднего рейтинга участников меняются шансы на победу"
   ]
  },
  {
   "cell_type": "markdown",
   "metadata": {},
   "source": [
    "### Разрыв рейтинга и шансы на победу (5 баллов)"
   ]
  },
  {
   "cell_type": "markdown",
   "metadata": {},
   "source": [
    "Нарисуйте гистограммы, показывающее как устроены исходы партий в зависимости от разницы в рейтинге для партий в разных формах временного контролля. "
   ]
  },
  {
   "cell_type": "code",
   "execution_count": null,
   "metadata": {
    "execution": {
     "iopub.execute_input": "2024-11-03T12:40:20.405359Z",
     "iopub.status.busy": "2024-11-03T12:40:20.405031Z",
     "iopub.status.idle": "2024-11-03T12:40:36.109777Z",
     "shell.execute_reply": "2024-11-03T12:40:36.108604Z",
     "shell.execute_reply.started": "2024-11-03T12:40:20.405323Z"
    },
    "trusted": true
   },
   "outputs": [],
   "source": [
    "fig, axs = plt.subplots(3, 1, figsize=(8, 16))\n",
    "\n",
    "axs[0].set_title('Distribution of game\\'s elo difference relatively to result in slow format')\n",
    "axs[1].set_title('Distribution of game\\'s elo difference relatively to result in rapid format')\n",
    "axs[2].set_title('Distribution of game\\'s elo difference relatively to result in blitz format')\n",
    "\n",
    "# your code is here"
   ]
  },
  {
   "cell_type": "markdown",
   "metadata": {},
   "source": [
    "Проверьте гипотезу \"симметрии\":\n",
    "> Правда ли что шансы победы белых при разрыве рейтинга между участниками в $X$ пунктов такие же, как шансы на победу чёрных при разрыве рейтинга в $-X$ пунктов?\n",
    "\n",
    "Для проверки такой гипотезы будем использовать критерий $\\chi^2$ для проверки независимости факторов. \n",
    "- Подумайте, как должна выглядеть факторная таблица в этом случае?\n",
    "- Сформулируйте как интерпретировать нулевую гипотезу критерия $\\chi^2$ в контексте проверяемой нами гипотезы.\n",
    "- Реализуйте проверку гипотезы. "
   ]
  },
  {
   "cell_type": "markdown",
   "metadata": {},
   "source": [
    "ВАШЕ РЕШЕНИЕ И МЫСЛИ ТУТ"
   ]
  },
  {
   "cell_type": "code",
   "execution_count": null,
   "metadata": {
    "execution": {
     "iopub.execute_input": "2024-11-03T12:40:36.111778Z",
     "iopub.status.busy": "2024-11-03T12:40:36.111310Z",
     "iopub.status.idle": "2024-11-03T12:40:36.122487Z",
     "shell.execute_reply": "2024-11-03T12:40:36.121152Z",
     "shell.execute_reply.started": "2024-11-03T12:40:36.111726Z"
    },
    "trusted": true
   },
   "outputs": [],
   "source": [
    "def chi2_contingency(observed : ArrayLike, significance : float = 0.05) -> StatTestResult:\n",
    "    \"\"\"\n",
    "        Performs chi-square independence test test for contingency table\n",
    "        \n",
    "        Parameters\n",
    "        ----------\n",
    "        observed : ArrayLike\n",
    "            contingency tablefor the test \n",
    "        significance : float\n",
    "            significance level for the performed test\n",
    "            \n",
    "        Returns\n",
    "        -------\n",
    "        res : StatTestResult\n",
    "            An object containing infomration about test results\n",
    "    \"\"\"\n",
    "\n",
    "    # your code is here\n",
    "    return #StatTestResult(...)"
   ]
  },
  {
   "cell_type": "markdown",
   "metadata": {},
   "source": [
    "Проверьте сформулированную выше гипотезу для ваших данных:"
   ]
  },
  {
   "cell_type": "code",
   "execution_count": null,
   "metadata": {
    "execution": {
     "iopub.execute_input": "2024-11-03T12:40:39.116184Z",
     "iopub.status.busy": "2024-11-03T12:40:39.115790Z",
     "iopub.status.idle": "2024-11-03T12:40:39.170345Z",
     "shell.execute_reply": "2024-11-03T12:40:39.169169Z",
     "shell.execute_reply.started": "2024-11-03T12:40:39.116138Z"
    },
    "trusted": true
   },
   "outputs": [],
   "source": [
    "#your code is here"
   ]
  },
  {
   "cell_type": "markdown",
   "metadata": {},
   "source": [
    "**Заключение**: ВАШЕ РЕШЕНИЕ И МЫСЛИ ТУТ"
   ]
  },
  {
   "cell_type": "markdown",
   "metadata": {},
   "source": [
    "### Средний рейтинг и распределение исходов (2.5 балла)\n",
    "Существует распространеное мнение, что чем выше рейтинг участников партии, тем более вероятно, что итогом партии станет ничья. Постройте гистограммы показывающее как устроены исходы партий в зависимости от рейтинга партии (``elo_average``) для партий в разных формах временного контролля. "
   ]
  },
  {
   "cell_type": "code",
   "execution_count": null,
   "metadata": {
    "execution": {
     "iopub.execute_input": "2024-11-03T12:40:39.172550Z",
     "iopub.status.busy": "2024-11-03T12:40:39.172084Z",
     "iopub.status.idle": "2024-11-03T12:40:54.986912Z",
     "shell.execute_reply": "2024-11-03T12:40:54.985575Z",
     "shell.execute_reply.started": "2024-11-03T12:40:39.172478Z"
    },
    "trusted": true
   },
   "outputs": [],
   "source": [
    "fig, axs = plt.subplots(3, 1, figsize=(8, 16))\n",
    "\n",
    "axs[0].set_title('Distribution of game\\'s averaged elo relatively to result in slow format')\n",
    "axs[1].set_title('Distribution of game\\'s averaged elo relatively to result in rapid format')\n",
    "axs[2].set_title('Distribution of game\\'s averaged elo relatively to result in blitz format')\n",
    "\n",
    "# your code is here"
   ]
  },
  {
   "cell_type": "markdown",
   "metadata": {},
   "source": [
    "Согласно ChessBase, игроков можно условно делить на следующие категории, в зависимости от их рейтинга:\n",
    "- 0-1000 Begginer\n",
    "- 1000-1600 Average club player level\n",
    "- 1600-2100 Strong club player level\n",
    "- 2100-2300 International league player\n",
    "- 2300-2450 International Master (IM) level\n",
    "- 2450-2650 Grandmaster (GM) level\n",
    "- \\> 2650 Supergrandmaster, world champion level\n",
    "\n",
    "Вместо игроков, мы будем брать усредненный рейтинг оппонентов в партии и применять классификацию выше. С помощью статистических методов, проверьте влияет ли класс партии на распределение исходов. Используйте уже знакомый вам тест $\\chi^2$.\n",
    "- Подумайте, как должна выглядеть факторная таблица в этом случае?\n",
    "- Сформулируйте как интерпретировать нулевую гипотезу критерия $\\chi^2$ в контексте проверяемой нами гипотезы.\n",
    "- Реализуйте проверку гипотезы. "
   ]
  },
  {
   "cell_type": "markdown",
   "metadata": {
    "execution": {
     "iopub.execute_input": "2024-11-03T11:20:52.431379Z",
     "iopub.status.busy": "2024-11-03T11:20:52.430905Z",
     "iopub.status.idle": "2024-11-03T11:20:52.439254Z",
     "shell.execute_reply": "2024-11-03T11:20:52.437572Z",
     "shell.execute_reply.started": "2024-11-03T11:20:52.431324Z"
    }
   },
   "source": [
    "ВАШЕ РЕШЕНИЕ И МЫСЛИ ТУТ"
   ]
  },
  {
   "cell_type": "code",
   "execution_count": null,
   "metadata": {
    "execution": {
     "iopub.execute_input": "2024-11-03T12:40:54.989069Z",
     "iopub.status.busy": "2024-11-03T12:40:54.988616Z",
     "iopub.status.idle": "2024-11-03T12:40:56.523247Z",
     "shell.execute_reply": "2024-11-03T12:40:56.521912Z",
     "shell.execute_reply.started": "2024-11-03T12:40:54.989011Z"
    },
    "trusted": true
   },
   "outputs": [],
   "source": [
    "bins   = [0, 1000, 1600, 2100, 2300, 2450, 2650, 3000]\n",
    "labels = ['Begginer', 'Average', 'Strong', 'International', 'IM', 'GM', 'SuperGM']\n",
    "\n",
    "#table_blitz = ...\n",
    "#table_rapid = ...\n",
    "#table_slow  = ...\n"
   ]
  },
  {
   "cell_type": "code",
   "execution_count": null,
   "metadata": {
    "execution": {
     "iopub.execute_input": "2024-11-03T12:40:56.524889Z",
     "iopub.status.busy": "2024-11-03T12:40:56.524561Z",
     "iopub.status.idle": "2024-11-03T12:40:56.537702Z",
     "shell.execute_reply": "2024-11-03T12:40:56.536347Z",
     "shell.execute_reply.started": "2024-11-03T12:40:56.524854Z"
    },
    "trusted": true
   },
   "outputs": [],
   "source": [
    "print('Testing ... for slow format')\n",
    "# chi2_contingency(...)"
   ]
  },
  {
   "cell_type": "code",
   "execution_count": null,
   "metadata": {
    "execution": {
     "iopub.execute_input": "2024-11-03T12:40:56.539849Z",
     "iopub.status.busy": "2024-11-03T12:40:56.539470Z",
     "iopub.status.idle": "2024-11-03T12:40:56.554982Z",
     "shell.execute_reply": "2024-11-03T12:40:56.553826Z",
     "shell.execute_reply.started": "2024-11-03T12:40:56.539810Z"
    },
    "trusted": true
   },
   "outputs": [],
   "source": [
    "print('Testing ... for rapid format')\n",
    "# chi2_contingency(...)"
   ]
  },
  {
   "cell_type": "code",
   "execution_count": null,
   "metadata": {
    "execution": {
     "iopub.execute_input": "2024-11-03T12:40:56.556807Z",
     "iopub.status.busy": "2024-11-03T12:40:56.556385Z",
     "iopub.status.idle": "2024-11-03T12:40:56.574464Z",
     "shell.execute_reply": "2024-11-03T12:40:56.573234Z",
     "shell.execute_reply.started": "2024-11-03T12:40:56.556763Z"
    },
    "trusted": true
   },
   "outputs": [],
   "source": [
    "print('Testing ... for blitz format')\n",
    " #chi2_contingency(...)"
   ]
  },
  {
   "cell_type": "markdown",
   "metadata": {},
   "source": [
    "**Заключение**: ВАШЕ РЕШЕНИЕ И МЫСЛИ ТУТ"
   ]
  },
  {
   "cell_type": "markdown",
   "metadata": {},
   "source": [
    "Проблема в том что критерий $\\chi^2$ позволяет нам проверять факторы на зависимость/независимость, но ничего не говорит о структуре этой зависимости. Реализуйте вычисление ранговой корреляции Спирмена и посчитайте её, чтобы оценить есть ли \n",
    "- Монотонная зависимость между *шансами на ничью* и *рангом партии*\n",
    "- Монотонная зависимость между *разницей шансов на победу у белых и у чёрных* и *рангом партии*\n",
    "\n",
    "Используйте для этого партии сыгранные в блиц-контроле и дайте интерпретацию полученным результатам. "
   ]
  },
  {
   "cell_type": "code",
   "execution_count": null,
   "metadata": {
    "execution": {
     "iopub.execute_input": "2024-11-03T12:40:56.576341Z",
     "iopub.status.busy": "2024-11-03T12:40:56.575941Z",
     "iopub.status.idle": "2024-11-03T12:40:56.600135Z",
     "shell.execute_reply": "2024-11-03T12:40:56.598846Z",
     "shell.execute_reply.started": "2024-11-03T12:40:56.576301Z"
    },
    "trusted": true
   },
   "outputs": [],
   "source": [
    "# table_blitz['draw_prob']      = ...\n",
    "# table_blitz['white_win_prob'] = ...\n",
    "# table_blitz['black_win_prob'] = ...\n",
    "# table_blitz['dominance'] = ..."
   ]
  },
  {
   "cell_type": "code",
   "execution_count": null,
   "metadata": {
    "execution": {
     "iopub.execute_input": "2024-11-03T12:40:56.601862Z",
     "iopub.status.busy": "2024-11-03T12:40:56.601466Z",
     "iopub.status.idle": "2024-11-03T12:40:56.615338Z",
     "shell.execute_reply": "2024-11-03T12:40:56.614059Z",
     "shell.execute_reply.started": "2024-11-03T12:40:56.601822Z"
    },
    "trusted": true
   },
   "outputs": [],
   "source": [
    "def spearman_rank_correlation(observations : ArrayLike) -> float:\n",
    "    \"\"\"        \n",
    "        Calculates spearmean's rank correlation coefficient for data in the format\n",
    "            (1, X[1]), (2, X[2]), .... (n, X[n])\n",
    "        i.e. for the paired rank data sorted by the first component. No ties assumed\n",
    "        in the data X.\n",
    "        \n",
    "        Parameters\n",
    "        ----------\n",
    "        observed : ArrayLike\n",
    "             array of values X[1], X[2], ... X[n], \n",
    "            \n",
    "        Returns\n",
    "        -------\n",
    "        spearman : float \n",
    "            value of the spearman correlation for the given data\n",
    "    \"\"\"\n",
    "    # your code is here\n",
    "    return spearman"
   ]
  },
  {
   "cell_type": "code",
   "execution_count": null,
   "metadata": {
    "execution": {
     "iopub.execute_input": "2024-11-03T12:40:56.623307Z",
     "iopub.status.busy": "2024-11-03T12:40:56.622684Z",
     "iopub.status.idle": "2024-11-03T12:40:56.630583Z",
     "shell.execute_reply": "2024-11-03T12:40:56.629433Z",
     "shell.execute_reply.started": "2024-11-03T12:40:56.623264Z"
    },
    "trusted": true
   },
   "outputs": [],
   "source": [
    "# rho = ...\n",
    "print(f'Correlation between draw odds and game rank: {rho}')"
   ]
  },
  {
   "cell_type": "code",
   "execution_count": null,
   "metadata": {
    "execution": {
     "iopub.execute_input": "2024-11-03T12:40:56.632736Z",
     "iopub.status.busy": "2024-11-03T12:40:56.632313Z",
     "iopub.status.idle": "2024-11-03T12:40:56.643795Z",
     "shell.execute_reply": "2024-11-03T12:40:56.642665Z",
     "shell.execute_reply.started": "2024-11-03T12:40:56.632695Z"
    },
    "trusted": true
   },
   "outputs": [],
   "source": [
    "# rho = ...\n",
    "print(f'Correlation between white dominance over black and game rank: {rho}')"
   ]
  },
  {
   "cell_type": "markdown",
   "metadata": {},
   "source": [
    "**Заключение.** ВАШЕ РЕШЕНИЕ И МЫСЛИ ТУТ"
   ]
  },
  {
   "cell_type": "markdown",
   "metadata": {},
   "source": [
    "## Задача 3. Статистика дебютов (2.5 балла)"
   ]
  },
  {
   "cell_type": "markdown",
   "metadata": {},
   "source": [
    "Другим распространённым мнением является то что выбор дебюта на высоком уровне не влияет на результативность партии. Все дебюты, согласно энциклопедии шахматных дебютов (ECO) делятся на 5 категорий\n",
    "- A: Фланговые варианты.\n",
    "- B: Полуоткрыте варианты.\n",
    "- C: Открытые варианты.\n",
    "- D: Закрытые и полузакрытые варианты.\n",
    "- E: Системы типа индийской защиты.\n",
    "\n",
    "Так как у нас нет доступа к партиям ИИ, которые сейчас считаются эталоном точной игры, мы ограничимся данными по партиям уровня супергроссмейстеров. \n",
    "Используя статистические методы, проверьте:\n",
    "- Есть ли разница в предпочтениях дебютов (с точки зрения приведенных выше категорий) между партиями уровня супергроссмейстеров и партиями уровня гроссмейстеров в классическом временном контроле? \n",
    "- Правда ли что выбор между открытым (C) и закрытым (D) началом не влияет на распределение исхода партии? Проверьте это для разных форм временного контроля. Используйте партии только уровня супергроссмейстеров.\n",
    "\n",
    "Для проверки будем использовать критерий $\\chi^2$ (снова). Для каждой гипотезы, которое вы собираетесь проверять:\n",
    "- сделайте визуализацию соответствующих данных;\n",
    "- сформулируйте нулевую и альтернативную гипотезу. Опишите как применить критерий $\\chi^2$ для проверки этих гипотез;\n",
    "- реализуйте проверку гипотезы и дайте интерпретацию результатам;"
   ]
  },
  {
   "cell_type": "markdown",
   "metadata": {},
   "source": [
    "ВАШЕ РЕШЕНИЕ И МЫСЛИ ТУТ"
   ]
  },
  {
   "cell_type": "code",
   "execution_count": null,
   "metadata": {
    "execution": {
     "iopub.execute_input": "2024-11-03T12:41:01.911605Z",
     "iopub.status.busy": "2024-11-03T12:41:01.911251Z",
     "iopub.status.idle": "2024-11-03T12:41:01.922480Z",
     "shell.execute_reply": "2024-11-03T12:41:01.921248Z",
     "shell.execute_reply.started": "2024-11-03T12:41:01.911566Z"
    },
    "trusted": true
   },
   "outputs": [],
   "source": [
    "#your code is here\n",
    "# check difference in opening choose"
   ]
  },
  {
   "cell_type": "markdown",
   "metadata": {},
   "source": [
    "**Заключение**: ВАШЕ РЕШЕНИЕ И МЫСЛИ ТУТ"
   ]
  },
  {
   "cell_type": "markdown",
   "metadata": {},
   "source": [
    "Теперь проверьте влияет ли выбор между открытым и закрытым началом:"
   ]
  },
  {
   "cell_type": "markdown",
   "metadata": {},
   "source": [
    "ВАШЕ РЕШЕНИЕ И МЫСЛИ ТУТ"
   ]
  },
  {
   "cell_type": "code",
   "execution_count": null,
   "metadata": {
    "execution": {
     "iopub.execute_input": "2024-11-03T12:41:01.924443Z",
     "iopub.status.busy": "2024-11-03T12:41:01.924005Z",
     "iopub.status.idle": "2024-11-03T12:41:02.020796Z",
     "shell.execute_reply": "2024-11-03T12:41:02.019720Z",
     "shell.execute_reply.started": "2024-11-03T12:41:01.924401Z"
    },
    "trusted": true
   },
   "outputs": [],
   "source": [
    "#your code is here"
   ]
  },
  {
   "cell_type": "markdown",
   "metadata": {},
   "source": [
    "Что изменится если брать уровень значимости 0.01? А если брать уровень значимости 0.1? Дайте ответы на эти вопросы и напишите интерпретацию полученных результатов."
   ]
  },
  {
   "cell_type": "markdown",
   "metadata": {},
   "source": [
    "**Заключение**: ВАШЕ РЕШЕНИЕ И МЫСЛИ ТУТ"
   ]
  },
  {
   "cell_type": "markdown",
   "metadata": {},
   "source": [
    "## Задача 4. Исследование длин партий в разных формах временного контроля (10 баллов)\n",
    "\n",
    "Попробуйте разобраться в том, какому распределению следуют длительности партий в формате рапид. Выберете несколько распределений и попробуйте оценить их параметры. Постройте гистограммы на которых изображено распределение длительности партий и теоретические плотности распределений с оценёнными параметрами. \n",
    "\n",
    "Для оценки параметров распределений можно использовать метод ``fit()`` класса ``scipy.rv_continious()``."
   ]
  },
  {
   "cell_type": "code",
   "execution_count": null,
   "metadata": {
    "execution": {
     "iopub.execute_input": "2024-11-03T12:41:02.066405Z",
     "iopub.status.busy": "2024-11-03T12:41:02.065998Z",
     "iopub.status.idle": "2024-11-03T12:41:05.442034Z",
     "shell.execute_reply": "2024-11-03T12:41:05.440956Z",
     "shell.execute_reply.started": "2024-11-03T12:41:02.066365Z"
    },
    "trusted": true
   },
   "outputs": [],
   "source": [
    "from scipy.stats import gamma, lognorm, exponnorm, invgauss, invgamma, rayleigh, maxwell\n",
    "\n",
    "# your code is here"
   ]
  },
  {
   "cell_type": "markdown",
   "metadata": {},
   "source": [
    "Выберите три наиболее на ваш взгляд подходящих распределения и постройте для них Q-Q график. Подробнее про Q-Q графики можно прочитать [здесь](https://habr.com/ru/articles/578754/) (обратите внимание, что в статье делается упор на Q-Q графики относительно нормального распределения --- вам же нужно построить графики относительно распределений, параметры которых вы оценили)."
   ]
  },
  {
   "cell_type": "code",
   "execution_count": null,
   "metadata": {
    "execution": {
     "iopub.execute_input": "2024-11-03T12:41:05.443697Z",
     "iopub.status.busy": "2024-11-03T12:41:05.443322Z",
     "iopub.status.idle": "2024-11-03T12:41:05.452834Z",
     "shell.execute_reply": "2024-11-03T12:41:05.451566Z",
     "shell.execute_reply.started": "2024-11-03T12:41:05.443658Z"
    },
    "trusted": true
   },
   "outputs": [],
   "source": [
    "def qqplot(data : ArrayLike, distribution: stats.rv_continuous,  quantiles : int,  ax : plt.axis) -> plt.axis:\n",
    "    \"\"\"\n",
    "        Plots Q-Q plot agains theoretical distribution. \n",
    "        \n",
    "        Parameters\n",
    "        ----------\n",
    "        data : ArrayLike\n",
    "            sample data\n",
    "        distribution: stats.rv_continuous\n",
    "            theoretical distribution agains which quantiles will be plotted\n",
    "        quantiles: int\n",
    "            number of quantiles (must be less than size of the data)\n",
    "        ax: plt.axis\n",
    "            PyPlot Axis object, on which QQ-plot should be plotted\n",
    "            \n",
    "        Returns\n",
    "        -------\n",
    "        ax: plt.axis \n",
    "            PyPlot Axis object with QQ-plot\n",
    "    \"\"\"\n",
    "    \n",
    "    # your code is here\n",
    "    return ax"
   ]
  },
  {
   "cell_type": "code",
   "execution_count": null,
   "metadata": {
    "execution": {
     "iopub.execute_input": "2024-11-03T12:41:05.455298Z",
     "iopub.status.busy": "2024-11-03T12:41:05.454459Z",
     "iopub.status.idle": "2024-11-03T12:41:06.203555Z",
     "shell.execute_reply": "2024-11-03T12:41:06.202148Z",
     "shell.execute_reply.started": "2024-11-03T12:41:05.455247Z"
    },
    "trusted": true
   },
   "outputs": [],
   "source": [
    "fig, axs = plt.subplots(1, 3, figsize = (15, 5))\n",
    "#qqplot(rapid['length'], ...);\n",
    "#qqplot(rapid['length'], ...);\n",
    "#qqplot(rapid['length'], ...);"
   ]
  },
  {
   "cell_type": "markdown",
   "metadata": {},
   "source": [
    " На основе всего выше сделанного выберете одно распределение, которое вам кажется наиболее подходящим. После того как вы выбрали распределение $F_0$, проверьте соответствующую гипотезу согласия. Конкретнее, проверьте гипотезу\n",
    "$$\n",
    "H_0: X_1,..,X_n \\sim F_0\n",
    "$$\n",
    "против альтернативы\n",
    "$$\n",
    "H_A: X_1,..,X_n \\nsim F_0\n",
    "$$\n",
    "\n",
    "\n",
    "Такую гипотезу часто проверяют с помощью статистики критерия Колмогорова-Смирнова:\n",
    "$$\n",
    "D = \\sqrt{n} \\sup_x \\vert F_{0} - \\hat{F}(x)\\vert,\n",
    "$$\n",
    "где $\\hat{F}$ -- эмпирическая функция распределения, которая задётся как\n",
    "$$\n",
    "\\hat{F}(x) = \\frac{1}{n}\\sum_{i=1}^n \\mathbb{1}(X_i \\leq x).\n",
    "$$\n",
    "Выражение $1(условие)$ равно $1$, если условие верно и $0$ в противном случае -- так выше считается количество элементов выборки $\\leq x$. Статистика $D$ при больших $n$ (сотен уже достаточно) имеет распределение Колмогорова, так что можно построить критерий для проверки. Чтобы упростить техническую часть с подсчётом $D$, воспользуйтесь готовым тестом из пакета scipy.stats."
   ]
  },
  {
   "cell_type": "code",
   "execution_count": null,
   "metadata": {
    "execution": {
     "iopub.execute_input": "2024-11-03T12:41:06.205699Z",
     "iopub.status.busy": "2024-11-03T12:41:06.205304Z",
     "iopub.status.idle": "2024-11-03T12:41:06.361753Z",
     "shell.execute_reply": "2024-11-03T12:41:06.360385Z",
     "shell.execute_reply.started": "2024-11-03T12:41:06.205659Z"
    },
    "trusted": true
   },
   "outputs": [],
   "source": [
    "#stats.kstest(rapid['length'], ...)"
   ]
  },
  {
   "cell_type": "markdown",
   "metadata": {},
   "source": [
    "Объясните, почему получилось такое значение несмотря на то, что подобранное вами распределение достаточно неплохо описывает данные? Подумайте, можно ли как-то изменить процедуру проверки для того чтобы можно было воспользоваться этим тестом? Обратите внимание на две вещи:\n",
    "1. Как считается статистка критерия КС и почему для наших данных эмпирическая функция распределения никогда не будет сходится к функции распределения выбранного вами распределения? Как можно сделать дискретные данные  не-дискретными?\n",
    "2.  Обратите внимание на выброс в данных в районе где достигается значение статистики критерия (statistic location). С чем может быть связан этот выброс и как можно было бы его устранить?\n",
    "\n",
    "Опишите и реализуйте измененную процедуру. "
   ]
  },
  {
   "cell_type": "markdown",
   "metadata": {},
   "source": [
    "ВАШЕ РЕШЕНИЕ И МЫСЛИ ЗДЕСЬ"
   ]
  },
  {
   "cell_type": "code",
   "execution_count": null,
   "metadata": {
    "execution": {
     "iopub.execute_input": "2024-11-03T12:41:06.373542Z",
     "iopub.status.busy": "2024-11-03T12:41:06.373102Z",
     "iopub.status.idle": "2024-11-03T12:41:06.388646Z",
     "shell.execute_reply": "2024-11-03T12:41:06.387376Z",
     "shell.execute_reply.started": "2024-11-03T12:41:06.373486Z"
    },
    "trusted": true
   },
   "outputs": [],
   "source": [
    "# your code is here"
   ]
  }
 ],
 "metadata": {
  "kaggle": {
   "accelerator": "none",
   "dataSources": [
    {
     "databundleVersionId": 10033477,
     "datasetId": 5978579,
     "sourceId": 9789639,
     "sourceType": "datasetVersion"
    }
   ],
   "dockerImageVersionId": 30786,
   "isGpuEnabled": false,
   "isInternetEnabled": true,
   "language": "python",
   "sourceType": "notebook"
  },
  "kernelspec": {
   "display_name": "Python 3",
   "language": "python",
   "name": "python3"
  },
  "language_info": {
   "codemirror_mode": {
    "name": "ipython",
    "version": 3
   },
   "file_extension": ".py",
   "mimetype": "text/x-python",
   "name": "python",
   "nbconvert_exporter": "python",
   "pygments_lexer": "ipython3",
   "version": "3.10.14"
  }
 },
 "nbformat": 4,
 "nbformat_minor": 4
}
