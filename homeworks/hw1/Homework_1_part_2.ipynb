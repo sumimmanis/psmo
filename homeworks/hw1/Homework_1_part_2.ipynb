{
 "cells": [
  {
   "cell_type": "markdown",
   "metadata": {
    "id": "xpO92YkQ-9SB"
   },
   "source": [
    "# ДЗ 1, часть 2. Теория информации"
   ]
  },
  {
   "cell_type": "markdown",
   "metadata": {},
   "source": [
    "Имя, Фамилия: Игнат Сальников\n",
    "\n",
    "группа: 221\n",
    "\n",
    "**Оценка(для проверяющего):** 0 из 10\n",
    "\n",
    "**Дедлайн:** одновременно с частью 3"
   ]
  },
  {
   "cell_type": "code",
   "execution_count": 1,
   "metadata": {},
   "outputs": [],
   "source": [
    "#all imports here please\n",
    "import pickle as pkl\n",
    "\n",
    "from collections import OrderedDict\n",
    "import heapq\n",
    "\n",
    "import numpy as np\n",
    "import matplotlib.pyplot as plt\n",
    "import plotly.express as px\n",
    "import plotly.graph_objects as go\n",
    "\n",
    "%matplotlib inline\n",
    "#... add your own if necessary"
   ]
  },
  {
   "cell_type": "markdown",
   "metadata": {},
   "source": [
    "Энтропию можно использовать не только для описания хаотичности, беспорядочности и уровня неопределённости, но и для того, чтобы исследовать зависимость между случайными величинами, используя теорию информации. Начнём с базовых вещей и постепенно дойдём до ультрапопулярной эвристики выбора важных признаков для машинного обучения -- взаимной информации."
   ]
  },
  {
   "cell_type": "markdown",
   "metadata": {
    "id": "g4hbID4f_ZW7"
   },
   "source": [
    "## Задача 1. Поисследуем энтропию (2 балла)\n",
    "\n",
    "Будем предполагать, что нам даны две случайных величины $X,Y$, можете предполагать, что они дискретные или имеют плотности, выкладок этот факт не изменит, но делайте всё по одному стандарту: укажите ниже и придерживайтесь его на всём протяжении ДЗ, если явно не просят сделать иначе."
   ]
  },
  {
   "cell_type": "markdown",
   "metadata": {
    "id": "jU9QZbW0_gJi"
   },
   "source": [
    "### Независимость?\n",
    "\n",
    "Покажите, что если две случайных величины $X,Y$ независимы, то $H(X,Y)=H(X)+H(Y)$.\n",
    "\n",
    "Имейте в виду, что слева под знаком энтропии ДВЕ случайных величины, рассматриваемых как 2d-вектор, поэтому матожидание берётся по их совместному закону распределения. Это называется *совместной энтропией* величин $X,Y$."
   ]
  },
  {
   "cell_type": "markdown",
   "metadata": {},
   "source": [
    "$$\n",
    "- H(X,Y) = \\sum_{x, y} p(x, y) \\log p(x, y) = |\\text{независ.}| = \\sum_{x, y} p(x, y) \\left[\\log p(x) + \\log p(y)\\right] = \\sum_{x, y} p(x, y) \\log p(x) + \\sum_{x, y} p(x, y) \\log p(y) =\n",
    "$$\n",
    "\n",
    "$$\n",
    "= \\sum_{x, y} p(x) p(y) \\log p(x) + \\sum_{x, y} p(x) p(y) \\log p(y) = \\sum_{y} p(y) \\sum_{x} p(x) \\log p(x) + \\sum_{x}  p(x) \\sum_{y} p(y) \\log p(y) =\n",
    "$$\n",
    "\n",
    "$$\n",
    "= - \\sum_{y} p(y) H(X) - \\sum_{x}  p(x) H(Y) = |\\text{вероятности суммируются в } 1|= - H(X) - H(Y)\n",
    "$$"
   ]
  },
  {
   "cell_type": "markdown",
   "metadata": {},
   "source": [
    "### Зависимость?"
   ]
  },
  {
   "cell_type": "markdown",
   "metadata": {},
   "source": [
    "Покажите, что в общем случае\n",
    "\n",
    "$$\n",
    "H(X,Y) = H(X) + H(Y \\vert X)\n",
    "$$\n",
    "и вычислите, чему будет равен остаток $H(Y \\vert X)$. Он носит название *условной энтропии*, не путайте с энтропией условного распределения."
   ]
  },
  {
   "cell_type": "markdown",
   "metadata": {},
   "source": [
    "$$\n",
    "- H(X,Y) = \\sum_{x, y} p(x, y) \\log p(x, y) = \\sum_{x, y} p(x, y) \\left[\\log p(y|x) + \\log p(x)\\right] = \\sum_{x, y} p(x, y) \\log p(y|x) + \\sum_{x, y} p(x, y) \\log p(x) =\n",
    "$$\n",
    "\n",
    "$$\n",
    "= \\sum_{x, y} p(y, x) \\log p(y|x) + \\sum_{x, y} p(y|x)p(x) \\log p(x) = \\sum_{x, y} p(y, x) \\log p(y|x) + \\sum_x p(x) \\log p(x) \\sum_y p(y|x) = \n",
    "$$\n",
    "\n",
    "$$\n",
    "= |\\text{вероятности суммируются в } 1| = \\sum_{x, y} p(y, x) \\log p(y|x) + \\sum_x p(x) \\log p(x) = \\sum_{x, y} p(y, x) \\log p(y|x) - H(X)\n",
    "$$\n",
    "\n",
    "Получается, что условной энтропией мы называем величину равную\n",
    "\n",
    "$$\n",
    "- \\sum_{x, y} p(y, x) \\log p(y|x) = - \\sum_x p(x) \\sum_y p(y|x) \\log p(y|x)\n",
    "$$"
   ]
  },
  {
   "cell_type": "markdown",
   "metadata": {},
   "source": [
    "Обоснуйте, какой может быть физический смысл $H(Y\\vert X)$ (что она измеряет?) с точки зрения теории кодирования в случае дискретных СВ $X,Y$."
   ]
  },
  {
   "cell_type": "markdown",
   "metadata": {},
   "source": [
    "Сколько в среднем дополнительных бит информации необходимо для кодирования собития $Y$ при условии что произошло событие $X$."
   ]
  },
  {
   "cell_type": "markdown",
   "metadata": {
    "id": "ZDNXyjtgAdnv"
   },
   "source": [
    "## Задача 2. Взаимная информация (2 балла)\n",
    "\n",
    "Можно рассмотреть разницу\n",
    "\n",
    "$$\n",
    "I(X,Y) = H(X) - H(X \\vert Y),\n",
    "$$\n",
    "\n",
    "которая отражает в некотором смысле (вы наверняка об этом думали в окошке выше) уровень использования информации о значении $Y$ при кодировании $X$ (если мы о кодировании). Эта величина носит название *взаимной информации* и является ещё одним хорошим способом исследования зависимости между случайными величинами. Библиотека `sklearn` позволяет оценивать её по данным и тем самым выделять самые важные признаки для моделей машинного обучения."
   ]
  },
  {
   "cell_type": "markdown",
   "metadata": {
    "id": "9aMyr0QdAdnw"
   },
   "source": [
    "### Симметричность\n",
    "\n",
    "Докажите, что $I(X,Y)=I(Y,X)$."
   ]
  },
  {
   "cell_type": "markdown",
   "metadata": {},
   "source": [
    "$$\n",
    "I(X,Y) = H(X) + H(Y) - H(Y) - H(X|Y) = H(X) + H(Y) - H(X,Y) =\n",
    "$$\n",
    "\n",
    "$$\n",
    "= H(X) + H(Y) - H(X) - H(Y|X) = I(Y,X)\n",
    "$$"
   ]
  },
  {
   "cell_type": "markdown",
   "metadata": {},
   "source": [
    "### Связь с KL\n",
    "\n",
    "Докажите, что $I(X,Y)= D_{KL}( p_{X,Y} \\vert p_{X}p_{Y})$. Слева совместное распределение $X,Y$, справа -- произведение вероятностей $X,Y$. "
   ]
  },
  {
   "cell_type": "markdown",
   "metadata": {
    "id": "Jd6AICLiAdnx"
   },
   "source": [
    "$$\n",
    "- D_{KL}( p_{X,Y} | p_{X}p_{Y}) = \\sum_{x, y} p(x, y) \\log \\frac{p(x, y)}{p(x) p(y)} = \\sum_{x, y} p(x, y) \\left[\\log p(x|y) - \\log p(x) \\right] = \n",
    "$$\n",
    "\n",
    "$$\n",
    "= \\sum_{x, y} p(x, y) \\log p(x|y) - \\sum_x p(x)  \\log p(x) \\sum_y p(y | x) = |\\text{вероятности суммируются в } 1| =\n",
    "$$\n",
    "\n",
    "$$\n",
    "\\sum_{x, y} p(x, y) \\log p(x|y) + H(X) = -H(X, Y) + H(X) = - I(X,Y)\n",
    "$$"
   ]
  },
  {
   "cell_type": "markdown",
   "metadata": {},
   "source": [
    "### Какой смысл?..\n",
    "\n",
    "Как вы думаете, как интерпретируется $I(X,Y)$ в терминах теории кодирования (при дискретных $X,Y$)? Что измеряет эта величина?"
   ]
  },
  {
   "cell_type": "markdown",
   "metadata": {},
   "source": [
    "На сколько мы можем сократить среднюю длину кода для $X$, при условии что мы знаем $Y$."
   ]
  },
  {
   "cell_type": "markdown",
   "metadata": {},
   "source": [
    "## Максимальная энтропия (3 балла)\n",
    "\n",
    "### Экспоненциальное распределение\n",
    "\n",
    "(1 балл) Вычислите энтропию для экспоненциального распределения $Exp(\\lambda)$ и распределения Лапласа $Laplace(0,\\lambda)$, имеющее плотность $\\frac{\\lambda}{2} e^{-\\lambda \\vert x\\vert }$."
   ]
  },
  {
   "cell_type": "markdown",
   "metadata": {},
   "source": [
    "$$\n",
    "- H_{Exp(\\lambda)}(X) = \\int_0^{\\infty} \\lambda e^{-\\lambda x} \\ln({ \\lambda e^{-\\lambda x}}) \\, dx = \n",
    "$$\n",
    "\n",
    "$$\n",
    " = \\int_0^{\\infty} \\lambda e^{-\\lambda x} \\ln({ \\lambda }) \\, dx -\\lambda \\int_0^{\\infty} \\lambda x e^{-\\lambda x} \\, dx \n",
    "$$\n",
    "\n",
    "$$\n",
    "H_{Exp(\\lambda)}(X) = \\lambda \\mathbb{E}_{Exp(\\lambda)}(x) - \\ln{ \\lambda } = 1 - \\ln{ \\lambda } \n",
    "$$\n"
   ]
  },
  {
   "cell_type": "markdown",
   "metadata": {},
   "source": [
    "Для лапласа аналогиночно\n",
    "\n",
    "$$\n",
    "- H_{Laplace(0,\\lambda)}(X) = \\int_{-\\infty}^{\\infty} \\frac{\\lambda}{2} e^{-\\lambda |x|} \\ln({ \\frac{\\lambda}{2} e^{-\\lambda |x|}}) \\, dx =\n",
    "$$\n",
    "\n",
    "$$\n",
    "= \\int_{0}^{\\infty} \\lambda e^{-\\lambda x} \\ln({ \\frac{\\lambda}{2} e^{-\\lambda x}}) \\, dx = \n",
    "$$\n",
    "\n",
    "$$\n",
    " = \\int_0^{\\infty} \\lambda e^{-\\lambda x} \\ln(\\frac{\\lambda}{2}) \\, dx -\\lambda \\int_0^{\\infty} \\lambda x e^{-\\lambda x} \\, dx \n",
    "$$\n",
    "\n",
    "\n",
    "$$\n",
    "H_{Laplace(0,\\lambda)}(X) = \\lambda \\mathbb{E}_{Exp(\\lambda)}(x) - \\ln{\\frac{\\lambda}{2} } = 1 - \\ln{ \\frac{\\lambda}{2} } \n",
    "$$\n",
    "\n",
    "\n",
    "\n"
   ]
  },
  {
   "cell_type": "markdown",
   "metadata": {},
   "source": [
    "\n",
    "(2 балла) Докажите, что Экспоненциальное распределение $Exp(\\lambda)$ имеет максимальную энтропию среди всех абсолютно непрерывных вероятностных распределений с фиксированным средним и имеющих ненулевую плотность в области $x\\geq 0$."
   ]
  },
  {
   "cell_type": "markdown",
   "metadata": {},
   "source": [
    "Пусть задана абсолютно непрерывная вероятностная мера $p(x)$ на носителе $x \\geq 0$ с фиксированным средним $\\mathbb{E}_{q}(x) = \\mathbb{E}_{Exp(\\lambda)}(x) = \\frac{1}{\\lambda}$, тогда\n",
    "$$\n",
    "- CE(p | q \\sim Exp(\\lambda)) = \\int_0^{\\infty} p(x) \\ln({ \\lambda e^{-\\lambda x}}) = \n",
    "$$\n",
    "\n",
    "$$\n",
    "= \\int_0^{\\infty} p(x)  \\ln({ \\lambda }) \\, dx -\\lambda  \\int_0^{\\infty} x  p(x) \\, dx \n",
    "$$\n",
    "\n",
    "$$\n",
    "CE(p | q \\sim Exp(\\lambda))  = -\\lambda \\mathbb{E}_{p}(x) - \\ln { \\lambda } = 1 - \\ln { \\lambda } = H_{Exp(\\lambda)}(X) \n",
    "$$\n",
    "\n",
    "$$\n",
    "D_{KL}(p || q) = CE(p|q) - H(p) = H_{Exp(\\lambda)}(X) - H(p) \\geq 0\n",
    "$$\n",
    "\n",
    "И значит\n",
    "\n",
    "$$\n",
    "H_{Exp(\\lambda)}(X) \\geq H(p)\n",
    "$$\n"
   ]
  },
  {
   "cell_type": "markdown",
   "metadata": {},
   "source": [
    "## Строим свой код, основанный на частотах (3 балла)\n",
    "\n",
    "Представим себе для примера достаточно большую книгу (например, Войну и Мир Льва Николаевича Толстого). Для того, чтобы записывать буквы в кодировке UTF-8 требуется от 2 до 4 байт (каждый 8бит). Но книга -- это не просто какой-то iid равновероятный поток символов, а структурированный текст, структуру которого можно по-разному использовать. К примеру, мы можем задуматься над тем, чтобы сжать её, используя информацию о том, какие символы встречаются чаще: ведь более частые можно кодировать более короткими кодовыми словами, а более редкие -- более длинными.\n",
    "\n",
    "В этом идея [кода Хаффмана](https://compression.ru/download/articles/huff/huffman_1952_minimum-redundancy-codes.pdf), который мы попробуем поисследовать в самой простой наивной имплементации."
   ]
  },
  {
   "cell_type": "markdown",
   "metadata": {},
   "source": [
    "### Вычисляем языковую статистику\n",
    "\n",
    "Возьмём для примера текст вики-страницы [МО1](http://wiki.cs.hse.ru/%D0%9C%D0%B0%D1%88%D0%B8%D0%BD%D0%BD%D0%BE%D0%B5_%D0%BE%D0%B1%D1%83%D1%87%D0%B5%D0%BD%D0%B8%D0%B5_1)"
   ]
  },
  {
   "cell_type": "code",
   "execution_count": 2,
   "metadata": {},
   "outputs": [
    {
     "name": "stdout",
     "output_type": "stream",
     "text": [
      "Машинное обучение 1\n",
      "\n",
      "Содержание\n",
      "\n",
      "\n",
      "\n",
      "    1 О курсе\n",
      "\n",
      "        1.1 Полезные ссылки\n",
      "\n",
      "        1.2 Семинары\n",
      "\n",
      "        1.3 Ассистенты\n",
      "\n",
      "        1.4 Правила выставления оценок\n",
      "\n",
      "        1.5 Пра\n"
     ]
    }
   ],
   "source": [
    "with open(\"moText.txt\",\"r\", encoding=\"utf-8\") as f:\n",
    "    MOText = \"\\n\".join(f.readlines())\n",
    "\n",
    "print(MOText[:180])"
   ]
  },
  {
   "cell_type": "markdown",
   "metadata": {},
   "source": [
    "Это не сильно большой, но не очень маленький текст."
   ]
  },
  {
   "cell_type": "code",
   "execution_count": 3,
   "metadata": {},
   "outputs": [
    {
     "name": "stdout",
     "output_type": "stream",
     "text": [
      "7581\n"
     ]
    }
   ],
   "source": [
    "print(len(MOText))"
   ]
  },
  {
   "cell_type": "markdown",
   "metadata": {},
   "source": [
    "Вычислите частоту каждого символа, сохранив их в упорядоченный словарь (OrderedDict, пригодится для сортировок)  вида {<символ>: <частота>}."
   ]
  },
  {
   "cell_type": "code",
   "execution_count": 4,
   "metadata": {},
   "outputs": [],
   "source": [
    "import collections\n",
    "import re\n",
    "\n",
    "d = collections.OrderedDict()\n",
    "\n",
    "for i in MOText:\n",
    "    if i not in d:\n",
    "        d[i] = 1\n",
    "    else:\n",
    "        d[i] += 1\n",
    "\n",
    "\n",
    "symFreqs = d"
   ]
  },
  {
   "cell_type": "code",
   "execution_count": 5,
   "metadata": {},
   "outputs": [
    {
     "name": "stdout",
     "output_type": "stream",
     "text": [
      "М: 45\n",
      "а: 398\n",
      "ш: 29\n",
      "и: 355\n",
      "н: 351\n",
      "о: 354\n",
      "е: 389\n",
      " : 919\n",
      "б: 52\n",
      "у: 97\n",
      "ч: 85\n",
      "1: 51\n",
      "\n",
      ": 497\n",
      "С: 35\n",
      "д: 139\n",
      "р: 198\n",
      "ж: 20\n",
      "О: 14\n",
      "к: 139\n",
      "с: 192\n",
      ".: 94\n",
      "П: 62\n",
      "л: 166\n",
      "з: 67\n",
      "ы: 82\n",
      "2: 107\n",
      "м: 113\n",
      "3: 14\n",
      "А: 39\n",
      "т: 186\n",
      "4: 19\n",
      "в: 160\n",
      "я: 75\n",
      "ц: 30\n",
      "5: 15\n",
      "й: 62\n",
      "Л: 5\n",
      "Т: 10\n",
      "6: 13\n",
      "Б: 30\n",
      "7: 9\n",
      "К: 31\n",
      "ь: 44\n",
      "8: 6\n",
      "Э: 12\n",
      "9: 14\n",
      "г: 55\n",
      "п: 87\n",
      "ю: 17\n",
      "х: 20\n",
      "0: 47\n",
      "щ: 8\n",
      "b: 13\n",
      "o: 43\n",
      "r: 48\n",
      "d: 22\n",
      "e: 76\n",
      "l: 31\n",
      "s: 65\n",
      "-: 7\n",
      "И: 38\n",
      "Ф: 4\n",
      "Н: 14\n",
      "В: 24\n",
      "Ш: 6\n",
      ":: 35\n",
      "Е: 6\n",
      "Р: 17\n",
      "G: 8\n",
      "i: 72\n",
      "t: 91\n",
      "H: 8\n",
      "u: 17\n",
      "э: 7\n",
      "/: 63\n",
      "(: 11\n",
      "A: 11\n",
      "n: 47\n",
      "y: 18\n",
      "T: 16\n",
      "a: 55\n",
      "k: 16\n",
      ",: 33\n",
      "): 11\n",
      "h: 45\n",
      "c: 23\n",
      "m: 39\n",
      "+: 19\n",
      "<: 2\n",
      ">: 1\n",
      "@: 3\n",
      "g: 26\n",
      "ъ: 1\n",
      "p: 34\n",
      "x: 6\n",
      "F: 10\n",
      "f: 8\n",
      "S: 10\n",
      "M: 24\n",
      "w: 7\n",
      "D: 8\n",
      "Ч: 1\n",
      "V: 8\n",
      "U: 6\n",
      "R: 10\n",
      "Z: 10\n",
      "W: 10\n",
      "J: 10\n",
      "q: 1\n",
      "I: 6\n",
      "X: 5\n",
      "_: 6\n",
      "B: 4\n",
      "N: 13\n",
      "C: 16\n",
      "v: 7\n",
      "P: 22\n",
      "O: 2\n",
      "?: 2\n",
      "=: 2\n",
      "ф: 12\n",
      "Г: 2\n",
      "\t: 58\n",
      "z: 8\n",
      "Y: 6\n",
      "L: 11\n",
      "Д: 32\n",
      "E: 6\n",
      "K: 6\n",
      "j: 2\n",
      "У: 5\n",
      "Q: 4\n",
      "Я: 3\n",
      "З: 11\n",
      "Ю: 1\n",
      "*: 4\n",
      "—: 4\n",
      "ё: 4\n",
      "!: 1\n",
      "Ж: 1\n",
      "[: 1\n",
      "]: 1\n",
      "In total 142 unique symbols, max freq= 919\n"
     ]
    }
   ],
   "source": [
    "for key,val in symFreqs.items():\n",
    "    print(f\"{key}: {val}\")\n",
    "print(f\"In total {len(symFreqs)} unique symbols, max freq= {max([val for val in symFreqs.values()])}\")"
   ]
  },
  {
   "cell_type": "markdown",
   "metadata": {},
   "source": [
    "### Строим Кодер и Декодер Хаффмана"
   ]
  },
  {
   "cell_type": "markdown",
   "metadata": {},
   "source": [
    "Это хорошее упражнение для ценителей алгоритмов, но давайте сократим себе время и попробуем адаптировать одну из [доступных реализаций](https://www.geeksforgeeks.org/huffman-coding-in-python/) под наш сценарий, обернув в привычную классовую структуру и сохранив максимальную представленность самого алгоритма."
   ]
  },
  {
   "cell_type": "code",
   "execution_count": 6,
   "metadata": {},
   "outputs": [
    {
     "name": "stdout",
     "output_type": "stream",
     "text": [
      "Character: f, Code: 0\n",
      "Character: a, Code: 1000\n",
      "Character: b, Code: 1001\n",
      "Character: c, Code: 101\n",
      "Character: d, Code: 110\n",
      "Character: e, Code: 111\n"
     ]
    }
   ],
   "source": [
    "#taken from https://www.geeksforgeeks.org/huffman-coding-in-python/\n",
    "class Node:\n",
    "    def __init__(self, symbol=None, frequency=None):\n",
    "        #print(\"CREATING\", symbol, frequency)\n",
    "        self.symbol = symbol\n",
    "        self.frequency = frequency\n",
    "        self.left = None\n",
    "        self.right = None\n",
    "\n",
    "    def __lt__(self, other):\n",
    "        return self.frequency < other.frequency\n",
    "\n",
    "def build_huffman_tree(chars, freq):\n",
    "  \n",
    "    # Create a priority queue of nodes\n",
    "    priority_queue = [Node(char, f) for char, f in zip(chars, freq)]\n",
    "    heapq.heapify(priority_queue)\n",
    "\n",
    "    # Build the Huffman tree\n",
    "    while len(priority_queue) > 1:\n",
    "        left_child = heapq.heappop(priority_queue)\n",
    "        right_child = heapq.heappop(priority_queue)\n",
    "        merged_node = Node(frequency=left_child.frequency + right_child.frequency)\n",
    "        merged_node.left = left_child\n",
    "        merged_node.right = right_child\n",
    "        heapq.heappush(priority_queue, merged_node)\n",
    "\n",
    "    return priority_queue[0]\n",
    "\n",
    "def generate_huffman_codes(node, code=\"\", huffman_codes={}):\n",
    "    if node is not None:\n",
    "        if node.symbol is not None:\n",
    "            huffman_codes[node.symbol] = code\n",
    "        else:\n",
    "            generate_huffman_codes(node.left, code + \"0\", huffman_codes)\n",
    "            generate_huffman_codes(node.right, code + \"1\", huffman_codes)\n",
    "\n",
    "    return huffman_codes\n",
    "\n",
    "def runTest():\n",
    "    # Given example (try it to test)\n",
    "    chars = ['a', 'b', 'c', 'd', 'e', 'f']\n",
    "    freq = [4, 7, 15, 17, 22, 42]\n",
    "\n",
    "    # Build the Huffman tree\n",
    "    root = build_huffman_tree(chars, freq)\n",
    "\n",
    "    # Generate Huffman codes\n",
    "    huffman_codes = generate_huffman_codes(root)\n",
    "\n",
    "    # Print Huffman codes\n",
    "    for char, code in huffman_codes.items():\n",
    "        print(f\"Character: {char}, Code: {code}\")\n",
    "        \n",
    "runTest()"
   ]
  },
  {
   "cell_type": "markdown",
   "metadata": {},
   "source": [
    "Надеемся, что этот код заработал.... Теперь напишем кодер, используя эту технологию."
   ]
  },
  {
   "cell_type": "code",
   "execution_count": 7,
   "metadata": {},
   "outputs": [],
   "source": [
    "class HuffmanCoderDecoder:\n",
    "    \n",
    "    def __init__(self,symbolProbaTable):\n",
    "        \"\"\"_summary_\n",
    "\n",
    "        Args:\n",
    "            symbolProbaTable (dict): a dict with symbol(keys) and probabilities (val)\n",
    "        \"\"\" \n",
    "        self.symbols = list(symbolProbaTable.keys())\n",
    "        self.probas = list(symbolProbaTable.values())\n",
    "        self.symbolProbaTable = symbolProbaTable\n",
    "        self.root = None\n",
    "        self.fit()\n",
    "\n",
    "        \n",
    "    def fit(self):\n",
    "        \"\"\"\n",
    "        Sets up encoder and decoder tables\n",
    "        \"\"\"        \n",
    "        self.root = build_huffman_tree(self.symbols, self.probas)\n",
    "\n",
    "        huffman_codes = generate_huffman_codes(self.root)\n",
    "    \n",
    "        self.encoderTable = {str(i) : str(j) for i, j in huffman_codes.items()}\n",
    "        self.decoderTable = {str(j) : str(i) for i, j in huffman_codes.items()}\n",
    "                \n",
    "    def encode(self, text):\n",
    "        \"\"\"Encodes the text and returns encoded text\n",
    "\n",
    "        Args:\n",
    "            text (str): text to encode\n",
    "        Returns:\n",
    "            encodedText (str): encoded text\n",
    "        \"\"\"\n",
    "        \n",
    "        encoded = []\n",
    "        \n",
    "        for i in text:\n",
    "            encoded.append(self.encoderTable[i])\n",
    "        \n",
    "        return ''.join(encoded)\n",
    "    \n",
    "    def decode(self, text):\n",
    "        \"\"\"Decodes the encoded text and returns decoded text\n",
    "\n",
    "        Args:\n",
    "            text (str): text to decode\n",
    "        Returns:\n",
    "            decodedText (str): decoded text\n",
    "        \"\"\" \n",
    "        decoded = []\n",
    "        node = self.root\n",
    "        \n",
    "        for bit in text:\n",
    "            if bit == '0':\n",
    "                node = node.left\n",
    "            else:\n",
    "                node = node.right\n",
    "\n",
    "            if node.left is None and node.right is None:\n",
    "                decoded.append(node.symbol)\n",
    "                node = self.root\n",
    "\n",
    "        return ''.join(decoded)"
   ]
  },
  {
   "cell_type": "code",
   "execution_count": 8,
   "metadata": {},
   "outputs": [],
   "source": [
    "textSample = MOText[:200]\n",
    "\n",
    "huff = HuffmanCoderDecoder(symFreqs)\n",
    "\n",
    "encText = huff.encode(textSample)\n",
    "\n",
    "decText = huff.decode(encText)"
   ]
  },
  {
   "cell_type": "code",
   "execution_count": 9,
   "metadata": {},
   "outputs": [
    {
     "name": "stdout",
     "output_type": "stream",
     "text": [
      "000110001010111111000001111011110111110100100111110110101001110111010101001111000000100100011010010101010110001111111111001001000110011101000001011111000000100101010101010101010010010010001101001000111011011001100110011100110000110010010101010100100100100100100100100011010000011101101001001011001111111110010100110000111110111000101001000011000110111000111100111001100001010101010010010010010010010010001101000001110110111001100011101000111100000111100101011001110001101010101001001001001001001001000110100000111011101111100110110010011000110000000110001000100111100010011100011010101010010010010010010010010001101000001111101101101001011001011000101110111000011100101011001101111110001001100010001011101111110010100111100000110101010011111101100000100111101111111001110101010100100100100100100100100011010000011101111111110010110010110001011101110000111001010110000110110010010111101010000100110000101011100100101111100000101101010101010\n"
     ]
    }
   ],
   "source": [
    "print(encText)"
   ]
  },
  {
   "cell_type": "code",
   "execution_count": 10,
   "metadata": {},
   "outputs": [
    {
     "name": "stdout",
     "output_type": "stream",
     "text": [
      "Машинное обучение 1\n",
      "\n",
      "Содержание\n",
      "\n",
      "\n",
      "\n",
      "    1 О курсе\n",
      "\n",
      "        1.1 Полезные ссылки\n",
      "\n",
      "        1.2 Семинары\n",
      "\n",
      "        1.3 Ассистенты\n",
      "\n",
      "        1.4 Правила выставления оценок\n",
      "\n",
      "        1.5 Правила сдачи заданий\n",
      "\n",
      "\n"
     ]
    }
   ],
   "source": [
    "print(decText)"
   ]
  },
  {
   "cell_type": "code",
   "execution_count": 11,
   "metadata": {},
   "outputs": [
    {
     "name": "stdout",
     "output_type": "stream",
     "text": [
      "Машинное обучение 1\n",
      "\n",
      "Содержание\n",
      "\n",
      "\n",
      "\n",
      "    1 О курсе\n",
      "\n",
      "        1.1 Полезные ссылки\n",
      "\n",
      "        1.2 Семинары\n",
      "\n",
      "        1.3 Ассистенты\n",
      "\n",
      "        1.4 Правила выставления оценок\n",
      "\n",
      "        1.5 Правила сдачи заданий\n",
      "\n",
      "\n"
     ]
    }
   ],
   "source": [
    "print(textSample)"
   ]
  },
  {
   "cell_type": "markdown",
   "metadata": {},
   "source": [
    "Вычислите, какое получилось сжатие"
   ]
  },
  {
   "cell_type": "code",
   "execution_count": 12,
   "metadata": {},
   "outputs": [
    {
     "name": "stdout",
     "output_type": "stream",
     "text": [
      "Compression(%):  261.5548455804047\n"
     ]
    }
   ],
   "source": [
    "print(\"Compression(%): \",len(textSample.encode('utf-8'))*8/len(encText)*100)"
   ]
  },
  {
   "cell_type": "markdown",
   "metadata": {},
   "source": [
    "Поздравляем, вы сделали простой алгоритм сжатия) .... если у вас больше 100%"
   ]
  },
  {
   "cell_type": "markdown",
   "metadata": {},
   "source": [
    "### Исследуем, как хорошо себя ведёт код при смене текста\n",
    "\n",
    "Сравните написанный кодер на двух понравившихся вам текстах на разные темы (возьмите по масштабу что-то похожее на страницу МО).\n",
    "\n",
    "1. Для чистоты эксперимента очистите оба текста от символов, которых нет в другом тексте\n",
    "2. Посчитайте таблицу частот для каждого из текстов\n",
    "3. Обучите кодер на тексте 1\n",
    "4. Обучите кодер на тексте 2\n",
    "5. Сопоставьте длину (в битах): \n",
    "   1. Текст1, закодированный кодером 1\n",
    "   2. Текст2, закодированный кодером 1\n",
    "   3. Текст1, закодированный кодером 2\n",
    "   4. Текст2, закодированный кодером 2\n",
    "6. Посчитайте KL-дивергенцию и кроссэнтропию в обе стороны между частотами кодера1 и кодера2\n",
    "\n",
    "Прокомментируйте результат.\n",
    "\n",
    "Не забудьте приложить к решению ваших два текстовых файла."
   ]
  },
  {
   "cell_type": "code",
   "execution_count": 13,
   "metadata": {},
   "outputs": [],
   "source": [
    "with open(\"DLinSoundProcessing.txt\",\"r\", encoding=\"utf-8\") as f:\n",
    "    text1 = \"\\n\".join(f.readlines())\n",
    "    \n",
    "with open(\"BorisGodunovLibretto.txt\",\"r\", encoding=\"utf-8\") as f:\n",
    "    text2 = \"\\n\".join(f.readlines())"
   ]
  },
  {
   "cell_type": "code",
   "execution_count": 14,
   "metadata": {},
   "outputs": [
    {
     "name": "stdout",
     "output_type": "stream",
     "text": [
      "1704\n",
      "2713\n"
     ]
    }
   ],
   "source": [
    "print(len(text1))\n",
    "print(len(text2))"
   ]
  },
  {
   "cell_type": "code",
   "execution_count": 15,
   "metadata": {},
   "outputs": [],
   "source": [
    "def do(text):\n",
    "    d = collections.OrderedDict()\n",
    "\n",
    "    for i in text:\n",
    "        if i not in d:\n",
    "            d[i] = 1\n",
    "        else:\n",
    "            d[i] += 1\n",
    "\n",
    "\n",
    "    symFreqs = d\n",
    "    \n",
    "    huff = HuffmanCoderDecoder(symFreqs)\n",
    "\n",
    "    return symFreqs, huff\n",
    "\n",
    "\n",
    "symFreqs1, huff1 = do(text1)\n",
    "symFreqs2, huff2 = do(text2)"
   ]
  },
  {
   "cell_type": "code",
   "execution_count": 16,
   "metadata": {},
   "outputs": [],
   "source": [
    "# Для чистоты эксперимента очистите оба текста от символов, которых нет в другом тексте\n",
    "\n",
    "text1 = ''.join(c for c in text1 if c not in set(huff1.symbols).difference(set(huff2.symbols)))\n",
    "text2 = ''.join(c for c in text2 if c not in set(huff2.symbols).difference(set(huff1.symbols)))\n",
    "\n",
    "symFreqs1, huff1 = do(text1)\n",
    "symFreqs2, huff2 = do(text2)"
   ]
  },
  {
   "cell_type": "code",
   "execution_count": 17,
   "metadata": {},
   "outputs": [
    {
     "name": "stdout",
     "output_type": "stream",
     "text": [
      "1388\n",
      "2667\n"
     ]
    }
   ],
   "source": [
    "print(len(text1))\n",
    "print(len(text2))"
   ]
  },
  {
   "cell_type": "code",
   "execution_count": 18,
   "metadata": {},
   "outputs": [],
   "source": [
    "def CE(base_symFreqs, new_symFreqs):\n",
    "    sm = 0\n",
    "    \n",
    "    sum_of_base_freqs = np.sum([i for i in base_symFreqs.values()])\n",
    "    sum_of_new_freqs = np.sum([i for i in new_symFreqs.values()])\n",
    "\n",
    "    for letter, new_freq in new_symFreqs.items():\n",
    "        \n",
    "        base_freq = base_symFreqs[letter]\n",
    "        \n",
    "        sm += np.log2(base_freq / sum_of_base_freqs) * new_freq / sum_of_new_freqs\n",
    "        \n",
    "    return - sm"
   ]
  },
  {
   "cell_type": "code",
   "execution_count": 19,
   "metadata": {},
   "outputs": [],
   "source": [
    "H1 = CE(symFreqs1, symFreqs1)\n",
    "CE_from2_to1 = CE(symFreqs2, symFreqs1)\n",
    "\n",
    "H2 = CE(symFreqs2, symFreqs2)\n",
    "CE_from1_to2 = CE(symFreqs1, symFreqs2)"
   ]
  },
  {
   "cell_type": "code",
   "execution_count": 20,
   "metadata": {},
   "outputs": [
    {
     "name": "stdout",
     "output_type": "stream",
     "text": [
      "KL(text1 | text2)=0.1819662094368386\n",
      "KL(text2 | text1)=0.1941041938885597\n",
      "CE(text1 | text2)=4.8480891586354655\n",
      "CE(text2 | text1)=5.030592386830515\n",
      "H(text1)=4.666122949198627\n",
      "H(text2)=4.836488192941955\n"
     ]
    }
   ],
   "source": [
    "print( f\"KL(text1 | text2)={CE_from2_to1 - H1}\" )\n",
    "print( f\"KL(text2 | text1)={CE_from1_to2 - H2}\" )\n",
    "print( f\"CE(text1 | text2)={CE_from2_to1}\" )\n",
    "print( f\"CE(text2 | text1)={CE_from1_to2}\" )\n",
    "print( f\"H(text1)={H1}\" )\n",
    "print( f\"H(text2)={H2}\" )"
   ]
  },
  {
   "cell_type": "code",
   "execution_count": 21,
   "metadata": {},
   "outputs": [
    {
     "name": "stdout",
     "output_type": "stream",
     "text": [
      "Coding with text1: text1Len=6515, text2Len=13456\n",
      "Coding with text2: text1Len=6749, text2Len=12973\n"
     ]
    }
   ],
   "source": [
    "print(f\"Coding with text1: text1Len={len(huff1.encode(text1))}, text2Len={len(huff1.encode(text2))}\") \n",
    "print(f\"Coding with text2: text1Len={len(huff2.encode(text1))}, text2Len={len(huff2.encode(text2))}\") "
   ]
  },
  {
   "cell_type": "code",
   "execution_count": 22,
   "metadata": {},
   "outputs": [
    {
     "data": {
      "image/png": "[encoded data removed]"
     },
     "metadata": {},
     "output_type": "display_data"
    }
   ],
   "source": [
    "import pandas as pd\n",
    "\n",
    "df1 = pd.DataFrame({'symbol': list(symFreqs1.keys()), 'count': list(symFreqs1.values())})\n",
    "df2 = pd.DataFrame({'symbol': list(symFreqs2.keys()), 'count': list(symFreqs2.values())})\n",
    "\n",
    "fig = go.Figure()\n",
    "\n",
    "fig.add_trace(go.Bar(x=df1['symbol'], y=df1['count'], name='text 1'))\n",
    "fig.add_trace(go.Bar(x=df2['symbol'], y=df2['count'], name='text 2'))\n",
    "\n",
    "fig.update_yaxes(title='count')\n",
    "\n",
    "fig.show(renderer='png')"
   ]
  }
 ],
 "metadata": {
  "colab": {
   "collapsed_sections": [
    "ZGDzE6YO9zYe",
    "g4hbID4f_ZW7",
    "ZDNXyjtgAdnv",
    "75QeT2ShA1KU"
   ],
   "provenance": []
  },
  "kernelspec": {
   "display_name": "Python 3 (ipykernel)",
   "language": "python",
   "name": "python3"
  },
  "language_info": {
   "codemirror_mode": {
    "name": "ipython",
    "version": 3
   },
   "file_extension": ".py",
   "mimetype": "text/x-python",
   "name": "python",
   "nbconvert_exporter": "python",
   "pygments_lexer": "ipython3",
   "version": "3.11.7"
  }
 },
 "nbformat": 4,
 "nbformat_minor": 1
}
